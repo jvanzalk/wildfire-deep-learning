{
 "cells": [
  {
   "cell_type": "code",
   "execution_count": 1,
   "metadata": {},
   "outputs": [],
   "source": [
    "# Dependencies\n",
    "import pandas as pd\n",
    "import numpy as np\n",
    "import matplotlib.pyplot as plt\n",
    "import seaborn as sns\n",
    "\n",
    "from sklearn.model_selection import train_test_split\n",
    "from sklearn import metrics\n",
    "\n",
    "from sklearn.linear_model import LinearRegression\n",
    "\n",
    "from sklearn.preprocessing import MinMaxScaler\n",
    "from tensorflow.keras.models import Sequential\n",
    "from tensorflow.keras.layers import Dense,Dropout # Feed forward network where every neuron in one layer is connected to to the next\n",
    "from tensorflow.keras.callbacks import EarlyStopping"
   ]
  },
  {
   "cell_type": "code",
   "execution_count": 70,
   "metadata": {},
   "outputs": [
    {
     "data": {
      "text/html": [
       "<div>\n",
       "<style scoped>\n",
       "    .dataframe tbody tr th:only-of-type {\n",
       "        vertical-align: middle;\n",
       "    }\n",
       "\n",
       "    .dataframe tbody tr th {\n",
       "        vertical-align: top;\n",
       "    }\n",
       "\n",
       "    .dataframe thead th {\n",
       "        text-align: right;\n",
       "    }\n",
       "</style>\n",
       "<table border=\"1\" class=\"dataframe\">\n",
       "  <thead>\n",
       "    <tr style=\"text-align: right;\">\n",
       "      <th></th>\n",
       "      <th>year</th>\n",
       "      <th>lat</th>\n",
       "      <th>long</th>\n",
       "      <th>ha</th>\n",
       "      <th>month</th>\n",
       "    </tr>\n",
       "  </thead>\n",
       "  <tbody>\n",
       "    <tr>\n",
       "      <td>0</td>\n",
       "      <td>2012</td>\n",
       "      <td>52.745783</td>\n",
       "      <td>-124.376983</td>\n",
       "      <td>1.821714</td>\n",
       "      <td>7</td>\n",
       "    </tr>\n",
       "    <tr>\n",
       "      <td>1</td>\n",
       "      <td>2012</td>\n",
       "      <td>52.697483</td>\n",
       "      <td>-123.010117</td>\n",
       "      <td>1.404344</td>\n",
       "      <td>7</td>\n",
       "    </tr>\n",
       "    <tr>\n",
       "      <td>2</td>\n",
       "      <td>2012</td>\n",
       "      <td>53.052650</td>\n",
       "      <td>-122.967000</td>\n",
       "      <td>2.017443</td>\n",
       "      <td>10</td>\n",
       "    </tr>\n",
       "    <tr>\n",
       "      <td>3</td>\n",
       "      <td>2012</td>\n",
       "      <td>52.512883</td>\n",
       "      <td>-122.443817</td>\n",
       "      <td>1.570430</td>\n",
       "      <td>3</td>\n",
       "    </tr>\n",
       "    <tr>\n",
       "      <td>4</td>\n",
       "      <td>2012</td>\n",
       "      <td>52.127933</td>\n",
       "      <td>-121.915067</td>\n",
       "      <td>1.790777</td>\n",
       "      <td>4</td>\n",
       "    </tr>\n",
       "  </tbody>\n",
       "</table>\n",
       "</div>"
      ],
      "text/plain": [
       "   year        lat        long        ha  month\n",
       "0  2012  52.745783 -124.376983  1.821714      7\n",
       "1  2012  52.697483 -123.010117  1.404344      7\n",
       "2  2012  53.052650 -122.967000  2.017443     10\n",
       "3  2012  52.512883 -122.443817  1.570430      3\n",
       "4  2012  52.127933 -121.915067  1.790777      4"
      ]
     },
     "execution_count": 70,
     "metadata": {},
     "output_type": "execute_result"
    }
   ],
   "source": [
    "# Read in cleaned data\n",
    "df = pd.read_csv('Data/fires_cleaned.csv')\n",
    "df.head()"
   ]
  },
  {
   "cell_type": "code",
   "execution_count": 3,
   "metadata": {},
   "outputs": [],
   "source": [
    "# Seperate features and target variables\n",
    "X = df[['year', 'month', 'lat','long']].values\n",
    "y = df['ha'].values"
   ]
  },
  {
   "cell_type": "code",
   "execution_count": 4,
   "metadata": {},
   "outputs": [],
   "source": [
    "# Split data into training and testing groups\n",
    "# random_state ensures the same random split every time\n",
    "X_train, X_test, y_train, y_test = train_test_split(X, y, test_size=0.4, random_state=101)"
   ]
  },
  {
   "cell_type": "markdown",
   "metadata": {},
   "source": [
    "## Simple Multi Linear Regression"
   ]
  },
  {
   "cell_type": "code",
   "execution_count": 5,
   "metadata": {},
   "outputs": [
    {
     "data": {
      "text/plain": [
       "LinearRegression(copy_X=True, fit_intercept=True, n_jobs=None, normalize=False)"
      ]
     },
     "execution_count": 5,
     "metadata": {},
     "output_type": "execute_result"
    }
   ],
   "source": [
    "# fit a linear regression model to the training data\n",
    "lm = LinearRegression()\n",
    "lm.fit(X_train,y_train)"
   ]
  },
  {
   "cell_type": "code",
   "execution_count": 6,
   "metadata": {},
   "outputs": [
    {
     "data": {
      "text/plain": [
       "array([2.00344644, 2.44999441, 2.57947814, 2.18600943, 2.26504663])"
      ]
     },
     "execution_count": 6,
     "metadata": {},
     "output_type": "execute_result"
    }
   ],
   "source": [
    "# Make predictions\n",
    "predictions = lm.predict(X_test)\n",
    "predictions[0:5]"
   ]
  },
  {
   "cell_type": "code",
   "execution_count": 7,
   "metadata": {},
   "outputs": [
    {
     "data": {
      "text/plain": [
       "<matplotlib.collections.PathCollection at 0x2833d9f7f88>"
      ]
     },
     "execution_count": 7,
     "metadata": {},
     "output_type": "execute_result"
    },
    {
     "data": {
      "image/png": "[encoded data removed]",
      "text/plain": [
       "<Figure size 432x288 with 1 Axes>"
      ]
     },
     "metadata": {
      "needs_background": "light"
     },
     "output_type": "display_data"
    }
   ],
   "source": [
    "# This model has a very weak fit. Ideally, thr points should be close together and form diagonal line\n",
    "# This is unsuprsing though because if it was easy to predict wildfires from these simple features, they wouldn't be a problem\n",
    "plt.scatter(y_test,predictions)"
   ]
  },
  {
   "cell_type": "code",
   "execution_count": 8,
   "metadata": {},
   "outputs": [
    {
     "data": {
      "text/plain": [
       "<AxesSubplot:>"
      ]
     },
     "execution_count": 8,
     "metadata": {},
     "output_type": "execute_result"
    },
    {
     "data": {
      "image/png": "[encoded data removed]",
      "text/plain": [
       "<Figure size 432x288 with 1 Axes>"
      ]
     },
     "metadata": {
      "needs_background": "light"
     },
     "output_type": "display_data"
    }
   ],
   "source": [
    "#histogram of residuals (diff between actual and predicted values)\n",
    "# residuals are distributed fairly normally so lin model was correct\n",
    "sns.distplot((y_test-predictions))"
   ]
  },
  {
   "cell_type": "code",
   "execution_count": 9,
   "metadata": {},
   "outputs": [
    {
     "data": {
      "text/plain": [
       "0.47715735044103846"
      ]
     },
     "execution_count": 9,
     "metadata": {},
     "output_type": "execute_result"
    }
   ],
   "source": [
    "# Mean absolute error (average difference between true and predicted)\n",
    "metrics.mean_absolute_error(y_test,predictions)"
   ]
  },
  {
   "cell_type": "markdown",
   "metadata": {},
   "source": [
    "## Regression with Tensorflow"
   ]
  },
  {
   "cell_type": "code",
   "execution_count": 10,
   "metadata": {},
   "outputs": [
    {
     "data": {
      "text/plain": [
       "0.0"
      ]
     },
     "execution_count": 10,
     "metadata": {},
     "output_type": "execute_result"
    }
   ],
   "source": [
    "# Avoid issues with weights and biases by normalizing features\n",
    "scaler = MinMaxScaler()\n",
    "scaler.fit(X_train)\n",
    "X_train = scaler.transform(X_train)\n",
    "X_test = scaler.transform(X_test)\n",
    "X_train.min()"
   ]
  },
  {
   "cell_type": "code",
   "execution_count": 11,
   "metadata": {},
   "outputs": [
    {
     "data": {
      "text/plain": [
       "(661, 4)"
      ]
     },
     "execution_count": 11,
     "metadata": {},
     "output_type": "execute_result"
    }
   ],
   "source": [
    "# Create sequential model\n",
    "# Base number of neurons on size of feature data\n",
    "X_train.shape"
   ]
  },
  {
   "cell_type": "code",
   "execution_count": 26,
   "metadata": {},
   "outputs": [],
   "source": [
    "# Pass list of layers\n",
    "# 4 features-> neurons \n",
    "model = Sequential()\n",
    "\n",
    "model.add(Dense(4,activation='relu'))# relu is <0 = 0, >0 = actual\n",
    "# model.add(Dropout(0.25))# % neurons you're turning off turing training\n",
    "\n",
    "model.add(Dense(4,activation='relu'))\n",
    "# model.add(Dropout(0.25))\n",
    "\n",
    "model.add(Dense(4,activation='relu'))\n",
    "# model.add(Dropout(0.25))\n",
    "\n",
    "model.add(Dense(1)) # final output (single ha value)\n",
    "\n",
    "model.compile(optimizer='adam',loss='mse')"
   ]
  },
  {
   "cell_type": "code",
   "execution_count": 27,
   "metadata": {},
   "outputs": [],
   "source": [
    "# Use callbacks to stop training when loss begins to increase\n",
    "early_stop = EarlyStopping(monitor='val_loss',mode='min',verbose=1,patience=20)# minimize loss"
   ]
  },
  {
   "cell_type": "code",
   "execution_count": 28,
   "metadata": {
    "scrolled": true
   },
   "outputs": [
    {
     "name": "stdout",
     "output_type": "stream",
     "text": [
      "Epoch 1/500\n",
      "21/21 [==============================] - 1s 16ms/step - loss: 6.2390 - val_loss: 5.3678\n",
      "Epoch 2/500\n",
      "21/21 [==============================] - 0s 7ms/step - loss: 5.4685 - val_loss: 5.0328\n",
      "Epoch 3/500\n",
      "21/21 [==============================] - 0s 6ms/step - loss: 5.0984 - val_loss: 4.8239\n",
      "Epoch 4/500\n",
      "21/21 [==============================] - 0s 5ms/step - loss: 5.0615 - val_loss: 4.6703\n",
      "Epoch 5/500\n",
      "21/21 [==============================] - 0s 5ms/step - loss: 4.8148 - val_loss: 4.5389\n",
      "Epoch 6/500\n",
      "21/21 [==============================] - 0s 6ms/step - loss: 4.6820 - val_loss: 4.3734\n",
      "Epoch 7/500\n",
      "21/21 [==============================] - 0s 7ms/step - loss: 4.4901 - val_loss: 4.1363\n",
      "Epoch 8/500\n",
      "21/21 [==============================] - 0s 6ms/step - loss: 4.2162 - val_loss: 3.8609\n",
      "Epoch 9/500\n",
      "21/21 [==============================] - 0s 6ms/step - loss: 3.8832 - val_loss: 3.5569\n",
      "Epoch 10/500\n",
      "21/21 [==============================] - 0s 6ms/step - loss: 3.7767 - val_loss: 3.1935\n",
      "Epoch 11/500\n",
      "21/21 [==============================] - 0s 6ms/step - loss: 3.2354 - val_loss: 2.7466\n",
      "Epoch 12/500\n",
      "21/21 [==============================] - 0s 6ms/step - loss: 2.7048 - val_loss: 2.2392\n",
      "Epoch 13/500\n",
      "21/21 [==============================] - 0s 7ms/step - loss: 2.1919 - val_loss: 1.7033\n",
      "Epoch 14/500\n",
      "21/21 [==============================] - 0s 9ms/step - loss: 1.6767 - val_loss: 1.1935\n",
      "Epoch 15/500\n",
      "21/21 [==============================] - 0s 6ms/step - loss: 1.1501 - val_loss: 0.7929\n",
      "Epoch 16/500\n",
      "21/21 [==============================] - 0s 7ms/step - loss: 0.7527 - val_loss: 0.5336\n",
      "Epoch 17/500\n",
      "21/21 [==============================] - 0s 7ms/step - loss: 0.4329 - val_loss: 0.4114\n",
      "Epoch 18/500\n",
      "21/21 [==============================] - 0s 7ms/step - loss: 0.3447 - val_loss: 0.3730\n",
      "Epoch 19/500\n",
      "21/21 [==============================] - 0s 7ms/step - loss: 0.3449 - val_loss: 0.3648\n",
      "Epoch 20/500\n",
      "21/21 [==============================] - 0s 8ms/step - loss: 0.3276 - val_loss: 0.3635\n",
      "Epoch 21/500\n",
      "21/21 [==============================] - 0s 7ms/step - loss: 0.3333 - val_loss: 0.3606\n",
      "Epoch 22/500\n",
      "21/21 [==============================] - 0s 7ms/step - loss: 0.3406 - val_loss: 0.3570\n",
      "Epoch 23/500\n",
      "21/21 [==============================] - 0s 11ms/step - loss: 0.3221 - val_loss: 0.3551\n",
      "Epoch 24/500\n",
      "21/21 [==============================] - 0s 8ms/step - loss: 0.3149 - val_loss: 0.3541\n",
      "Epoch 25/500\n",
      "21/21 [==============================] - 0s 6ms/step - loss: 0.3565 - val_loss: 0.3525\n",
      "Epoch 26/500\n",
      "21/21 [==============================] - 0s 7ms/step - loss: 0.3400 - val_loss: 0.3500\n",
      "Epoch 27/500\n",
      "21/21 [==============================] - 0s 6ms/step - loss: 0.3351 - val_loss: 0.3499\n",
      "Epoch 28/500\n",
      "21/21 [==============================] - 0s 7ms/step - loss: 0.3308 - val_loss: 0.3490\n",
      "Epoch 29/500\n",
      "21/21 [==============================] - 0s 6ms/step - loss: 0.3059 - val_loss: 0.3483\n",
      "Epoch 30/500\n",
      "21/21 [==============================] - 0s 7ms/step - loss: 0.3201 - val_loss: 0.3469\n",
      "Epoch 31/500\n",
      "21/21 [==============================] - 0s 6ms/step - loss: 0.3241 - val_loss: 0.3464\n",
      "Epoch 32/500\n",
      "21/21 [==============================] - 0s 11ms/step - loss: 0.3343 - val_loss: 0.3455\n",
      "Epoch 33/500\n",
      "21/21 [==============================] - 0s 12ms/step - loss: 0.3187 - val_loss: 0.3452\n",
      "Epoch 34/500\n",
      "21/21 [==============================] - 0s 11ms/step - loss: 0.3273 - val_loss: 0.3435\n",
      "Epoch 35/500\n",
      "21/21 [==============================] - 0s 9ms/step - loss: 0.3198 - val_loss: 0.3435\n",
      "Epoch 36/500\n",
      "21/21 [==============================] - 0s 9ms/step - loss: 0.3122 - val_loss: 0.3427\n",
      "Epoch 37/500\n",
      "21/21 [==============================] - 0s 8ms/step - loss: 0.2943 - val_loss: 0.3419\n",
      "Epoch 38/500\n",
      "21/21 [==============================] - 0s 7ms/step - loss: 0.3226 - val_loss: 0.3411\n",
      "Epoch 39/500\n",
      "21/21 [==============================] - 0s 7ms/step - loss: 0.3207 - val_loss: 0.3409\n",
      "Epoch 40/500\n",
      "21/21 [==============================] - 0s 5ms/step - loss: 0.2960 - val_loss: 0.3397\n",
      "Epoch 41/500\n",
      "21/21 [==============================] - 0s 7ms/step - loss: 0.3192 - val_loss: 0.3396\n",
      "Epoch 42/500\n",
      "21/21 [==============================] - 0s 7ms/step - loss: 0.3188 - val_loss: 0.3385\n",
      "Epoch 43/500\n",
      "21/21 [==============================] - 0s 11ms/step - loss: 0.3299 - val_loss: 0.3378\n",
      "Epoch 44/500\n",
      "21/21 [==============================] - 0s 7ms/step - loss: 0.2952 - val_loss: 0.3374\n",
      "Epoch 45/500\n",
      "21/21 [==============================] - 0s 7ms/step - loss: 0.3069 - val_loss: 0.3369\n",
      "Epoch 46/500\n",
      "21/21 [==============================] - 0s 11ms/step - loss: 0.2927 - val_loss: 0.3364\n",
      "Epoch 47/500\n",
      "21/21 [==============================] - 0s 10ms/step - loss: 0.3117 - val_loss: 0.3360\n",
      "Epoch 48/500\n",
      "21/21 [==============================] - 0s 10ms/step - loss: 0.3054 - val_loss: 0.3351\n",
      "Epoch 49/500\n",
      "21/21 [==============================] - 0s 7ms/step - loss: 0.3113 - val_loss: 0.3347\n",
      "Epoch 50/500\n",
      "21/21 [==============================] - 0s 5ms/step - loss: 0.3337 - val_loss: 0.3336\n",
      "Epoch 51/500\n",
      "21/21 [==============================] - 0s 7ms/step - loss: 0.3006 - val_loss: 0.3334\n",
      "Epoch 52/500\n",
      "21/21 [==============================] - 0s 6ms/step - loss: 0.3115 - val_loss: 0.3335\n",
      "Epoch 53/500\n",
      "21/21 [==============================] - 0s 7ms/step - loss: 0.3168 - val_loss: 0.3330\n",
      "Epoch 54/500\n",
      "21/21 [==============================] - 0s 9ms/step - loss: 0.3248 - val_loss: 0.3324\n",
      "Epoch 55/500\n",
      "21/21 [==============================] - 0s 9ms/step - loss: 0.3120 - val_loss: 0.3309\n",
      "Epoch 56/500\n",
      "21/21 [==============================] - 0s 7ms/step - loss: 0.3156 - val_loss: 0.3330\n",
      "Epoch 57/500\n",
      "21/21 [==============================] - 0s 6ms/step - loss: 0.3262 - val_loss: 0.3303\n",
      "Epoch 58/500\n",
      "21/21 [==============================] - 0s 6ms/step - loss: 0.3178 - val_loss: 0.3301\n",
      "Epoch 59/500\n",
      "21/21 [==============================] - 0s 6ms/step - loss: 0.3308 - val_loss: 0.3294\n",
      "Epoch 60/500\n",
      "21/21 [==============================] - 0s 6ms/step - loss: 0.3209 - val_loss: 0.3296\n",
      "Epoch 61/500\n",
      "21/21 [==============================] - 0s 5ms/step - loss: 0.3312 - val_loss: 0.3297\n",
      "Epoch 62/500\n",
      "21/21 [==============================] - 0s 5ms/step - loss: 0.3365 - val_loss: 0.3294\n",
      "Epoch 63/500\n",
      "21/21 [==============================] - 0s 8ms/step - loss: 0.3099 - val_loss: 0.3287\n",
      "Epoch 64/500\n",
      "21/21 [==============================] - 0s 7ms/step - loss: 0.2980 - val_loss: 0.3286\n",
      "Epoch 65/500\n",
      "21/21 [==============================] - ETA: 0s - loss: 0.331 - 0s 10ms/step - loss: 0.3288 - val_loss: 0.3284\n",
      "Epoch 66/500\n",
      "21/21 [==============================] - 0s 11ms/step - loss: 0.2888 - val_loss: 0.3267\n",
      "Epoch 67/500\n",
      "21/21 [==============================] - 0s 6ms/step - loss: 0.3272 - val_loss: 0.3267\n",
      "Epoch 68/500\n",
      "21/21 [==============================] - 0s 6ms/step - loss: 0.3035 - val_loss: 0.3278\n",
      "Epoch 69/500\n",
      "21/21 [==============================] - 0s 6ms/step - loss: 0.3303 - val_loss: 0.3265\n",
      "Epoch 70/500\n",
      "21/21 [==============================] - 0s 7ms/step - loss: 0.3086 - val_loss: 0.3260\n",
      "Epoch 71/500\n",
      "21/21 [==============================] - 0s 5ms/step - loss: 0.3071 - val_loss: 0.3256\n",
      "Epoch 72/500\n",
      "21/21 [==============================] - 0s 5ms/step - loss: 0.3062 - val_loss: 0.3261\n",
      "Epoch 73/500\n",
      "21/21 [==============================] - 0s 7ms/step - loss: 0.3162 - val_loss: 0.3257\n",
      "Epoch 74/500\n",
      "21/21 [==============================] - 0s 8ms/step - loss: 0.3108 - val_loss: 0.3257\n",
      "Epoch 75/500\n",
      "21/21 [==============================] - 0s 6ms/step - loss: 0.3041 - val_loss: 0.3250\n",
      "Epoch 76/500\n",
      "21/21 [==============================] - 0s 5ms/step - loss: 0.3243 - val_loss: 0.3240\n",
      "Epoch 77/500\n",
      "21/21 [==============================] - 0s 5ms/step - loss: 0.3002 - val_loss: 0.3245\n",
      "Epoch 78/500\n",
      "21/21 [==============================] - 0s 6ms/step - loss: 0.3099 - val_loss: 0.3245\n",
      "Epoch 79/500\n",
      "21/21 [==============================] - 0s 6ms/step - loss: 0.3062 - val_loss: 0.3240\n",
      "Epoch 80/500\n",
      "21/21 [==============================] - 0s 8ms/step - loss: 0.3163 - val_loss: 0.3232\n",
      "Epoch 81/500\n",
      "21/21 [==============================] - 0s 10ms/step - loss: 0.3010 - val_loss: 0.3246\n",
      "Epoch 82/500\n",
      "21/21 [==============================] - 0s 9ms/step - loss: 0.2838 - val_loss: 0.3229\n",
      "Epoch 83/500\n",
      "21/21 [==============================] - 0s 6ms/step - loss: 0.3138 - val_loss: 0.3231\n",
      "Epoch 84/500\n",
      "21/21 [==============================] - 0s 6ms/step - loss: 0.3155 - val_loss: 0.3229\n",
      "Epoch 85/500\n",
      "21/21 [==============================] - 0s 7ms/step - loss: 0.3187 - val_loss: 0.3221\n",
      "Epoch 86/500\n",
      "21/21 [==============================] - 0s 6ms/step - loss: 0.3090 - val_loss: 0.3218\n",
      "Epoch 87/500\n",
      "21/21 [==============================] - 0s 9ms/step - loss: 0.2863 - val_loss: 0.3219\n",
      "Epoch 88/500\n",
      "21/21 [==============================] - 0s 7ms/step - loss: 0.3073 - val_loss: 0.3222\n",
      "Epoch 89/500\n",
      "21/21 [==============================] - 0s 6ms/step - loss: 0.3280 - val_loss: 0.3230\n",
      "Epoch 90/500\n",
      "21/21 [==============================] - 0s 7ms/step - loss: 0.3157 - val_loss: 0.3205\n",
      "Epoch 91/500\n",
      "21/21 [==============================] - 0s 6ms/step - loss: 0.3114 - val_loss: 0.3233\n",
      "Epoch 92/500\n",
      "21/21 [==============================] - 0s 5ms/step - loss: 0.2940 - val_loss: 0.3206\n",
      "Epoch 93/500\n",
      "21/21 [==============================] - 0s 6ms/step - loss: 0.3283 - val_loss: 0.3209\n",
      "Epoch 94/500\n",
      "21/21 [==============================] - 0s 7ms/step - loss: 0.3059 - val_loss: 0.3207\n",
      "Epoch 95/500\n",
      "21/21 [==============================] - 0s 12ms/step - loss: 0.3335 - val_loss: 0.3214\n",
      "Epoch 96/500\n",
      "21/21 [==============================] - 0s 6ms/step - loss: 0.3144 - val_loss: 0.3197\n",
      "Epoch 97/500\n",
      "21/21 [==============================] - 0s 6ms/step - loss: 0.3192 - val_loss: 0.3214\n",
      "Epoch 98/500\n",
      "21/21 [==============================] - 0s 5ms/step - loss: 0.3116 - val_loss: 0.3203\n",
      "Epoch 99/500\n",
      "21/21 [==============================] - 0s 8ms/step - loss: 0.3165 - val_loss: 0.3193\n",
      "Epoch 100/500\n",
      "21/21 [==============================] - 0s 8ms/step - loss: 0.3159 - val_loss: 0.3213\n",
      "Epoch 101/500\n",
      "21/21 [==============================] - 0s 11ms/step - loss: 0.3391 - val_loss: 0.3199\n",
      "Epoch 102/500\n",
      "21/21 [==============================] - 0s 8ms/step - loss: 0.2889 - val_loss: 0.3203\n",
      "Epoch 103/500\n",
      "21/21 [==============================] - 0s 6ms/step - loss: 0.3167 - val_loss: 0.3197\n",
      "Epoch 104/500\n",
      "21/21 [==============================] - 0s 9ms/step - loss: 0.3225 - val_loss: 0.3196\n",
      "Epoch 105/500\n",
      "21/21 [==============================] - 0s 6ms/step - loss: 0.3098 - val_loss: 0.3198\n",
      "Epoch 106/500\n",
      "21/21 [==============================] - 0s 6ms/step - loss: 0.3017 - val_loss: 0.3201\n",
      "Epoch 107/500\n",
      "21/21 [==============================] - 0s 10ms/step - loss: 0.3161 - val_loss: 0.3199\n",
      "Epoch 108/500\n",
      "21/21 [==============================] - 0s 6ms/step - loss: 0.3156 - val_loss: 0.3184\n",
      "Epoch 109/500\n",
      "21/21 [==============================] - 0s 6ms/step - loss: 0.3076 - val_loss: 0.3202\n",
      "Epoch 110/500\n",
      "21/21 [==============================] - 0s 8ms/step - loss: 0.3245 - val_loss: 0.3180\n",
      "Epoch 111/500\n",
      "21/21 [==============================] - 0s 7ms/step - loss: 0.3084 - val_loss: 0.3194\n",
      "Epoch 112/500\n",
      "21/21 [==============================] - 0s 7ms/step - loss: 0.3095 - val_loss: 0.3199\n",
      "Epoch 113/500\n",
      "21/21 [==============================] - 0s 6ms/step - loss: 0.3080 - val_loss: 0.3177\n",
      "Epoch 114/500\n",
      "21/21 [==============================] - 0s 5ms/step - loss: 0.3208 - val_loss: 0.3190\n",
      "Epoch 115/500\n",
      "21/21 [==============================] - 0s 10ms/step - loss: 0.3099 - val_loss: 0.3176\n",
      "Epoch 116/500\n",
      "21/21 [==============================] - 0s 12ms/step - loss: 0.3054 - val_loss: 0.3196\n",
      "Epoch 117/500\n",
      "21/21 [==============================] - 0s 8ms/step - loss: 0.3075 - val_loss: 0.3184\n",
      "Epoch 118/500\n",
      "21/21 [==============================] - 0s 12ms/step - loss: 0.3114 - val_loss: 0.3180\n",
      "Epoch 119/500\n",
      "21/21 [==============================] - 0s 7ms/step - loss: 0.3103 - val_loss: 0.3182\n",
      "Epoch 120/500\n",
      "21/21 [==============================] - 0s 7ms/step - loss: 0.3018 - val_loss: 0.3173\n",
      "Epoch 121/500\n",
      "21/21 [==============================] - 0s 7ms/step - loss: 0.3045 - val_loss: 0.3178\n",
      "Epoch 122/500\n",
      "21/21 [==============================] - 0s 6ms/step - loss: 0.3079 - val_loss: 0.3195\n",
      "Epoch 123/500\n",
      "21/21 [==============================] - 0s 7ms/step - loss: 0.2984 - val_loss: 0.3173\n",
      "Epoch 124/500\n",
      "21/21 [==============================] - 0s 8ms/step - loss: 0.3059 - val_loss: 0.3185\n",
      "Epoch 125/500\n",
      "21/21 [==============================] - 0s 10ms/step - loss: 0.2998 - val_loss: 0.3183\n",
      "Epoch 126/500\n",
      "21/21 [==============================] - 0s 8ms/step - loss: 0.3245 - val_loss: 0.3182\n",
      "Epoch 127/500\n",
      "21/21 [==============================] - 0s 7ms/step - loss: 0.3007 - val_loss: 0.3174\n",
      "Epoch 128/500\n",
      "21/21 [==============================] - 0s 7ms/step - loss: 0.3182 - val_loss: 0.3171\n",
      "Epoch 129/500\n",
      "21/21 [==============================] - 0s 7ms/step - loss: 0.3158 - val_loss: 0.3177\n",
      "Epoch 130/500\n",
      "21/21 [==============================] - 0s 6ms/step - loss: 0.3241 - val_loss: 0.3179\n",
      "Epoch 131/500\n",
      "21/21 [==============================] - 0s 6ms/step - loss: 0.3023 - val_loss: 0.3176\n",
      "Epoch 132/500\n",
      "21/21 [==============================] - 0s 7ms/step - loss: 0.2928 - val_loss: 0.3171\n",
      "Epoch 133/500\n",
      "21/21 [==============================] - 0s 8ms/step - loss: 0.3060 - val_loss: 0.3180\n",
      "Epoch 134/500\n",
      "21/21 [==============================] - 0s 7ms/step - loss: 0.3142 - val_loss: 0.3180\n",
      "Epoch 135/500\n",
      "21/21 [==============================] - 0s 5ms/step - loss: 0.3098 - val_loss: 0.3173\n",
      "Epoch 136/500\n",
      "21/21 [==============================] - 0s 8ms/step - loss: 0.3046 - val_loss: 0.3185\n",
      "Epoch 137/500\n",
      "21/21 [==============================] - 0s 6ms/step - loss: 0.2978 - val_loss: 0.3175\n",
      "Epoch 138/500\n",
      "21/21 [==============================] - 0s 11ms/step - loss: 0.3256 - val_loss: 0.3172\n",
      "Epoch 139/500\n",
      "21/21 [==============================] - 0s 6ms/step - loss: 0.3032 - val_loss: 0.3180\n",
      "Epoch 140/500\n",
      "21/21 [==============================] - 0s 10ms/step - loss: 0.3075 - val_loss: 0.3173\n",
      "Epoch 141/500\n",
      "21/21 [==============================] - 0s 6ms/step - loss: 0.3063 - val_loss: 0.3172\n",
      "Epoch 142/500\n",
      "21/21 [==============================] - 0s 5ms/step - loss: 0.3295 - val_loss: 0.3177\n",
      "Epoch 143/500\n",
      "21/21 [==============================] - 0s 7ms/step - loss: 0.3034 - val_loss: 0.3184\n",
      "Epoch 144/500\n",
      "21/21 [==============================] - 0s 8ms/step - loss: 0.3237 - val_loss: 0.3173\n",
      "Epoch 145/500\n",
      "21/21 [==============================] - 0s 7ms/step - loss: 0.3023 - val_loss: 0.3179\n",
      "Epoch 146/500\n",
      "21/21 [==============================] - 0s 9ms/step - loss: 0.2956 - val_loss: 0.3170\n",
      "Epoch 147/500\n",
      "21/21 [==============================] - 0s 7ms/step - loss: 0.3023 - val_loss: 0.3164\n",
      "Epoch 148/500\n",
      "21/21 [==============================] - 0s 6ms/step - loss: 0.3114 - val_loss: 0.3176\n",
      "Epoch 149/500\n",
      "21/21 [==============================] - 0s 6ms/step - loss: 0.2995 - val_loss: 0.3184\n",
      "Epoch 150/500\n",
      "21/21 [==============================] - 0s 5ms/step - loss: 0.2955 - val_loss: 0.3165\n",
      "Epoch 151/500\n",
      "21/21 [==============================] - 0s 5ms/step - loss: 0.3120 - val_loss: 0.3174\n",
      "Epoch 152/500\n",
      "21/21 [==============================] - 0s 6ms/step - loss: 0.3038 - val_loss: 0.3184\n",
      "Epoch 153/500\n",
      "21/21 [==============================] - 0s 6ms/step - loss: 0.3191 - val_loss: 0.3175\n",
      "Epoch 154/500\n",
      "21/21 [==============================] - 0s 10ms/step - loss: 0.3165 - val_loss: 0.3170\n",
      "Epoch 155/500\n",
      "21/21 [==============================] - 0s 6ms/step - loss: 0.2978 - val_loss: 0.3176\n",
      "Epoch 156/500\n",
      "21/21 [==============================] - 0s 6ms/step - loss: 0.3061 - val_loss: 0.3166\n",
      "Epoch 157/500\n",
      "21/21 [==============================] - 0s 7ms/step - loss: 0.3099 - val_loss: 0.3180\n",
      "Epoch 158/500\n",
      "21/21 [==============================] - 0s 6ms/step - loss: 0.3202 - val_loss: 0.3168\n",
      "Epoch 159/500\n",
      "21/21 [==============================] - 0s 7ms/step - loss: 0.3119 - val_loss: 0.3176\n",
      "Epoch 160/500\n",
      "21/21 [==============================] - 0s 8ms/step - loss: 0.3201 - val_loss: 0.3177\n",
      "Epoch 161/500\n",
      "21/21 [==============================] - 0s 8ms/step - loss: 0.3109 - val_loss: 0.3171\n",
      "Epoch 162/500\n",
      "21/21 [==============================] - 0s 6ms/step - loss: 0.3277 - val_loss: 0.3173\n",
      "Epoch 163/500\n"
     ]
    },
    {
     "name": "stdout",
     "output_type": "stream",
     "text": [
      "21/21 [==============================] - 0s 9ms/step - loss: 0.3100 - val_loss: 0.3175\n",
      "Epoch 164/500\n",
      "21/21 [==============================] - 0s 7ms/step - loss: 0.3160 - val_loss: 0.3179\n",
      "Epoch 165/500\n",
      "21/21 [==============================] - 0s 8ms/step - loss: 0.2955 - val_loss: 0.3169\n",
      "Epoch 166/500\n",
      "21/21 [==============================] - 0s 9ms/step - loss: 0.3045 - val_loss: 0.3176\n",
      "Epoch 167/500\n",
      "21/21 [==============================] - 0s 6ms/step - loss: 0.3014 - val_loss: 0.3184\n",
      "Epoch 00167: early stopping\n"
     ]
    },
    {
     "data": {
      "text/plain": [
       "<tensorflow.python.keras.callbacks.History at 0x2833dc7df88>"
      ]
     },
     "execution_count": 28,
     "metadata": {},
     "output_type": "execute_result"
    }
   ],
   "source": [
    "# Train the model\n",
    "# Pass in validation data (after each epoch, run the test data and check loss)\n",
    "model.fit(X_train,y_train,\n",
    "          validation_data=(X_test,y_test),epochs=500,\n",
    "          callbacks=[early_stop])#batch_size is an option for larger datasets"
   ]
  },
  {
   "cell_type": "code",
   "execution_count": 29,
   "metadata": {},
   "outputs": [
    {
     "data": {
      "text/plain": [
       "<AxesSubplot:>"
      ]
     },
     "execution_count": 29,
     "metadata": {},
     "output_type": "execute_result"
    },
    {
     "data": {
      "image/png": "[encoded data removed]",
      "text/plain": [
       "<Figure size 432x288 with 1 Axes>"
      ]
     },
     "metadata": {
      "needs_background": "light"
     },
     "output_type": "display_data"
    }
   ],
   "source": [
    "# Traning and validation loss lines are identical indicating that we can continue training without overfitting data\n",
    "# Loss cuts off after 20 epochs\n",
    "loss_df = pd.DataFrame(model.history.history)\n",
    "loss_df.plot()"
   ]
  },
  {
   "cell_type": "code",
   "execution_count": 30,
   "metadata": {},
   "outputs": [],
   "source": [
    "# have model predict prices\n",
    "predictions_tnsrflw = model.predict(X_test)"
   ]
  },
  {
   "cell_type": "code",
   "execution_count": 31,
   "metadata": {},
   "outputs": [
    {
     "data": {
      "text/plain": [
       "0.4780366805521754"
      ]
     },
     "execution_count": 31,
     "metadata": {},
     "output_type": "execute_result"
    }
   ],
   "source": [
    "# Error went down with tensorflow\n",
    "metrics.mean_absolute_error(y_test,predictions_tnsrflw)"
   ]
  },
  {
   "cell_type": "code",
   "execution_count": 64,
   "metadata": {},
   "outputs": [],
   "source": [
    "# Try to improve model by adjusting number of layers, nodes, and adding dropouts\n",
    "model = Sequential()\n",
    "\n",
    "model.add(Dense(4,activation='relu'))\n",
    "# model.add(Dropout(0.2))# % neurons you're turning off turing training (didn't improve model)\n",
    "model.add(Dense(3,activation='relu'))\n",
    "model.add(Dense(2,activation='relu'))\n",
    "model.add(Dense(1))\n",
    "\n",
    "model.compile(optimizer='adam',loss='mse')"
   ]
  },
  {
   "cell_type": "code",
   "execution_count": 65,
   "metadata": {
    "scrolled": true
   },
   "outputs": [
    {
     "name": "stdout",
     "output_type": "stream",
     "text": [
      "Epoch 1/500\n",
      "21/21 [==============================] - 1s 16ms/step - loss: 4.9873 - val_loss: 4.6357\n",
      "Epoch 2/500\n",
      "21/21 [==============================] - 0s 6ms/step - loss: 4.7538 - val_loss: 4.3342\n",
      "Epoch 3/500\n",
      "21/21 [==============================] - 0s 5ms/step - loss: 4.3684 - val_loss: 3.9781\n",
      "Epoch 4/500\n",
      "21/21 [==============================] - 0s 7ms/step - loss: 4.1582 - val_loss: 3.5572\n",
      "Epoch 5/500\n",
      "21/21 [==============================] - 0s 9ms/step - loss: 3.6443 - val_loss: 3.0714\n",
      "Epoch 6/500\n",
      "21/21 [==============================] - 0s 7ms/step - loss: 3.0849 - val_loss: 2.5251\n",
      "Epoch 7/500\n",
      "21/21 [==============================] - 0s 5ms/step - loss: 2.5146 - val_loss: 1.9506\n",
      "Epoch 8/500\n",
      "21/21 [==============================] - 0s 13ms/step - loss: 1.8832 - val_loss: 1.4059\n",
      "Epoch 9/500\n",
      "21/21 [==============================] - 0s 6ms/step - loss: 1.3018 - val_loss: 0.9424\n",
      "Epoch 10/500\n",
      "21/21 [==============================] - 0s 6ms/step - loss: 0.9153 - val_loss: 0.6168\n",
      "Epoch 11/500\n",
      "21/21 [==============================] - 0s 7ms/step - loss: 0.6469 - val_loss: 0.4388\n",
      "Epoch 12/500\n",
      "21/21 [==============================] - 0s 8ms/step - loss: 0.4643 - val_loss: 0.3676\n",
      "Epoch 13/500\n",
      "21/21 [==============================] - 0s 6ms/step - loss: 0.4183 - val_loss: 0.3500\n",
      "Epoch 14/500\n",
      "21/21 [==============================] - 0s 7ms/step - loss: 0.3654 - val_loss: 0.3465\n",
      "Epoch 15/500\n",
      "21/21 [==============================] - 0s 8ms/step - loss: 0.4027 - val_loss: 0.3445\n",
      "Epoch 16/500\n",
      "21/21 [==============================] - 0s 7ms/step - loss: 0.3774 - val_loss: 0.3429\n",
      "Epoch 17/500\n",
      "21/21 [==============================] - 0s 7ms/step - loss: 0.3665 - val_loss: 0.3411\n",
      "Epoch 18/500\n",
      "21/21 [==============================] - 0s 6ms/step - loss: 0.3789 - val_loss: 0.3394\n",
      "Epoch 19/500\n",
      "21/21 [==============================] - 0s 7ms/step - loss: 0.4075 - val_loss: 0.3375\n",
      "Epoch 20/500\n",
      "21/21 [==============================] - 0s 9ms/step - loss: 0.3264 - val_loss: 0.3364\n",
      "Epoch 21/500\n",
      "21/21 [==============================] - 0s 8ms/step - loss: 0.3574 - val_loss: 0.3345\n",
      "Epoch 22/500\n",
      "21/21 [==============================] - 0s 9ms/step - loss: 0.3636 - val_loss: 0.3331\n",
      "Epoch 23/500\n",
      "21/21 [==============================] - 0s 7ms/step - loss: 0.3728 - val_loss: 0.3319\n",
      "Epoch 24/500\n",
      "21/21 [==============================] - 0s 11ms/step - loss: 0.3455 - val_loss: 0.3311\n",
      "Epoch 25/500\n",
      "21/21 [==============================] - 0s 7ms/step - loss: 0.3662 - val_loss: 0.3296\n",
      "Epoch 26/500\n",
      "21/21 [==============================] - 0s 7ms/step - loss: 0.3592 - val_loss: 0.3284\n",
      "Epoch 27/500\n",
      "21/21 [==============================] - 0s 7ms/step - loss: 0.3460 - val_loss: 0.3280\n",
      "Epoch 28/500\n",
      "21/21 [==============================] - 0s 6ms/step - loss: 0.3528 - val_loss: 0.3266\n",
      "Epoch 29/500\n",
      "21/21 [==============================] - 0s 6ms/step - loss: 0.3366 - val_loss: 0.3258\n",
      "Epoch 30/500\n",
      "21/21 [==============================] - 0s 7ms/step - loss: 0.3314 - val_loss: 0.3247\n",
      "Epoch 31/500\n",
      "21/21 [==============================] - 0s 7ms/step - loss: 0.3338 - val_loss: 0.3242\n",
      "Epoch 32/500\n",
      "21/21 [==============================] - 0s 7ms/step - loss: 0.3453 - val_loss: 0.3233\n",
      "Epoch 33/500\n",
      "21/21 [==============================] - 0s 6ms/step - loss: 0.3227 - val_loss: 0.3224\n",
      "Epoch 34/500\n",
      "21/21 [==============================] - 0s 7ms/step - loss: 0.3215 - val_loss: 0.3223\n",
      "Epoch 35/500\n",
      "21/21 [==============================] - 0s 8ms/step - loss: 0.3459 - val_loss: 0.3212\n",
      "Epoch 36/500\n",
      "21/21 [==============================] - 0s 6ms/step - loss: 0.3531 - val_loss: 0.3206\n",
      "Epoch 37/500\n",
      "21/21 [==============================] - 0s 14ms/step - loss: 0.3353 - val_loss: 0.3205\n",
      "Epoch 38/500\n",
      "21/21 [==============================] - 0s 7ms/step - loss: 0.3279 - val_loss: 0.3190\n",
      "Epoch 39/500\n",
      "21/21 [==============================] - 0s 6ms/step - loss: 0.3252 - val_loss: 0.3192\n",
      "Epoch 40/500\n",
      "21/21 [==============================] - 0s 7ms/step - loss: 0.3354 - val_loss: 0.3188\n",
      "Epoch 41/500\n",
      "21/21 [==============================] - 0s 6ms/step - loss: 0.3267 - val_loss: 0.3186\n",
      "Epoch 42/500\n",
      "21/21 [==============================] - 0s 6ms/step - loss: 0.3386 - val_loss: 0.3173\n",
      "Epoch 43/500\n",
      "21/21 [==============================] - 0s 6ms/step - loss: 0.3281 - val_loss: 0.3175\n",
      "Epoch 44/500\n",
      "21/21 [==============================] - 0s 7ms/step - loss: 0.3231 - val_loss: 0.3172\n",
      "Epoch 45/500\n",
      "21/21 [==============================] - 0s 10ms/step - loss: 0.3214 - val_loss: 0.3170\n",
      "Epoch 46/500\n",
      "21/21 [==============================] - 0s 8ms/step - loss: 0.3125 - val_loss: 0.3168\n",
      "Epoch 47/500\n",
      "21/21 [==============================] - 0s 6ms/step - loss: 0.3122 - val_loss: 0.3166\n",
      "Epoch 48/500\n",
      "21/21 [==============================] - 0s 6ms/step - loss: 0.3319 - val_loss: 0.3161\n",
      "Epoch 49/500\n",
      "21/21 [==============================] - 0s 11ms/step - loss: 0.3237 - val_loss: 0.3159\n",
      "Epoch 50/500\n",
      "21/21 [==============================] - 0s 10ms/step - loss: 0.2837 - val_loss: 0.3156\n",
      "Epoch 51/500\n",
      "21/21 [==============================] - 0s 7ms/step - loss: 0.3082 - val_loss: 0.3161\n",
      "Epoch 52/500\n",
      "21/21 [==============================] - 0s 7ms/step - loss: 0.3233 - val_loss: 0.3171\n",
      "Epoch 53/500\n",
      "21/21 [==============================] - 0s 8ms/step - loss: 0.3025 - val_loss: 0.3163\n",
      "Epoch 54/500\n",
      "21/21 [==============================] - 0s 5ms/step - loss: 0.3017 - val_loss: 0.3158\n",
      "Epoch 55/500\n",
      "21/21 [==============================] - 0s 9ms/step - loss: 0.3208 - val_loss: 0.3159\n",
      "Epoch 56/500\n",
      "21/21 [==============================] - 0s 7ms/step - loss: 0.2981 - val_loss: 0.3155\n",
      "Epoch 57/500\n",
      "21/21 [==============================] - 0s 4ms/step - loss: 0.3021 - val_loss: 0.3167\n",
      "Epoch 58/500\n",
      "21/21 [==============================] - 0s 6ms/step - loss: 0.3223 - val_loss: 0.3152\n",
      "Epoch 59/500\n",
      "21/21 [==============================] - 0s 6ms/step - loss: 0.3005 - val_loss: 0.3162\n",
      "Epoch 60/500\n",
      "21/21 [==============================] - 0s 5ms/step - loss: 0.3010 - val_loss: 0.3166\n",
      "Epoch 61/500\n",
      "21/21 [==============================] - 0s 12ms/step - loss: 0.3061 - val_loss: 0.3157\n",
      "Epoch 62/500\n",
      "21/21 [==============================] - 0s 5ms/step - loss: 0.3037 - val_loss: 0.3156\n",
      "Epoch 63/500\n",
      "21/21 [==============================] - 0s 5ms/step - loss: 0.3040 - val_loss: 0.3165\n",
      "Epoch 64/500\n",
      "21/21 [==============================] - 0s 5ms/step - loss: 0.3157 - val_loss: 0.3162\n",
      "Epoch 65/500\n",
      "21/21 [==============================] - 0s 7ms/step - loss: 0.3268 - val_loss: 0.3156\n",
      "Epoch 66/500\n",
      "21/21 [==============================] - 0s 7ms/step - loss: 0.2846 - val_loss: 0.3159\n",
      "Epoch 67/500\n",
      "21/21 [==============================] - 0s 6ms/step - loss: 0.3068 - val_loss: 0.3163\n",
      "Epoch 68/500\n",
      "21/21 [==============================] - 0s 6ms/step - loss: 0.3137 - val_loss: 0.3162\n",
      "Epoch 69/500\n",
      "21/21 [==============================] - 0s 5ms/step - loss: 0.3053 - val_loss: 0.3157\n",
      "Epoch 70/500\n",
      "21/21 [==============================] - 0s 6ms/step - loss: 0.3075 - val_loss: 0.3159\n",
      "Epoch 71/500\n",
      "21/21 [==============================] - 0s 7ms/step - loss: 0.3171 - val_loss: 0.3156\n",
      "Epoch 72/500\n",
      "21/21 [==============================] - 0s 6ms/step - loss: 0.3330 - val_loss: 0.3157\n",
      "Epoch 73/500\n",
      "21/21 [==============================] - 0s 10ms/step - loss: 0.2933 - val_loss: 0.3156\n",
      "Epoch 74/500\n",
      "21/21 [==============================] - 0s 5ms/step - loss: 0.2892 - val_loss: 0.3177\n",
      "Epoch 75/500\n",
      "21/21 [==============================] - 0s 5ms/step - loss: 0.3124 - val_loss: 0.3156\n",
      "Epoch 76/500\n",
      "21/21 [==============================] - 0s 6ms/step - loss: 0.3125 - val_loss: 0.3154\n",
      "Epoch 77/500\n",
      "21/21 [==============================] - 0s 6ms/step - loss: 0.3230 - val_loss: 0.3165\n",
      "Epoch 78/500\n",
      "21/21 [==============================] - 0s 10ms/step - loss: 0.3006 - val_loss: 0.3163\n",
      "Epoch 79/500\n",
      "21/21 [==============================] - 0s 8ms/step - loss: 0.3099 - val_loss: 0.3155\n",
      "Epoch 80/500\n",
      "21/21 [==============================] - 0s 7ms/step - loss: 0.3202 - val_loss: 0.3171\n",
      "Epoch 81/500\n",
      "21/21 [==============================] - 0s 7ms/step - loss: 0.3288 - val_loss: 0.3153\n",
      "Epoch 82/500\n",
      "21/21 [==============================] - 0s 6ms/step - loss: 0.3253 - val_loss: 0.3153\n"
     ]
    },
    {
     "name": "stdout",
     "output_type": "stream",
     "text": [
      "Epoch 83/500\n",
      "21/21 [==============================] - 0s 8ms/step - loss: 0.3201 - val_loss: 0.3156\n",
      "Epoch 00083: early stopping\n"
     ]
    },
    {
     "data": {
      "text/plain": [
       "<tensorflow.python.keras.callbacks.History at 0x283450fc748>"
      ]
     },
     "execution_count": 65,
     "metadata": {},
     "output_type": "execute_result"
    }
   ],
   "source": [
    "# Train the model\n",
    "early_stop = EarlyStopping(monitor='val_loss',mode='min',verbose=1,patience=25)# minimize loss\n",
    "\n",
    "model.fit(X_train,y_train,\n",
    "          validation_data=(X_test,y_test),epochs=500,\n",
    "          callbacks=[early_stop])"
   ]
  },
  {
   "cell_type": "code",
   "execution_count": 68,
   "metadata": {},
   "outputs": [
    {
     "data": {
      "text/plain": [
       "0.47438205419202933"
      ]
     },
     "execution_count": 68,
     "metadata": {},
     "output_type": "execute_result"
    }
   ],
   "source": [
    "# The model improved, but not by much\n",
    "predictions_tnsrflw = model.predict(X_test)\n",
    "metrics.mean_absolute_error(y_test,predictions_tnsrflw)"
   ]
  },
  {
   "cell_type": "code",
   "execution_count": 69,
   "metadata": {},
   "outputs": [
    {
     "data": {
      "text/plain": [
       "0.03885014637479767"
      ]
     },
     "execution_count": 69,
     "metadata": {},
     "output_type": "execute_result"
    }
   ],
   "source": [
    "# Model only explains 4% of variance -> predictions would be unreliable\n",
    "metrics.explained_variance_score(y_test,predictions_tnsrflw)"
   ]
  },
  {
   "cell_type": "code",
   "execution_count": 19,
   "metadata": {},
   "outputs": [],
   "source": [
    "# This model has no predictive ability. Date and location don't explain fire size\n",
    "# Potential features to add:\n",
    "# - weather\n",
    "# - travel (e.g. Airbnb) <- humans cause the majority of fires"
   ]
  }
 ],
 "metadata": {
  "kernelspec": {
   "display_name": "Python 3",
   "language": "python",
   "name": "python3"
  },
  "language_info": {
   "codemirror_mode": {
    "name": "ipython",
    "version": 3
   },
   "file_extension": ".py",
   "mimetype": "text/x-python",
   "name": "python",
   "nbconvert_exporter": "python",
   "pygments_lexer": "ipython3",
   "version": "3.7.4"
  }
 },
 "nbformat": 4,
 "nbformat_minor": 2
}
