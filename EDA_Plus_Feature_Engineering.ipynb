{
 "cells": [
  {
   "cell_type": "code",
   "execution_count": 73,
   "metadata": {},
   "outputs": [],
   "source": [
    "# Dependencies\n",
    "import pandas as pd\n",
    "import numpy as np\n",
    "from scipy import stats\n",
    "import matplotlib.pyplot as plt\n",
    "import seaborn as sns"
   ]
  },
  {
   "cell_type": "code",
   "execution_count": 74,
   "metadata": {},
   "outputs": [
    {
     "data": {
      "text/html": [
       "<div>\n",
       "<style scoped>\n",
       "    .dataframe tbody tr th:only-of-type {\n",
       "        vertical-align: middle;\n",
       "    }\n",
       "\n",
       "    .dataframe tbody tr th {\n",
       "        vertical-align: top;\n",
       "    }\n",
       "\n",
       "    .dataframe thead th {\n",
       "        text-align: right;\n",
       "    }\n",
       "</style>\n",
       "<table border=\"1\" class=\"dataframe\">\n",
       "  <thead>\n",
       "    <tr style=\"text-align: right;\">\n",
       "      <th></th>\n",
       "      <th>Year</th>\n",
       "      <th>Fire Number</th>\n",
       "      <th>Fire Centre</th>\n",
       "      <th>Latitude</th>\n",
       "      <th>Longitude</th>\n",
       "      <th>Geographic</th>\n",
       "      <th>Discovery Date</th>\n",
       "      <th>Size (ha)</th>\n",
       "    </tr>\n",
       "  </thead>\n",
       "  <tbody>\n",
       "    <tr>\n",
       "      <td>0</td>\n",
       "      <td>2012</td>\n",
       "      <td>C10075 (2012)</td>\n",
       "      <td>Cariboo</td>\n",
       "      <td>52 44.747</td>\n",
       "      <td>124 22.619</td>\n",
       "      <td>Bald Face Mountain</td>\n",
       "      <td>July 14, 2012</td>\n",
       "      <td>13.0</td>\n",
       "    </tr>\n",
       "    <tr>\n",
       "      <td>1</td>\n",
       "      <td>2012</td>\n",
       "      <td>C10118 (2012)</td>\n",
       "      <td>Cariboo</td>\n",
       "      <td>52 41.849</td>\n",
       "      <td>123 00.607</td>\n",
       "      <td>Quesnel-Merston Creek</td>\n",
       "      <td>July 19, 2012</td>\n",
       "      <td>6.0</td>\n",
       "    </tr>\n",
       "    <tr>\n",
       "      <td>2</td>\n",
       "      <td>2012</td>\n",
       "      <td>C10247 (2012)</td>\n",
       "      <td>Cariboo</td>\n",
       "      <td>53 03.159</td>\n",
       "      <td>122 58.020</td>\n",
       "      <td>11B Road Blackwater</td>\n",
       "      <td>October 17, 2012</td>\n",
       "      <td>20.0</td>\n",
       "    </tr>\n",
       "    <tr>\n",
       "      <td>3</td>\n",
       "      <td>2012</td>\n",
       "      <td>C10250 (2012)</td>\n",
       "      <td>Cariboo</td>\n",
       "      <td>52 30.773</td>\n",
       "      <td>122 26.629</td>\n",
       "      <td>Margeurite</td>\n",
       "      <td>March 30, 2013</td>\n",
       "      <td>8.0</td>\n",
       "    </tr>\n",
       "    <tr>\n",
       "      <td>4</td>\n",
       "      <td>2012</td>\n",
       "      <td>C20005 (2012)</td>\n",
       "      <td>Cariboo</td>\n",
       "      <td>52 07.676</td>\n",
       "      <td>121 54.904</td>\n",
       "      <td>150 Mile House-330 Valley Rd</td>\n",
       "      <td>April 7, 2012</td>\n",
       "      <td>12.2</td>\n",
       "    </tr>\n",
       "  </tbody>\n",
       "</table>\n",
       "</div>"
      ],
      "text/plain": [
       "   Year    Fire Number Fire Centre   Latitude   Longitude  \\\n",
       "0  2012  C10075 (2012)     Cariboo  52 44.747  124 22.619   \n",
       "1  2012  C10118 (2012)     Cariboo  52 41.849  123 00.607   \n",
       "2  2012  C10247 (2012)     Cariboo  53 03.159  122 58.020   \n",
       "3  2012  C10250 (2012)     Cariboo  52 30.773  122 26.629   \n",
       "4  2012  C20005 (2012)     Cariboo  52 07.676  121 54.904   \n",
       "\n",
       "                     Geographic    Discovery Date  Size (ha)  \n",
       "0            Bald Face Mountain     July 14, 2012       13.0  \n",
       "1         Quesnel-Merston Creek     July 19, 2012        6.0  \n",
       "2           11B Road Blackwater  October 17, 2012       20.0  \n",
       "3                    Margeurite    March 30, 2013        8.0  \n",
       "4  150 Mile House-330 Valley Rd     April 7, 2012       12.2  "
      ]
     },
     "execution_count": 74,
     "metadata": {},
     "output_type": "execute_result"
    }
   ],
   "source": [
    "# Import scraped data\n",
    "df = pd.read_csv('fires.csv')\n",
    "df.head()"
   ]
  },
  {
   "cell_type": "code",
   "execution_count": 75,
   "metadata": {},
   "outputs": [
    {
     "data": {
      "text/html": [
       "<div>\n",
       "<style scoped>\n",
       "    .dataframe tbody tr th:only-of-type {\n",
       "        vertical-align: middle;\n",
       "    }\n",
       "\n",
       "    .dataframe tbody tr th {\n",
       "        vertical-align: top;\n",
       "    }\n",
       "\n",
       "    .dataframe thead th {\n",
       "        text-align: right;\n",
       "    }\n",
       "</style>\n",
       "<table border=\"1\" class=\"dataframe\">\n",
       "  <thead>\n",
       "    <tr style=\"text-align: right;\">\n",
       "      <th></th>\n",
       "      <th>Year</th>\n",
       "      <th>Fire Number</th>\n",
       "      <th>Fire Centre</th>\n",
       "      <th>Latitude</th>\n",
       "      <th>Longitude</th>\n",
       "      <th>Geographic</th>\n",
       "      <th>Discovery Date</th>\n",
       "      <th>Size (ha)</th>\n",
       "      <th>month</th>\n",
       "    </tr>\n",
       "  </thead>\n",
       "  <tbody>\n",
       "    <tr>\n",
       "      <td>0</td>\n",
       "      <td>2012</td>\n",
       "      <td>C10075 (2012)</td>\n",
       "      <td>Cariboo</td>\n",
       "      <td>52 44.747</td>\n",
       "      <td>124 22.619</td>\n",
       "      <td>Bald Face Mountain</td>\n",
       "      <td>2012-07-14</td>\n",
       "      <td>13.0</td>\n",
       "      <td>7</td>\n",
       "    </tr>\n",
       "    <tr>\n",
       "      <td>1</td>\n",
       "      <td>2012</td>\n",
       "      <td>C10118 (2012)</td>\n",
       "      <td>Cariboo</td>\n",
       "      <td>52 41.849</td>\n",
       "      <td>123 00.607</td>\n",
       "      <td>Quesnel-Merston Creek</td>\n",
       "      <td>2012-07-19</td>\n",
       "      <td>6.0</td>\n",
       "      <td>7</td>\n",
       "    </tr>\n",
       "    <tr>\n",
       "      <td>2</td>\n",
       "      <td>2012</td>\n",
       "      <td>C10247 (2012)</td>\n",
       "      <td>Cariboo</td>\n",
       "      <td>53 03.159</td>\n",
       "      <td>122 58.020</td>\n",
       "      <td>11B Road Blackwater</td>\n",
       "      <td>2012-10-17</td>\n",
       "      <td>20.0</td>\n",
       "      <td>10</td>\n",
       "    </tr>\n",
       "    <tr>\n",
       "      <td>3</td>\n",
       "      <td>2012</td>\n",
       "      <td>C10250 (2012)</td>\n",
       "      <td>Cariboo</td>\n",
       "      <td>52 30.773</td>\n",
       "      <td>122 26.629</td>\n",
       "      <td>Margeurite</td>\n",
       "      <td>2013-03-30</td>\n",
       "      <td>8.0</td>\n",
       "      <td>3</td>\n",
       "    </tr>\n",
       "    <tr>\n",
       "      <td>4</td>\n",
       "      <td>2012</td>\n",
       "      <td>C20005 (2012)</td>\n",
       "      <td>Cariboo</td>\n",
       "      <td>52 07.676</td>\n",
       "      <td>121 54.904</td>\n",
       "      <td>150 Mile House-330 Valley Rd</td>\n",
       "      <td>2012-04-07</td>\n",
       "      <td>12.2</td>\n",
       "      <td>4</td>\n",
       "    </tr>\n",
       "  </tbody>\n",
       "</table>\n",
       "</div>"
      ],
      "text/plain": [
       "   Year    Fire Number Fire Centre   Latitude   Longitude  \\\n",
       "0  2012  C10075 (2012)     Cariboo  52 44.747  124 22.619   \n",
       "1  2012  C10118 (2012)     Cariboo  52 41.849  123 00.607   \n",
       "2  2012  C10247 (2012)     Cariboo  53 03.159  122 58.020   \n",
       "3  2012  C10250 (2012)     Cariboo  52 30.773  122 26.629   \n",
       "4  2012  C20005 (2012)     Cariboo  52 07.676  121 54.904   \n",
       "\n",
       "                     Geographic Discovery Date  Size (ha)  month  \n",
       "0            Bald Face Mountain     2012-07-14       13.0      7  \n",
       "1         Quesnel-Merston Creek     2012-07-19        6.0      7  \n",
       "2           11B Road Blackwater     2012-10-17       20.0     10  \n",
       "3                    Margeurite     2013-03-30        8.0      3  \n",
       "4  150 Mile House-330 Valley Rd     2012-04-07       12.2      4  "
      ]
     },
     "execution_count": 75,
     "metadata": {},
     "output_type": "execute_result"
    }
   ],
   "source": [
    "# Extract month from date\n",
    "df['Discovery Date'] = pd.to_datetime(df['Discovery Date'])\n",
    "df['month'] = df['Discovery Date'].apply(lambda date: date.month)\n",
    "df.head()"
   ]
  },
  {
   "cell_type": "code",
   "execution_count": 76,
   "metadata": {},
   "outputs": [],
   "source": [
    "# Create function to convert lat and long from DDM to DD \n",
    "def todd(ddm):\n",
    "    \n",
    "    degrees = ddm.str.split(' ').str[0].astype(int)\n",
    "    minutes = ddm.str.split(' ').str[1].astype(float)\n",
    "    dd= degrees + (minutes/60)\n",
    "    \n",
    "    return dd"
   ]
  },
  {
   "cell_type": "code",
   "execution_count": 77,
   "metadata": {},
   "outputs": [
    {
     "data": {
      "text/html": [
       "<div>\n",
       "<style scoped>\n",
       "    .dataframe tbody tr th:only-of-type {\n",
       "        vertical-align: middle;\n",
       "    }\n",
       "\n",
       "    .dataframe tbody tr th {\n",
       "        vertical-align: top;\n",
       "    }\n",
       "\n",
       "    .dataframe thead th {\n",
       "        text-align: right;\n",
       "    }\n",
       "</style>\n",
       "<table border=\"1\" class=\"dataframe\">\n",
       "  <thead>\n",
       "    <tr style=\"text-align: right;\">\n",
       "      <th></th>\n",
       "      <th>Year</th>\n",
       "      <th>Fire Number</th>\n",
       "      <th>Fire Centre</th>\n",
       "      <th>Latitude</th>\n",
       "      <th>Longitude</th>\n",
       "      <th>Geographic</th>\n",
       "      <th>Discovery Date</th>\n",
       "      <th>Size (ha)</th>\n",
       "      <th>month</th>\n",
       "    </tr>\n",
       "  </thead>\n",
       "  <tbody>\n",
       "    <tr>\n",
       "      <td>0</td>\n",
       "      <td>2012</td>\n",
       "      <td>C10075 (2012)</td>\n",
       "      <td>Cariboo</td>\n",
       "      <td>52.745783</td>\n",
       "      <td>-124.376983</td>\n",
       "      <td>Bald Face Mountain</td>\n",
       "      <td>2012-07-14</td>\n",
       "      <td>13.0</td>\n",
       "      <td>7</td>\n",
       "    </tr>\n",
       "    <tr>\n",
       "      <td>1</td>\n",
       "      <td>2012</td>\n",
       "      <td>C10118 (2012)</td>\n",
       "      <td>Cariboo</td>\n",
       "      <td>52.697483</td>\n",
       "      <td>-123.010117</td>\n",
       "      <td>Quesnel-Merston Creek</td>\n",
       "      <td>2012-07-19</td>\n",
       "      <td>6.0</td>\n",
       "      <td>7</td>\n",
       "    </tr>\n",
       "    <tr>\n",
       "      <td>2</td>\n",
       "      <td>2012</td>\n",
       "      <td>C10247 (2012)</td>\n",
       "      <td>Cariboo</td>\n",
       "      <td>53.052650</td>\n",
       "      <td>-122.967000</td>\n",
       "      <td>11B Road Blackwater</td>\n",
       "      <td>2012-10-17</td>\n",
       "      <td>20.0</td>\n",
       "      <td>10</td>\n",
       "    </tr>\n",
       "    <tr>\n",
       "      <td>3</td>\n",
       "      <td>2012</td>\n",
       "      <td>C10250 (2012)</td>\n",
       "      <td>Cariboo</td>\n",
       "      <td>52.512883</td>\n",
       "      <td>-122.443817</td>\n",
       "      <td>Margeurite</td>\n",
       "      <td>2013-03-30</td>\n",
       "      <td>8.0</td>\n",
       "      <td>3</td>\n",
       "    </tr>\n",
       "    <tr>\n",
       "      <td>4</td>\n",
       "      <td>2012</td>\n",
       "      <td>C20005 (2012)</td>\n",
       "      <td>Cariboo</td>\n",
       "      <td>52.127933</td>\n",
       "      <td>-121.915067</td>\n",
       "      <td>150 Mile House-330 Valley Rd</td>\n",
       "      <td>2012-04-07</td>\n",
       "      <td>12.2</td>\n",
       "      <td>4</td>\n",
       "    </tr>\n",
       "  </tbody>\n",
       "</table>\n",
       "</div>"
      ],
      "text/plain": [
       "   Year    Fire Number Fire Centre   Latitude   Longitude  \\\n",
       "0  2012  C10075 (2012)     Cariboo  52.745783 -124.376983   \n",
       "1  2012  C10118 (2012)     Cariboo  52.697483 -123.010117   \n",
       "2  2012  C10247 (2012)     Cariboo  53.052650 -122.967000   \n",
       "3  2012  C10250 (2012)     Cariboo  52.512883 -122.443817   \n",
       "4  2012  C20005 (2012)     Cariboo  52.127933 -121.915067   \n",
       "\n",
       "                     Geographic Discovery Date  Size (ha)  month  \n",
       "0            Bald Face Mountain     2012-07-14       13.0      7  \n",
       "1         Quesnel-Merston Creek     2012-07-19        6.0      7  \n",
       "2           11B Road Blackwater     2012-10-17       20.0     10  \n",
       "3                    Margeurite     2013-03-30        8.0      3  \n",
       "4  150 Mile House-330 Valley Rd     2012-04-07       12.2      4  "
      ]
     },
     "execution_count": 77,
     "metadata": {},
     "output_type": "execute_result"
    }
   ],
   "source": [
    "df['Latitude'] = todd(df['Latitude'])\n",
    "df['Longitude'] = todd(df['Longitude'])*-1 # Multiply longitude by -1 because this is in the western hemisphere\n",
    "df.head()"
   ]
  },
  {
   "cell_type": "code",
   "execution_count": 78,
   "metadata": {},
   "outputs": [
    {
     "data": {
      "text/html": [
       "<div>\n",
       "<style scoped>\n",
       "    .dataframe tbody tr th:only-of-type {\n",
       "        vertical-align: middle;\n",
       "    }\n",
       "\n",
       "    .dataframe tbody tr th {\n",
       "        vertical-align: top;\n",
       "    }\n",
       "\n",
       "    .dataframe thead th {\n",
       "        text-align: right;\n",
       "    }\n",
       "</style>\n",
       "<table border=\"1\" class=\"dataframe\">\n",
       "  <thead>\n",
       "    <tr style=\"text-align: right;\">\n",
       "      <th></th>\n",
       "      <th>year</th>\n",
       "      <th>lat</th>\n",
       "      <th>long</th>\n",
       "      <th>ha</th>\n",
       "      <th>month</th>\n",
       "    </tr>\n",
       "  </thead>\n",
       "  <tbody>\n",
       "    <tr>\n",
       "      <td>0</td>\n",
       "      <td>2012</td>\n",
       "      <td>52.745783</td>\n",
       "      <td>-124.376983</td>\n",
       "      <td>13.0</td>\n",
       "      <td>7</td>\n",
       "    </tr>\n",
       "    <tr>\n",
       "      <td>1</td>\n",
       "      <td>2012</td>\n",
       "      <td>52.697483</td>\n",
       "      <td>-123.010117</td>\n",
       "      <td>6.0</td>\n",
       "      <td>7</td>\n",
       "    </tr>\n",
       "    <tr>\n",
       "      <td>2</td>\n",
       "      <td>2012</td>\n",
       "      <td>53.052650</td>\n",
       "      <td>-122.967000</td>\n",
       "      <td>20.0</td>\n",
       "      <td>10</td>\n",
       "    </tr>\n",
       "    <tr>\n",
       "      <td>3</td>\n",
       "      <td>2012</td>\n",
       "      <td>52.512883</td>\n",
       "      <td>-122.443817</td>\n",
       "      <td>8.0</td>\n",
       "      <td>3</td>\n",
       "    </tr>\n",
       "    <tr>\n",
       "      <td>4</td>\n",
       "      <td>2012</td>\n",
       "      <td>52.127933</td>\n",
       "      <td>-121.915067</td>\n",
       "      <td>12.2</td>\n",
       "      <td>4</td>\n",
       "    </tr>\n",
       "  </tbody>\n",
       "</table>\n",
       "</div>"
      ],
      "text/plain": [
       "   year        lat        long    ha  month\n",
       "0  2012  52.745783 -124.376983  13.0      7\n",
       "1  2012  52.697483 -123.010117   6.0      7\n",
       "2  2012  53.052650 -122.967000  20.0     10\n",
       "3  2012  52.512883 -122.443817   8.0      3\n",
       "4  2012  52.127933 -121.915067  12.2      4"
      ]
     },
     "execution_count": 78,
     "metadata": {},
     "output_type": "execute_result"
    }
   ],
   "source": [
    "# Remove columns that we aren't going to use in our model\n",
    "# Fire Centre is a region so we are removing it because it will likely cause multicolinearity issues with long and lat\n",
    "df.drop(['Fire Number','Fire Centre','Geographic','Discovery Date'], axis=1, inplace=True)\n",
    "df.columns = ['year','lat','long','ha','month']\n",
    "df.head()"
   ]
  },
  {
   "cell_type": "code",
   "execution_count": 79,
   "metadata": {},
   "outputs": [
    {
     "data": {
      "text/plain": [
       "<AxesSubplot:>"
      ]
     },
     "execution_count": 79,
     "metadata": {},
     "output_type": "execute_result"
    },
    {
     "data": {
      "image/png": "[encoded data removed]",
      "text/plain": [
       "<Figure size 432x288 with 1 Axes>"
      ]
     },
     "metadata": {
      "needs_background": "light"
     },
     "output_type": "display_data"
    }
   ],
   "source": [
    "# Check for null values (if there are no null values the plot will be all black)\n",
    "sns.heatmap(df.isnull(), cbar=False)"
   ]
  },
  {
   "cell_type": "code",
   "execution_count": 80,
   "metadata": {},
   "outputs": [
    {
     "data": {
      "text/html": [
       "<div>\n",
       "<style scoped>\n",
       "    .dataframe tbody tr th:only-of-type {\n",
       "        vertical-align: middle;\n",
       "    }\n",
       "\n",
       "    .dataframe tbody tr th {\n",
       "        vertical-align: top;\n",
       "    }\n",
       "\n",
       "    .dataframe thead th {\n",
       "        text-align: right;\n",
       "    }\n",
       "</style>\n",
       "<table border=\"1\" class=\"dataframe\">\n",
       "  <thead>\n",
       "    <tr style=\"text-align: right;\">\n",
       "      <th></th>\n",
       "      <th>year</th>\n",
       "      <th>lat</th>\n",
       "      <th>long</th>\n",
       "      <th>ha</th>\n",
       "      <th>month</th>\n",
       "    </tr>\n",
       "  </thead>\n",
       "  <tbody>\n",
       "    <tr>\n",
       "      <td>count</td>\n",
       "      <td>1108.000000</td>\n",
       "      <td>1108.000000</td>\n",
       "      <td>1108.000000</td>\n",
       "      <td>1108.000000</td>\n",
       "      <td>1108.000000</td>\n",
       "    </tr>\n",
       "    <tr>\n",
       "      <td>mean</td>\n",
       "      <td>2014.527076</td>\n",
       "      <td>53.062451</td>\n",
       "      <td>-121.563655</td>\n",
       "      <td>1880.844005</td>\n",
       "      <td>6.659747</td>\n",
       "    </tr>\n",
       "    <tr>\n",
       "      <td>std</td>\n",
       "      <td>1.718224</td>\n",
       "      <td>3.378291</td>\n",
       "      <td>3.122891</td>\n",
       "      <td>18986.542475</td>\n",
       "      <td>1.770664</td>\n",
       "    </tr>\n",
       "    <tr>\n",
       "      <td>min</td>\n",
       "      <td>2012.000000</td>\n",
       "      <td>48.388617</td>\n",
       "      <td>-134.021017</td>\n",
       "      <td>5.000000</td>\n",
       "      <td>2.000000</td>\n",
       "    </tr>\n",
       "    <tr>\n",
       "      <td>25%</td>\n",
       "      <td>2013.000000</td>\n",
       "      <td>50.172067</td>\n",
       "      <td>-123.229396</td>\n",
       "      <td>10.000000</td>\n",
       "      <td>5.000000</td>\n",
       "    </tr>\n",
       "    <tr>\n",
       "      <td>50%</td>\n",
       "      <td>2015.000000</td>\n",
       "      <td>52.107367</td>\n",
       "      <td>-121.362083</td>\n",
       "      <td>26.650000</td>\n",
       "      <td>7.000000</td>\n",
       "    </tr>\n",
       "    <tr>\n",
       "      <td>75%</td>\n",
       "      <td>2016.000000</td>\n",
       "      <td>55.794308</td>\n",
       "      <td>-119.868037</td>\n",
       "      <td>155.325000</td>\n",
       "      <td>8.000000</td>\n",
       "    </tr>\n",
       "    <tr>\n",
       "      <td>max</td>\n",
       "      <td>2017.000000</td>\n",
       "      <td>59.980067</td>\n",
       "      <td>-114.302483</td>\n",
       "      <td>521012.000000</td>\n",
       "      <td>11.000000</td>\n",
       "    </tr>\n",
       "  </tbody>\n",
       "</table>\n",
       "</div>"
      ],
      "text/plain": [
       "              year          lat         long             ha        month\n",
       "count  1108.000000  1108.000000  1108.000000    1108.000000  1108.000000\n",
       "mean   2014.527076    53.062451  -121.563655    1880.844005     6.659747\n",
       "std       1.718224     3.378291     3.122891   18986.542475     1.770664\n",
       "min    2012.000000    48.388617  -134.021017       5.000000     2.000000\n",
       "25%    2013.000000    50.172067  -123.229396      10.000000     5.000000\n",
       "50%    2015.000000    52.107367  -121.362083      26.650000     7.000000\n",
       "75%    2016.000000    55.794308  -119.868037     155.325000     8.000000\n",
       "max    2017.000000    59.980067  -114.302483  521012.000000    11.000000"
      ]
     },
     "execution_count": 80,
     "metadata": {},
     "output_type": "execute_result"
    }
   ],
   "source": [
    "# Get summary stats\n",
    "df.describe()"
   ]
  },
  {
   "cell_type": "code",
   "execution_count": 81,
   "metadata": {
    "scrolled": true
   },
   "outputs": [
    {
     "data": {
      "text/plain": [
       "<AxesSubplot:xlabel='ha'>"
      ]
     },
     "execution_count": 81,
     "metadata": {},
     "output_type": "execute_result"
    },
    {
     "data": {
      "image/png": "[encoded data removed]",
      "text/plain": [
       "<Figure size 432x288 with 1 Axes>"
      ]
     },
     "metadata": {
      "needs_background": "light"
     },
     "output_type": "display_data"
    }
   ],
   "source": [
    "# The average size fire is 1108 hectares (ha), but there are some as big as 521012 ha\n",
    "# Check distribution\n",
    "sns.distplot(df['ha'])"
   ]
  },
  {
   "cell_type": "code",
   "execution_count": 82,
   "metadata": {},
   "outputs": [
    {
     "data": {
      "text/plain": [
       "1002"
      ]
     },
     "execution_count": 82,
     "metadata": {},
     "output_type": "execute_result"
    }
   ],
   "source": [
    "# Remove outliers (values exceeding average 1500)\n",
    "df = df[df['ha']<1500]\n",
    "len(df)"
   ]
  },
  {
   "cell_type": "code",
   "execution_count": 102,
   "metadata": {},
   "outputs": [
    {
     "data": {
      "text/plain": [
       "<AxesSubplot:xlabel='long', ylabel='lat'>"
      ]
     },
     "execution_count": 102,
     "metadata": {},
     "output_type": "execute_result"
    },
    {
     "data": {
      "image/png": "[encoded data removed]",
      "text/plain": [
       "<Figure size 576x576 with 1 Axes>"
      ]
     },
     "metadata": {
      "needs_background": "light"
     },
     "output_type": "display_data"
    }
   ],
   "source": [
    "# Plotting lat and long shows hotspots for fires\n",
    "# https://www.google.com/maps/place/British+Columbia,+Canada/\n",
    "plt.figure(figsize=(8,8))\n",
    "sns.scatterplot('long','lat',data=df,hue='ha',edgecolor=None, alpha=0.8, palette='rocket_r')"
   ]
  }
 ],
 "metadata": {
  "kernelspec": {
   "display_name": "Python 3",
   "language": "python",
   "name": "python3"
  },
  "language_info": {
   "codemirror_mode": {
    "name": "ipython",
    "version": 3
   },
   "file_extension": ".py",
   "mimetype": "text/x-python",
   "name": "python",
   "nbconvert_exporter": "python",
   "pygments_lexer": "ipython3",
   "version": "3.7.4"
  }
 },
 "nbformat": 4,
 "nbformat_minor": 2
}
