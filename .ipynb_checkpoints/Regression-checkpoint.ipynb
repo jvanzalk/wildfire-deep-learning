{
 "cells": [
  {
   "cell_type": "code",
   "execution_count": 51,
   "metadata": {},
   "outputs": [],
   "source": [
    "# Dependencies\n",
    "import pandas as pd\n",
    "import numpy as np\n",
    "import matplotlib.pyplot as plt\n",
    "import seaborn as sns\n",
    "\n",
    "from sklearn.model_selection import train_test_split\n",
    "from sklearn import metrics\n",
    "\n",
    "from sklearn.linear_model import LinearRegression\n",
    "\n",
    "from sklearn.preprocessing import MinMaxScaler\n",
    "from tensorflow.keras.models import Sequential\n",
    "from tensorflow.keras.layers import Dense,Dropout # Feed forward network where every neuron in one layer is connected to to the next\n",
    "from tensorflow.keras.callbacks import EarlyStopping"
   ]
  },
  {
   "cell_type": "code",
   "execution_count": 29,
   "metadata": {},
   "outputs": [
    {
     "data": {
      "text/html": [
       "<div>\n",
       "<style scoped>\n",
       "    .dataframe tbody tr th:only-of-type {\n",
       "        vertical-align: middle;\n",
       "    }\n",
       "\n",
       "    .dataframe tbody tr th {\n",
       "        vertical-align: top;\n",
       "    }\n",
       "\n",
       "    .dataframe thead th {\n",
       "        text-align: right;\n",
       "    }\n",
       "</style>\n",
       "<table border=\"1\" class=\"dataframe\">\n",
       "  <thead>\n",
       "    <tr style=\"text-align: right;\">\n",
       "      <th></th>\n",
       "      <th>year</th>\n",
       "      <th>lat</th>\n",
       "      <th>long</th>\n",
       "      <th>ha</th>\n",
       "      <th>month</th>\n",
       "    </tr>\n",
       "  </thead>\n",
       "  <tbody>\n",
       "    <tr>\n",
       "      <td>0</td>\n",
       "      <td>2012</td>\n",
       "      <td>52.745783</td>\n",
       "      <td>-124.376983</td>\n",
       "      <td>1.821714</td>\n",
       "      <td>7</td>\n",
       "    </tr>\n",
       "    <tr>\n",
       "      <td>1</td>\n",
       "      <td>2012</td>\n",
       "      <td>52.697483</td>\n",
       "      <td>-123.010117</td>\n",
       "      <td>1.404344</td>\n",
       "      <td>7</td>\n",
       "    </tr>\n",
       "    <tr>\n",
       "      <td>2</td>\n",
       "      <td>2012</td>\n",
       "      <td>53.052650</td>\n",
       "      <td>-122.967000</td>\n",
       "      <td>2.017443</td>\n",
       "      <td>10</td>\n",
       "    </tr>\n",
       "    <tr>\n",
       "      <td>3</td>\n",
       "      <td>2012</td>\n",
       "      <td>52.512883</td>\n",
       "      <td>-122.443817</td>\n",
       "      <td>1.570430</td>\n",
       "      <td>3</td>\n",
       "    </tr>\n",
       "    <tr>\n",
       "      <td>4</td>\n",
       "      <td>2012</td>\n",
       "      <td>52.127933</td>\n",
       "      <td>-121.915067</td>\n",
       "      <td>1.790777</td>\n",
       "      <td>4</td>\n",
       "    </tr>\n",
       "  </tbody>\n",
       "</table>\n",
       "</div>"
      ],
      "text/plain": [
       "   year        lat        long        ha  month\n",
       "0  2012  52.745783 -124.376983  1.821714      7\n",
       "1  2012  52.697483 -123.010117  1.404344      7\n",
       "2  2012  53.052650 -122.967000  2.017443     10\n",
       "3  2012  52.512883 -122.443817  1.570430      3\n",
       "4  2012  52.127933 -121.915067  1.790777      4"
      ]
     },
     "execution_count": 29,
     "metadata": {},
     "output_type": "execute_result"
    }
   ],
   "source": [
    "# Read in cleaned data\n",
    "df = pd.read_csv('fires_cleaned.csv')\n",
    "df.head()"
   ]
  },
  {
   "cell_type": "code",
   "execution_count": 30,
   "metadata": {},
   "outputs": [],
   "source": [
    "# Seperate features and target variables\n",
    "X = df[['year', 'month', 'lat','long']].values\n",
    "y = df['ha'].values"
   ]
  },
  {
   "cell_type": "code",
   "execution_count": 31,
   "metadata": {},
   "outputs": [],
   "source": [
    "# Split data into training and testing groups\n",
    "# random_state ensures the same random split every time\n",
    "X_train, X_test, y_train, y_test = train_test_split(X, y, test_size=0.4, random_state=101)"
   ]
  },
  {
   "cell_type": "markdown",
   "metadata": {},
   "source": [
    "## Simple Multi Linear Regression"
   ]
  },
  {
   "cell_type": "code",
   "execution_count": 32,
   "metadata": {},
   "outputs": [
    {
     "data": {
      "text/plain": [
       "LinearRegression(copy_X=True, fit_intercept=True, n_jobs=None, normalize=False)"
      ]
     },
     "execution_count": 32,
     "metadata": {},
     "output_type": "execute_result"
    }
   ],
   "source": [
    "# fit a linear regression model to the training data\n",
    "lm = LinearRegression()\n",
    "lm.fit(X_train,y_train)"
   ]
  },
  {
   "cell_type": "code",
   "execution_count": 33,
   "metadata": {},
   "outputs": [
    {
     "data": {
      "text/plain": [
       "array([2.00344644, 2.44999441, 2.57947814, 2.18600943, 2.26504663])"
      ]
     },
     "execution_count": 33,
     "metadata": {},
     "output_type": "execute_result"
    }
   ],
   "source": [
    "# Make predictions\n",
    "predictions = lm.predict(X_test)\n",
    "predictions[0:5]"
   ]
  },
  {
   "cell_type": "code",
   "execution_count": 34,
   "metadata": {},
   "outputs": [
    {
     "data": {
      "text/plain": [
       "<matplotlib.collections.PathCollection at 0x1eab2b43848>"
      ]
     },
     "execution_count": 34,
     "metadata": {},
     "output_type": "execute_result"
    },
    {
     "data": {
      "image/png": "[encoded data removed]",
      "text/plain": [
       "<Figure size 432x288 with 1 Axes>"
      ]
     },
     "metadata": {
      "needs_background": "light"
     },
     "output_type": "display_data"
    }
   ],
   "source": [
    "# This model has a very weak fit. Ideally, thr points should be close together and form diagonal line\n",
    "# This is unsuprsing though because if it was easy to predict wildfires from these simple features, they wouldn't be a problem\n",
    "plt.scatter(y_test,predictions)"
   ]
  },
  {
   "cell_type": "code",
   "execution_count": 35,
   "metadata": {},
   "outputs": [
    {
     "data": {
      "text/plain": [
       "<AxesSubplot:>"
      ]
     },
     "execution_count": 35,
     "metadata": {},
     "output_type": "execute_result"
    },
    {
     "data": {
      "image/png": "[encoded data removed]",
      "text/plain": [
       "<Figure size 432x288 with 1 Axes>"
      ]
     },
     "metadata": {
      "needs_background": "light"
     },
     "output_type": "display_data"
    }
   ],
   "source": [
    "#histogram of residuals (diff between actual and predicted values)\n",
    "# residuals are distributed fairly normally so lin model was correct\n",
    "sns.distplot((y_test-predictions))"
   ]
  },
  {
   "cell_type": "code",
   "execution_count": 36,
   "metadata": {},
   "outputs": [
    {
     "data": {
      "text/plain": [
       "0.47715735044103846"
      ]
     },
     "execution_count": 36,
     "metadata": {},
     "output_type": "execute_result"
    }
   ],
   "source": [
    "# Mean absolute error (average difference between true and predicted)\n",
    "metrics.mean_absolute_error(y_test,predictions)"
   ]
  },
  {
   "cell_type": "markdown",
   "metadata": {},
   "source": [
    "## Regression with Tensorflow"
   ]
  },
  {
   "cell_type": "code",
   "execution_count": 37,
   "metadata": {},
   "outputs": [
    {
     "data": {
      "text/plain": [
       "0.0"
      ]
     },
     "execution_count": 37,
     "metadata": {},
     "output_type": "execute_result"
    }
   ],
   "source": [
    "# Avoid issues with weights and biases by normalizing features\n",
    "scaler = MinMaxScaler()\n",
    "scaler.fit(X_train)\n",
    "X_train = scaler.transform(X_train)\n",
    "X_test = scaler.transform(X_test)\n",
    "X_train.min()"
   ]
  },
  {
   "cell_type": "code",
   "execution_count": 38,
   "metadata": {},
   "outputs": [
    {
     "data": {
      "text/plain": [
       "(661, 4)"
      ]
     },
     "execution_count": 38,
     "metadata": {},
     "output_type": "execute_result"
    }
   ],
   "source": [
    "# Create sequential model\n",
    "# Base number of neurons on size of feature data\n",
    "X_train.shape"
   ]
  },
  {
   "cell_type": "code",
   "execution_count": 52,
   "metadata": {},
   "outputs": [],
   "source": [
    "# Pass list of layers\n",
    "# 4 features-> neurons \n",
    "model = Sequential()\n",
    "\n",
    "model.add(Dense(4,activation='relu'))# relu is <0 = 0, >0 = actual\n",
    "model.add(Dropout(0.5))# % neurons you're turning off turing training\n",
    "\n",
    "model.add(Dense(4,activation='relu'))\n",
    "model.add(Dropout(0.5))\n",
    "\n",
    "model.add(Dense(4,activation='relu'))\n",
    "model.add(Dropout(0.5))\n",
    "\n",
    "model.add(Dense(1)) # final output (single ha value)\n",
    "\n",
    "model.compile(optimizer='adam',loss='mse')"
   ]
  },
  {
   "cell_type": "code",
   "execution_count": 53,
   "metadata": {},
   "outputs": [],
   "source": [
    "# Use callbacks to stop training when loss begins to increase\n",
    "early_stop = EarlyStopping(monitor='val_loss',mode='min',verbose=1,patience=5)# minimize loss"
   ]
  },
  {
   "cell_type": "code",
   "execution_count": 54,
   "metadata": {},
   "outputs": [
    {
     "name": "stdout",
     "output_type": "stream",
     "text": [
      "Epoch 1/250\n",
      "21/21 [==============================] - 1s 21ms/step - loss: 6.9103 - val_loss: 5.6109\n",
      "Epoch 2/250\n",
      "21/21 [==============================] - 0s 6ms/step - loss: 6.2827 - val_loss: 5.2450\n",
      "Epoch 3/250\n",
      "21/21 [==============================] - 0s 8ms/step - loss: 5.8989 - val_loss: 4.9722\n",
      "Epoch 4/250\n",
      "21/21 [==============================] - 0s 11ms/step - loss: 5.6779 - val_loss: 4.7238\n",
      "Epoch 5/250\n",
      "21/21 [==============================] - 0s 7ms/step - loss: 5.1882 - val_loss: 4.4943\n",
      "Epoch 6/250\n",
      "21/21 [==============================] - 0s 8ms/step - loss: 5.1092 - val_loss: 4.2874\n",
      "Epoch 7/250\n",
      "21/21 [==============================] - 0s 6ms/step - loss: 4.7651 - val_loss: 4.1152\n",
      "Epoch 8/250\n",
      "21/21 [==============================] - 0s 6ms/step - loss: 4.4792 - val_loss: 3.9506\n",
      "Epoch 9/250\n",
      "21/21 [==============================] - 0s 7ms/step - loss: 4.2047 - val_loss: 3.7939\n",
      "Epoch 10/250\n",
      "21/21 [==============================] - 0s 10ms/step - loss: 4.2416 - val_loss: 3.6361\n",
      "Epoch 11/250\n",
      "21/21 [==============================] - 0s 9ms/step - loss: 3.7786 - val_loss: 3.4678\n",
      "Epoch 12/250\n",
      "21/21 [==============================] - 0s 8ms/step - loss: 3.5341 - val_loss: 3.2828\n",
      "Epoch 13/250\n",
      "21/21 [==============================] - 0s 7ms/step - loss: 3.4234 - val_loss: 3.1120\n",
      "Epoch 14/250\n",
      "21/21 [==============================] - 0s 7ms/step - loss: 3.2239 - val_loss: 2.9390\n",
      "Epoch 15/250\n",
      "21/21 [==============================] - 0s 5ms/step - loss: 3.1313 - val_loss: 2.7741\n",
      "Epoch 16/250\n",
      "21/21 [==============================] - 0s 5ms/step - loss: 3.1511 - val_loss: 2.6240\n",
      "Epoch 17/250\n",
      "21/21 [==============================] - 0s 5ms/step - loss: 3.1133 - val_loss: 2.5043\n",
      "Epoch 18/250\n",
      "21/21 [==============================] - 0s 5ms/step - loss: 2.9510 - val_loss: 2.3766\n",
      "Epoch 19/250\n",
      "21/21 [==============================] - 0s 7ms/step - loss: 2.7227 - val_loss: 2.2326\n",
      "Epoch 20/250\n",
      "21/21 [==============================] - 0s 9ms/step - loss: 2.5740 - val_loss: 2.1163\n",
      "Epoch 21/250\n",
      "21/21 [==============================] - 0s 5ms/step - loss: 2.6118 - val_loss: 2.0011\n",
      "Epoch 22/250\n",
      "21/21 [==============================] - 0s 7ms/step - loss: 2.4131 - val_loss: 1.9218\n",
      "Epoch 23/250\n",
      "21/21 [==============================] - 0s 7ms/step - loss: 2.2421 - val_loss: 1.8423\n",
      "Epoch 24/250\n",
      "21/21 [==============================] - 0s 7ms/step - loss: 2.2718 - val_loss: 1.7845\n",
      "Epoch 25/250\n",
      "21/21 [==============================] - 0s 6ms/step - loss: 2.2297 - val_loss: 1.6996\n",
      "Epoch 26/250\n",
      "21/21 [==============================] - 0s 7ms/step - loss: 1.9930 - val_loss: 1.6294\n",
      "Epoch 27/250\n",
      "21/21 [==============================] - 0s 6ms/step - loss: 2.0215 - val_loss: 1.5483\n",
      "Epoch 28/250\n",
      "21/21 [==============================] - 0s 18ms/step - loss: 1.9736 - val_loss: 1.4723\n",
      "Epoch 29/250\n",
      "21/21 [==============================] - 0s 7ms/step - loss: 1.7648 - val_loss: 1.4314\n",
      "Epoch 30/250\n",
      "21/21 [==============================] - 0s 7ms/step - loss: 1.9604 - val_loss: 1.3903\n",
      "Epoch 31/250\n",
      "21/21 [==============================] - 0s 6ms/step - loss: 2.0199 - val_loss: 1.3350\n",
      "Epoch 32/250\n",
      "21/21 [==============================] - 0s 7ms/step - loss: 1.8415 - val_loss: 1.2758\n",
      "Epoch 33/250\n",
      "21/21 [==============================] - 0s 6ms/step - loss: 1.8014 - val_loss: 1.2153\n",
      "Epoch 34/250\n",
      "21/21 [==============================] - 0s 8ms/step - loss: 1.8586 - val_loss: 1.1691\n",
      "Epoch 35/250\n",
      "21/21 [==============================] - 0s 8ms/step - loss: 1.6972 - val_loss: 1.1206\n",
      "Epoch 36/250\n",
      "21/21 [==============================] - 0s 7ms/step - loss: 1.6285 - val_loss: 1.0791\n",
      "Epoch 37/250\n",
      "21/21 [==============================] - 0s 6ms/step - loss: 1.5628 - val_loss: 1.0518\n",
      "Epoch 38/250\n",
      "21/21 [==============================] - 0s 5ms/step - loss: 1.5199 - val_loss: 1.0208\n",
      "Epoch 39/250\n",
      "21/21 [==============================] - 0s 5ms/step - loss: 1.6423 - val_loss: 0.9923\n",
      "Epoch 40/250\n",
      "21/21 [==============================] - 0s 7ms/step - loss: 1.4813 - val_loss: 0.9643\n",
      "Epoch 41/250\n",
      "21/21 [==============================] - 0s 7ms/step - loss: 1.7033 - val_loss: 0.9388\n",
      "Epoch 42/250\n",
      "21/21 [==============================] - 0s 8ms/step - loss: 1.6353 - val_loss: 0.9161\n",
      "Epoch 43/250\n",
      "21/21 [==============================] - 0s 6ms/step - loss: 1.5041 - val_loss: 0.8923\n",
      "Epoch 44/250\n",
      "21/21 [==============================] - 0s 9ms/step - loss: 1.6629 - val_loss: 0.8753\n",
      "Epoch 45/250\n",
      "21/21 [==============================] - 0s 6ms/step - loss: 1.4329 - val_loss: 0.8560\n",
      "Epoch 46/250\n",
      "21/21 [==============================] - 0s 6ms/step - loss: 1.4847 - val_loss: 0.8359\n",
      "Epoch 47/250\n",
      "21/21 [==============================] - 0s 7ms/step - loss: 1.4755 - val_loss: 0.8156\n",
      "Epoch 48/250\n",
      "21/21 [==============================] - 0s 6ms/step - loss: 1.4560 - val_loss: 0.7992\n",
      "Epoch 49/250\n",
      "21/21 [==============================] - 0s 10ms/step - loss: 1.3854 - val_loss: 0.7881\n",
      "Epoch 50/250\n",
      "21/21 [==============================] - 0s 5ms/step - loss: 1.5260 - val_loss: 0.7745\n",
      "Epoch 51/250\n",
      "21/21 [==============================] - 0s 5ms/step - loss: 1.3594 - val_loss: 0.7602\n",
      "Epoch 52/250\n",
      "21/21 [==============================] - 0s 8ms/step - loss: 1.3722 - val_loss: 0.7504\n",
      "Epoch 53/250\n",
      "21/21 [==============================] - 0s 9ms/step - loss: 1.3083 - val_loss: 0.7394\n",
      "Epoch 54/250\n",
      "21/21 [==============================] - 0s 6ms/step - loss: 1.4298 - val_loss: 0.7256\n",
      "Epoch 55/250\n",
      "21/21 [==============================] - 0s 6ms/step - loss: 1.2607 - val_loss: 0.7172\n",
      "Epoch 56/250\n",
      "21/21 [==============================] - 0s 7ms/step - loss: 1.3972 - val_loss: 0.7075\n",
      "Epoch 57/250\n",
      "21/21 [==============================] - 0s 6ms/step - loss: 1.2146 - val_loss: 0.6998\n",
      "Epoch 58/250\n",
      "21/21 [==============================] - 0s 6ms/step - loss: 1.2340 - val_loss: 0.6895\n",
      "Epoch 59/250\n",
      "21/21 [==============================] - 0s 5ms/step - loss: 1.3180 - val_loss: 0.6813\n",
      "Epoch 60/250\n",
      "21/21 [==============================] - 0s 7ms/step - loss: 1.2815 - val_loss: 0.6721\n",
      "Epoch 61/250\n",
      "21/21 [==============================] - 0s 7ms/step - loss: 1.2016 - val_loss: 0.6625\n",
      "Epoch 62/250\n",
      "21/21 [==============================] - 0s 8ms/step - loss: 1.1809 - val_loss: 0.6582\n",
      "Epoch 63/250\n",
      "21/21 [==============================] - 0s 9ms/step - loss: 1.1586 - val_loss: 0.6486\n",
      "Epoch 64/250\n",
      "21/21 [==============================] - 0s 8ms/step - loss: 1.0715 - val_loss: 0.6440\n",
      "Epoch 65/250\n",
      "21/21 [==============================] - 0s 6ms/step - loss: 1.0531 - val_loss: 0.6385\n",
      "Epoch 66/250\n",
      "21/21 [==============================] - 0s 9ms/step - loss: 1.1352 - val_loss: 0.6287\n",
      "Epoch 67/250\n",
      "21/21 [==============================] - 0s 5ms/step - loss: 1.2196 - val_loss: 0.6247\n",
      "Epoch 68/250\n",
      "21/21 [==============================] - 0s 11ms/step - loss: 1.0716 - val_loss: 0.6166\n",
      "Epoch 69/250\n",
      "21/21 [==============================] - 0s 10ms/step - loss: 1.1362 - val_loss: 0.6101\n",
      "Epoch 70/250\n",
      "21/21 [==============================] - 0s 7ms/step - loss: 1.1244 - val_loss: 0.6026\n",
      "Epoch 71/250\n",
      "21/21 [==============================] - 0s 7ms/step - loss: 1.1359 - val_loss: 0.6000\n",
      "Epoch 72/250\n",
      "21/21 [==============================] - 0s 7ms/step - loss: 1.0573 - val_loss: 0.5964\n",
      "Epoch 73/250\n",
      "21/21 [==============================] - 0s 16ms/step - loss: 1.0789 - val_loss: 0.5901\n",
      "Epoch 74/250\n",
      "21/21 [==============================] - 0s 4ms/step - loss: 1.0416 - val_loss: 0.5838\n",
      "Epoch 75/250\n",
      "21/21 [==============================] - 0s 6ms/step - loss: 1.0480 - val_loss: 0.5784\n",
      "Epoch 76/250\n",
      "21/21 [==============================] - 0s 5ms/step - loss: 1.0330 - val_loss: 0.5748\n",
      "Epoch 77/250\n",
      "21/21 [==============================] - 0s 6ms/step - loss: 1.0071 - val_loss: 0.5692\n",
      "Epoch 78/250\n",
      "21/21 [==============================] - 0s 9ms/step - loss: 1.0051 - val_loss: 0.5656\n",
      "Epoch 79/250\n",
      "21/21 [==============================] - 0s 7ms/step - loss: 0.9176 - val_loss: 0.5640\n",
      "Epoch 80/250\n",
      "21/21 [==============================] - 0s 6ms/step - loss: 0.9736 - val_loss: 0.5590\n",
      "Epoch 81/250\n",
      "21/21 [==============================] - 0s 11ms/step - loss: 0.8950 - val_loss: 0.5513\n",
      "Epoch 82/250\n",
      "21/21 [==============================] - 0s 6ms/step - loss: 0.8758 - val_loss: 0.5463\n"
     ]
    },
    {
     "name": "stdout",
     "output_type": "stream",
     "text": [
      "Epoch 83/250\n",
      "21/21 [==============================] - 0s 6ms/step - loss: 0.9089 - val_loss: 0.5348\n",
      "Epoch 84/250\n",
      "21/21 [==============================] - 0s 5ms/step - loss: 0.8313 - val_loss: 0.5297\n",
      "Epoch 85/250\n",
      "21/21 [==============================] - 0s 5ms/step - loss: 0.8561 - val_loss: 0.5241\n",
      "Epoch 86/250\n",
      "21/21 [==============================] - 0s 8ms/step - loss: 0.9613 - val_loss: 0.5196\n",
      "Epoch 87/250\n",
      "21/21 [==============================] - 0s 8ms/step - loss: 0.8370 - val_loss: 0.5143\n",
      "Epoch 88/250\n",
      "21/21 [==============================] - 0s 9ms/step - loss: 0.9056 - val_loss: 0.5098\n",
      "Epoch 89/250\n",
      "21/21 [==============================] - 0s 7ms/step - loss: 0.8165 - val_loss: 0.5034\n",
      "Epoch 90/250\n",
      "21/21 [==============================] - 0s 5ms/step - loss: 0.7586 - val_loss: 0.4977\n",
      "Epoch 91/250\n",
      "21/21 [==============================] - 0s 8ms/step - loss: 0.7801 - val_loss: 0.4931\n",
      "Epoch 92/250\n",
      "21/21 [==============================] - 0s 7ms/step - loss: 0.7881 - val_loss: 0.4881\n",
      "Epoch 93/250\n",
      "21/21 [==============================] - 0s 8ms/step - loss: 0.7899 - val_loss: 0.4827\n",
      "Epoch 94/250\n",
      "21/21 [==============================] - 0s 6ms/step - loss: 0.7486 - val_loss: 0.4803\n",
      "Epoch 95/250\n",
      "21/21 [==============================] - 0s 6ms/step - loss: 0.8593 - val_loss: 0.4747\n",
      "Epoch 96/250\n",
      "21/21 [==============================] - 0s 10ms/step - loss: 0.7476 - val_loss: 0.4730\n",
      "Epoch 97/250\n",
      "21/21 [==============================] - 0s 5ms/step - loss: 0.7869 - val_loss: 0.4724\n",
      "Epoch 98/250\n",
      "21/21 [==============================] - 0s 7ms/step - loss: 0.8045 - val_loss: 0.4693\n",
      "Epoch 99/250\n",
      "21/21 [==============================] - 0s 7ms/step - loss: 0.7435 - val_loss: 0.4645\n",
      "Epoch 100/250\n",
      "21/21 [==============================] - 0s 8ms/step - loss: 0.8212 - val_loss: 0.4607\n",
      "Epoch 101/250\n",
      "21/21 [==============================] - 0s 9ms/step - loss: 0.7513 - val_loss: 0.4592\n",
      "Epoch 102/250\n",
      "21/21 [==============================] - 0s 6ms/step - loss: 0.7065 - val_loss: 0.4549\n",
      "Epoch 103/250\n",
      "21/21 [==============================] - 0s 11ms/step - loss: 0.6755 - val_loss: 0.4505\n",
      "Epoch 104/250\n",
      "21/21 [==============================] - 0s 6ms/step - loss: 0.7249 - val_loss: 0.4472\n",
      "Epoch 105/250\n",
      "21/21 [==============================] - 0s 6ms/step - loss: 0.7456 - val_loss: 0.4453\n",
      "Epoch 106/250\n",
      "21/21 [==============================] - 0s 10ms/step - loss: 0.6324 - val_loss: 0.4403\n",
      "Epoch 107/250\n",
      "21/21 [==============================] - 0s 9ms/step - loss: 0.7012 - val_loss: 0.4364\n",
      "Epoch 108/250\n",
      "21/21 [==============================] - 0s 11ms/step - loss: 0.7103 - val_loss: 0.4326\n",
      "Epoch 109/250\n",
      "21/21 [==============================] - 0s 21ms/step - loss: 0.6978 - val_loss: 0.4271\n",
      "Epoch 110/250\n",
      "21/21 [==============================] - 0s 10ms/step - loss: 0.6540 - val_loss: 0.4247\n",
      "Epoch 111/250\n",
      "21/21 [==============================] - 0s 10ms/step - loss: 0.7088 - val_loss: 0.4223\n",
      "Epoch 112/250\n",
      "21/21 [==============================] - 0s 9ms/step - loss: 0.6391 - val_loss: 0.4199\n",
      "Epoch 113/250\n",
      "21/21 [==============================] - 0s 7ms/step - loss: 0.6345 - val_loss: 0.4173\n",
      "Epoch 114/250\n",
      "21/21 [==============================] - 0s 8ms/step - loss: 0.7273 - val_loss: 0.4159\n",
      "Epoch 115/250\n",
      "21/21 [==============================] - 0s 14ms/step - loss: 0.6008 - val_loss: 0.4126\n",
      "Epoch 116/250\n",
      "21/21 [==============================] - 0s 8ms/step - loss: 0.5936 - val_loss: 0.4092\n",
      "Epoch 117/250\n",
      "21/21 [==============================] - 0s 7ms/step - loss: 0.6153 - val_loss: 0.4062\n",
      "Epoch 118/250\n",
      "21/21 [==============================] - 0s 12ms/step - loss: 0.5708 - val_loss: 0.4040\n",
      "Epoch 119/250\n",
      "21/21 [==============================] - 0s 10ms/step - loss: 0.5623 - val_loss: 0.4009\n",
      "Epoch 120/250\n",
      "21/21 [==============================] - 0s 5ms/step - loss: 0.6120 - val_loss: 0.3964\n",
      "Epoch 121/250\n",
      "21/21 [==============================] - 0s 6ms/step - loss: 0.5382 - val_loss: 0.3927\n",
      "Epoch 122/250\n",
      "21/21 [==============================] - 0s 8ms/step - loss: 0.5657 - val_loss: 0.3904\n",
      "Epoch 123/250\n",
      "21/21 [==============================] - 0s 10ms/step - loss: 0.5680 - val_loss: 0.3877\n",
      "Epoch 124/250\n",
      "21/21 [==============================] - 0s 12ms/step - loss: 0.5597 - val_loss: 0.3862\n",
      "Epoch 125/250\n",
      "21/21 [==============================] - 0s 8ms/step - loss: 0.5127 - val_loss: 0.3831\n",
      "Epoch 126/250\n",
      "21/21 [==============================] - 0s 8ms/step - loss: 0.4996 - val_loss: 0.3804\n",
      "Epoch 127/250\n",
      "21/21 [==============================] - 0s 10ms/step - loss: 0.5498 - val_loss: 0.3790\n",
      "Epoch 128/250\n",
      "21/21 [==============================] - 0s 8ms/step - loss: 0.5139 - val_loss: 0.3776\n",
      "Epoch 129/250\n",
      "21/21 [==============================] - 0s 9ms/step - loss: 0.4925 - val_loss: 0.3758\n",
      "Epoch 130/250\n",
      "21/21 [==============================] - 0s 9ms/step - loss: 0.5713 - val_loss: 0.3748\n",
      "Epoch 131/250\n",
      "21/21 [==============================] - 0s 8ms/step - loss: 0.5095 - val_loss: 0.3732\n",
      "Epoch 132/250\n",
      "21/21 [==============================] - 0s 8ms/step - loss: 0.4887 - val_loss: 0.3709\n",
      "Epoch 133/250\n",
      "21/21 [==============================] - 0s 7ms/step - loss: 0.5274 - val_loss: 0.3687\n",
      "Epoch 134/250\n",
      "21/21 [==============================] - 0s 6ms/step - loss: 0.4857 - val_loss: 0.3672\n",
      "Epoch 135/250\n",
      "21/21 [==============================] - 0s 8ms/step - loss: 0.5063 - val_loss: 0.3655\n",
      "Epoch 136/250\n",
      "21/21 [==============================] - 0s 7ms/step - loss: 0.5045 - val_loss: 0.3650\n",
      "Epoch 137/250\n",
      "21/21 [==============================] - 0s 10ms/step - loss: 0.5013 - val_loss: 0.3630\n",
      "Epoch 138/250\n",
      "21/21 [==============================] - 0s 9ms/step - loss: 0.5105 - val_loss: 0.3615\n",
      "Epoch 139/250\n",
      "21/21 [==============================] - 0s 23ms/step - loss: 0.4906 - val_loss: 0.3601\n",
      "Epoch 140/250\n",
      "21/21 [==============================] - 0s 8ms/step - loss: 0.4971 - val_loss: 0.3588\n",
      "Epoch 141/250\n",
      "21/21 [==============================] - 0s 7ms/step - loss: 0.4444 - val_loss: 0.3577\n",
      "Epoch 142/250\n",
      "21/21 [==============================] - 0s 10ms/step - loss: 0.4711 - val_loss: 0.3562\n",
      "Epoch 143/250\n",
      "21/21 [==============================] - 0s 6ms/step - loss: 0.4546 - val_loss: 0.3555\n",
      "Epoch 144/250\n",
      "21/21 [==============================] - 0s 5ms/step - loss: 0.4864 - val_loss: 0.3545\n",
      "Epoch 145/250\n",
      "21/21 [==============================] - 0s 9ms/step - loss: 0.4474 - val_loss: 0.3535\n",
      "Epoch 146/250\n",
      "21/21 [==============================] - 0s 6ms/step - loss: 0.4680 - val_loss: 0.3522\n",
      "Epoch 147/250\n",
      "21/21 [==============================] - 0s 5ms/step - loss: 0.3822 - val_loss: 0.3510\n",
      "Epoch 148/250\n",
      "21/21 [==============================] - 0s 5ms/step - loss: 0.4534 - val_loss: 0.3490\n",
      "Epoch 149/250\n",
      "21/21 [==============================] - 0s 5ms/step - loss: 0.4483 - val_loss: 0.3473\n",
      "Epoch 150/250\n",
      "21/21 [==============================] - 0s 5ms/step - loss: 0.4510 - val_loss: 0.3461\n",
      "Epoch 151/250\n",
      "21/21 [==============================] - 0s 6ms/step - loss: 0.3832 - val_loss: 0.3445\n",
      "Epoch 152/250\n",
      "21/21 [==============================] - 0s 6ms/step - loss: 0.4388 - val_loss: 0.3430\n",
      "Epoch 153/250\n",
      "21/21 [==============================] - 0s 6ms/step - loss: 0.4117 - val_loss: 0.3420\n",
      "Epoch 154/250\n",
      "21/21 [==============================] - 0s 6ms/step - loss: 0.4059 - val_loss: 0.3417\n",
      "Epoch 155/250\n",
      "21/21 [==============================] - 0s 5ms/step - loss: 0.4019 - val_loss: 0.3410\n",
      "Epoch 156/250\n",
      "21/21 [==============================] - 0s 6ms/step - loss: 0.4283 - val_loss: 0.3406\n",
      "Epoch 157/250\n",
      "21/21 [==============================] - 0s 10ms/step - loss: 0.4071 - val_loss: 0.3398\n",
      "Epoch 158/250\n",
      "21/21 [==============================] - 0s 9ms/step - loss: 0.4249 - val_loss: 0.3390\n",
      "Epoch 159/250\n",
      "21/21 [==============================] - 0s 5ms/step - loss: 0.4140 - val_loss: 0.3386\n",
      "Epoch 160/250\n",
      "21/21 [==============================] - 0s 5ms/step - loss: 0.4204 - val_loss: 0.3387\n",
      "Epoch 161/250\n",
      "21/21 [==============================] - 0s 5ms/step - loss: 0.3916 - val_loss: 0.3383\n",
      "Epoch 162/250\n",
      "21/21 [==============================] - 0s 5ms/step - loss: 0.3645 - val_loss: 0.3373\n",
      "Epoch 163/250\n",
      "21/21 [==============================] - 0s 5ms/step - loss: 0.4045 - val_loss: 0.3367\n",
      "Epoch 164/250\n"
     ]
    },
    {
     "name": "stdout",
     "output_type": "stream",
     "text": [
      "21/21 [==============================] - 0s 6ms/step - loss: 0.3877 - val_loss: 0.3360\n",
      "Epoch 165/250\n",
      "21/21 [==============================] - 0s 8ms/step - loss: 0.3889 - val_loss: 0.3355\n",
      "Epoch 166/250\n",
      "21/21 [==============================] - 0s 6ms/step - loss: 0.4036 - val_loss: 0.3346\n",
      "Epoch 167/250\n",
      "21/21 [==============================] - 0s 6ms/step - loss: 0.3744 - val_loss: 0.3338\n",
      "Epoch 168/250\n",
      "21/21 [==============================] - 0s 7ms/step - loss: 0.3577 - val_loss: 0.3337\n",
      "Epoch 169/250\n",
      "21/21 [==============================] - 0s 9ms/step - loss: 0.4041 - val_loss: 0.3334\n",
      "Epoch 170/250\n",
      "21/21 [==============================] - 0s 6ms/step - loss: 0.3826 - val_loss: 0.3327\n",
      "Epoch 171/250\n",
      "21/21 [==============================] - 0s 5ms/step - loss: 0.3514 - val_loss: 0.3322\n",
      "Epoch 172/250\n",
      "21/21 [==============================] - 0s 5ms/step - loss: 0.3899 - val_loss: 0.3320\n",
      "Epoch 173/250\n",
      "21/21 [==============================] - 0s 7ms/step - loss: 0.3798 - val_loss: 0.3318\n",
      "Epoch 174/250\n",
      "21/21 [==============================] - 0s 9ms/step - loss: 0.3835 - val_loss: 0.3312\n",
      "Epoch 175/250\n",
      "21/21 [==============================] - 0s 7ms/step - loss: 0.3680 - val_loss: 0.3309\n",
      "Epoch 176/250\n",
      "21/21 [==============================] - 0s 7ms/step - loss: 0.3626 - val_loss: 0.3305\n",
      "Epoch 177/250\n",
      "21/21 [==============================] - 0s 6ms/step - loss: 0.3856 - val_loss: 0.3303\n",
      "Epoch 178/250\n",
      "21/21 [==============================] - 0s 7ms/step - loss: 0.3714 - val_loss: 0.3298\n",
      "Epoch 179/250\n",
      "21/21 [==============================] - 0s 6ms/step - loss: 0.3683 - val_loss: 0.3295\n",
      "Epoch 180/250\n",
      "21/21 [==============================] - 0s 6ms/step - loss: 0.3871 - val_loss: 0.3293\n",
      "Epoch 181/250\n",
      "21/21 [==============================] - 0s 7ms/step - loss: 0.3600 - val_loss: 0.3293\n",
      "Epoch 182/250\n",
      "21/21 [==============================] - 0s 9ms/step - loss: 0.3743 - val_loss: 0.3291\n",
      "Epoch 183/250\n",
      "21/21 [==============================] - 0s 7ms/step - loss: 0.3872 - val_loss: 0.3291\n",
      "Epoch 184/250\n",
      "21/21 [==============================] - 0s 16ms/step - loss: 0.3653 - val_loss: 0.3290\n",
      "Epoch 185/250\n",
      "21/21 [==============================] - 0s 7ms/step - loss: 0.3629 - val_loss: 0.3289\n",
      "Epoch 186/250\n",
      "21/21 [==============================] - 0s 6ms/step - loss: 0.3673 - val_loss: 0.3288\n",
      "Epoch 187/250\n",
      "21/21 [==============================] - 0s 6ms/step - loss: 0.3676 - val_loss: 0.3286\n",
      "Epoch 188/250\n",
      "21/21 [==============================] - 0s 6ms/step - loss: 0.3774 - val_loss: 0.3284\n",
      "Epoch 189/250\n",
      "21/21 [==============================] - 0s 7ms/step - loss: 0.3560 - val_loss: 0.3282\n",
      "Epoch 190/250\n",
      "21/21 [==============================] - 0s 7ms/step - loss: 0.3523 - val_loss: 0.3282\n",
      "Epoch 191/250\n",
      "21/21 [==============================] - 0s 6ms/step - loss: 0.3512 - val_loss: 0.3281\n",
      "Epoch 192/250\n",
      "21/21 [==============================] - 0s 11ms/step - loss: 0.3709 - val_loss: 0.3279\n",
      "Epoch 193/250\n",
      "21/21 [==============================] - 0s 7ms/step - loss: 0.3607 - val_loss: 0.3278\n",
      "Epoch 194/250\n",
      "21/21 [==============================] - 0s 6ms/step - loss: 0.3566 - val_loss: 0.3279\n",
      "Epoch 195/250\n",
      "21/21 [==============================] - 0s 7ms/step - loss: 0.3520 - val_loss: 0.3280\n",
      "Epoch 196/250\n",
      "21/21 [==============================] - 0s 6ms/step - loss: 0.3418 - val_loss: 0.3280\n",
      "Epoch 197/250\n",
      "21/21 [==============================] - 0s 11ms/step - loss: 0.3643 - val_loss: 0.3279\n",
      "Epoch 198/250\n",
      "21/21 [==============================] - 0s 5ms/step - loss: 0.3445 - val_loss: 0.3277\n",
      "Epoch 199/250\n",
      "21/21 [==============================] - 0s 7ms/step - loss: 0.3539 - val_loss: 0.3276\n",
      "Epoch 200/250\n",
      "21/21 [==============================] - 0s 8ms/step - loss: 0.3362 - val_loss: 0.3276\n",
      "Epoch 201/250\n",
      "21/21 [==============================] - 0s 9ms/step - loss: 0.3787 - val_loss: 0.3275\n",
      "Epoch 202/250\n",
      "21/21 [==============================] - 0s 9ms/step - loss: 0.3470 - val_loss: 0.3271\n",
      "Epoch 203/250\n",
      "21/21 [==============================] - 0s 9ms/step - loss: 0.3453 - val_loss: 0.3269\n",
      "Epoch 204/250\n",
      "21/21 [==============================] - 0s 10ms/step - loss: 0.3541 - val_loss: 0.3270\n",
      "Epoch 205/250\n",
      "21/21 [==============================] - 0s 7ms/step - loss: 0.3270 - val_loss: 0.3269\n",
      "Epoch 206/250\n",
      "21/21 [==============================] - 0s 5ms/step - loss: 0.3667 - val_loss: 0.3266\n",
      "Epoch 207/250\n",
      "21/21 [==============================] - 0s 9ms/step - loss: 0.3347 - val_loss: 0.3266\n",
      "Epoch 208/250\n",
      "21/21 [==============================] - 0s 9ms/step - loss: 0.3353 - val_loss: 0.3268\n",
      "Epoch 209/250\n",
      "21/21 [==============================] - 0s 9ms/step - loss: 0.3184 - val_loss: 0.3270\n",
      "Epoch 210/250\n",
      "21/21 [==============================] - 0s 7ms/step - loss: 0.3563 - val_loss: 0.3270\n",
      "Epoch 211/250\n",
      "21/21 [==============================] - 0s 5ms/step - loss: 0.3564 - val_loss: 0.3271\n",
      "Epoch 00211: early stopping\n"
     ]
    },
    {
     "data": {
      "text/plain": [
       "<tensorflow.python.keras.callbacks.History at 0x1eab7badb48>"
      ]
     },
     "execution_count": 54,
     "metadata": {},
     "output_type": "execute_result"
    }
   ],
   "source": [
    "# Train the model\n",
    "# Pass in validation data (after each epoch, run the test data and check loss)\n",
    "model.fit(X_train,y_train,\n",
    "          validation_data=(X_test,y_test),epochs=250,\n",
    "          callbacks=[early_stop])#batch_size is an option for larger datasets"
   ]
  },
  {
   "cell_type": "code",
   "execution_count": 55,
   "metadata": {},
   "outputs": [
    {
     "data": {
      "text/plain": [
       "<AxesSubplot:>"
      ]
     },
     "execution_count": 55,
     "metadata": {},
     "output_type": "execute_result"
    },
    {
     "data": {
      "image/png": "[encoded data removed]",
      "text/plain": [
       "<Figure size 432x288 with 1 Axes>"
      ]
     },
     "metadata": {
      "needs_background": "light"
     },
     "output_type": "display_data"
    }
   ],
   "source": [
    "# Traning and validation loss lines are identical indicating that we can continue training without overfitting data\n",
    "# Loss cuts off after 20 epochs\n",
    "loss_df = pd.DataFrame(model.history.history)\n",
    "loss_df.plot()"
   ]
  },
  {
   "cell_type": "code",
   "execution_count": 56,
   "metadata": {},
   "outputs": [],
   "source": [
    "# have model predict prices\n",
    "predictions_tnsrflw = model.predict(X_test)"
   ]
  },
  {
   "cell_type": "code",
   "execution_count": 57,
   "metadata": {},
   "outputs": [
    {
     "data": {
      "text/plain": [
       "0.4858703686883893"
      ]
     },
     "execution_count": 57,
     "metadata": {},
     "output_type": "execute_result"
    }
   ],
   "source": [
    "# Error went down with tensorflow\n",
    "metrics.mean_absolute_error(y_test,predictions_tnsrflw)"
   ]
  },
  {
   "cell_type": "code",
   "execution_count": 58,
   "metadata": {},
   "outputs": [
    {
     "data": {
      "text/plain": [
       "0.0022930864796520956"
      ]
     },
     "execution_count": 58,
     "metadata": {},
     "output_type": "execute_result"
    }
   ],
   "source": [
    "# Model only explains 2.8% of variance -> predictions would be unreliable\n",
    "metrics.explained_variance_score(y_test,predictions_tnsrflw)"
   ]
  },
  {
   "cell_type": "code",
   "execution_count": null,
   "metadata": {},
   "outputs": [],
   "source": [
    "# This model has weak predictive ability. Date and location unsurprisingly don't explain fire size\n",
    "# Potential features to add:\n",
    "# - weather data\n",
    "# - travel data (e.g. Airbnb, hotels.com)"
   ]
  },
  {
   "cell_type": "code",
   "execution_count": null,
   "metadata": {},
   "outputs": [],
   "source": []
  }
 ],
 "metadata": {
  "kernelspec": {
   "display_name": "Python 3",
   "language": "python",
   "name": "python3"
  },
  "language_info": {
   "codemirror_mode": {
    "name": "ipython",
    "version": 3
   },
   "file_extension": ".py",
   "mimetype": "text/x-python",
   "name": "python",
   "nbconvert_exporter": "python",
   "pygments_lexer": "ipython3",
   "version": "3.7.4"
  }
 },
 "nbformat": 4,
 "nbformat_minor": 2
}
