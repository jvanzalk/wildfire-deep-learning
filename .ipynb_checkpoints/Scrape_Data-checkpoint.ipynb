{
 "cells": [
  {
   "cell_type": "code",
   "execution_count": 6,
   "metadata": {},
   "outputs": [],
   "source": [
    "# Dependencies\n",
    "import pandas as pd\n",
    "from selenium import webdriver\n",
    "import time"
   ]
  },
  {
   "cell_type": "code",
   "execution_count": 2,
   "metadata": {},
   "outputs": [
    {
     "name": "stderr",
     "output_type": "stream",
     "text": [
      "[WDM] - Current google-chrome version is 88.0.4324\n",
      "[WDM] - Get LATEST driver version for 88.0.4324\n",
      "[WDM] - Get LATEST driver version for 88.0.4324\n",
      "[WDM] - Trying to download new driver from http://chromedriver.storage.googleapis.com/88.0.4324.96/chromedriver_win32.zip\n"
     ]
    },
    {
     "name": "stdout",
     "output_type": "stream",
     "text": [
      " \n"
     ]
    },
    {
     "name": "stderr",
     "output_type": "stream",
     "text": [
      "[WDM] - Driver has been saved in cache [C:\\Users\\jvanzalk\\.wdm\\drivers\\chromedriver\\win32\\88.0.4324.96]\n"
     ]
    }
   ],
   "source": [
    "from webdriver_manager.chrome import ChromeDriverManager\n",
    "driver = webdriver.Chrome(ChromeDriverManager().install())"
   ]
  },
  {
   "cell_type": "code",
   "execution_count": 12,
   "metadata": {},
   "outputs": [],
   "source": [
    "# Navigate to BC government webpage\n",
    "driver.get('https://www2.gov.bc.ca/gov/content/safety/wildfire-status/about-bcws/wildfire-statistics')\n",
    "time.sleep(3)"
   ]
  },
  {
   "cell_type": "code",
   "execution_count": 69,
   "metadata": {},
   "outputs": [
    {
     "data": {
      "text/html": [
       "<div>\n",
       "<style scoped>\n",
       "    .dataframe tbody tr th:only-of-type {\n",
       "        vertical-align: middle;\n",
       "    }\n",
       "\n",
       "    .dataframe tbody tr th {\n",
       "        vertical-align: top;\n",
       "    }\n",
       "\n",
       "    .dataframe thead th {\n",
       "        text-align: right;\n",
       "    }\n",
       "</style>\n",
       "<table border=\"1\" class=\"dataframe\">\n",
       "  <thead>\n",
       "    <tr style=\"text-align: right;\">\n",
       "      <th></th>\n",
       "      <th>Year</th>\n",
       "      <th>Fire Number</th>\n",
       "      <th>Fire Centre</th>\n",
       "      <th>Latitude</th>\n",
       "      <th>Longitude</th>\n",
       "      <th>Geographic</th>\n",
       "      <th>Discovery Date</th>\n",
       "      <th>Size (ha)</th>\n",
       "    </tr>\n",
       "  </thead>\n",
       "  <tbody>\n",
       "    <tr>\n",
       "      <td>0</td>\n",
       "      <td>2012</td>\n",
       "      <td>C10075 (2012)</td>\n",
       "      <td>Cariboo</td>\n",
       "      <td>52 44.747</td>\n",
       "      <td>124 22.619</td>\n",
       "      <td>Bald Face Mountain</td>\n",
       "      <td>July 14, 2012</td>\n",
       "      <td>13.0</td>\n",
       "    </tr>\n",
       "    <tr>\n",
       "      <td>1</td>\n",
       "      <td>2012</td>\n",
       "      <td>C10118 (2012)</td>\n",
       "      <td>Cariboo</td>\n",
       "      <td>52 41.849</td>\n",
       "      <td>123 00.607</td>\n",
       "      <td>Quesnel-Merston Creek</td>\n",
       "      <td>July 19, 2012</td>\n",
       "      <td>6.0</td>\n",
       "    </tr>\n",
       "    <tr>\n",
       "      <td>2</td>\n",
       "      <td>2012</td>\n",
       "      <td>C10247 (2012)</td>\n",
       "      <td>Cariboo</td>\n",
       "      <td>53 03.159</td>\n",
       "      <td>122 58.020</td>\n",
       "      <td>11B Road Blackwater</td>\n",
       "      <td>October 17, 2012</td>\n",
       "      <td>20.0</td>\n",
       "    </tr>\n",
       "    <tr>\n",
       "      <td>3</td>\n",
       "      <td>2012</td>\n",
       "      <td>C10250 (2012)</td>\n",
       "      <td>Cariboo</td>\n",
       "      <td>52 30.773</td>\n",
       "      <td>122 26.629</td>\n",
       "      <td>Margeurite</td>\n",
       "      <td>March 30, 2013</td>\n",
       "      <td>8.0</td>\n",
       "    </tr>\n",
       "    <tr>\n",
       "      <td>4</td>\n",
       "      <td>2012</td>\n",
       "      <td>C20005 (2012)</td>\n",
       "      <td>Cariboo</td>\n",
       "      <td>52 07.676</td>\n",
       "      <td>121 54.904</td>\n",
       "      <td>150 Mile House-330 Valley Rd</td>\n",
       "      <td>April 7, 2012</td>\n",
       "      <td>12.2</td>\n",
       "    </tr>\n",
       "  </tbody>\n",
       "</table>\n",
       "</div>"
      ],
      "text/plain": [
       "   Year    Fire Number Fire Centre   Latitude   Longitude  \\\n",
       "0  2012  C10075 (2012)     Cariboo  52 44.747  124 22.619   \n",
       "1  2012  C10118 (2012)     Cariboo  52 41.849  123 00.607   \n",
       "2  2012  C10247 (2012)     Cariboo  53 03.159  122 58.020   \n",
       "3  2012  C10250 (2012)     Cariboo  52 30.773  122 26.629   \n",
       "4  2012  C20005 (2012)     Cariboo  52 07.676  121 54.904   \n",
       "\n",
       "                     Geographic    Discovery Date  Size (ha)  \n",
       "0            Bald Face Mountain     July 14, 2012       13.0  \n",
       "1         Quesnel-Merston Creek     July 19, 2012        6.0  \n",
       "2           11B Road Blackwater  October 17, 2012       20.0  \n",
       "3                    Margeurite    March 30, 2013        8.0  \n",
       "4  150 Mile House-330 Valley Rd     April 7, 2012       12.2  "
      ]
     },
     "execution_count": 69,
     "metadata": {},
     "output_type": "execute_result"
    }
   ],
   "source": [
    "# Create a dataframe with first page of data\n",
    "tbl = driver.find_element_by_xpath(\"//div[@class='dataTable-table-responsive']\").get_attribute('outerHTML')\n",
    "df = pd.read_html(tbl)[0]\n",
    "df.head()"
   ]
  },
  {
   "cell_type": "code",
   "execution_count": 70,
   "metadata": {},
   "outputs": [
    {
     "data": {
      "text/plain": [
       "44"
      ]
     },
     "execution_count": 70,
     "metadata": {},
     "output_type": "execute_result"
    }
   ],
   "source": [
    "# Find number of total pages\n",
    "num_pages = int(driver.find_elements_by_class_name('paginate_button')[-2].text)\n",
    "num_pages"
   ]
  },
  {
   "cell_type": "code",
   "execution_count": 71,
   "metadata": {},
   "outputs": [],
   "source": [
    "# Iterate through pages\n",
    "for x in range(num_pages-1):\n",
    "    \n",
    "    #go to the next page\n",
    "    next_button = driver.find_element_by_xpath(\"//*[text()='Next']\")\n",
    "    next_button.click()\n",
    "    time.sleep(2)\n",
    "\n",
    "    #scrape html table\n",
    "    tbl = driver.find_element_by_xpath(\"//div[@class='dataTable-table-responsive']\").get_attribute('outerHTML')\n",
    "    data = pd.read_html(tbl)[0]\n",
    "    df = pd.concat([df,data])\n",
    "\n",
    "#Check length of df\n",
    "len(df)"
   ]
  },
  {
   "cell_type": "code",
   "execution_count": 73,
   "metadata": {},
   "outputs": [
    {
     "data": {
      "text/html": [
       "<div>\n",
       "<style scoped>\n",
       "    .dataframe tbody tr th:only-of-type {\n",
       "        vertical-align: middle;\n",
       "    }\n",
       "\n",
       "    .dataframe tbody tr th {\n",
       "        vertical-align: top;\n",
       "    }\n",
       "\n",
       "    .dataframe thead th {\n",
       "        text-align: right;\n",
       "    }\n",
       "</style>\n",
       "<table border=\"1\" class=\"dataframe\">\n",
       "  <thead>\n",
       "    <tr style=\"text-align: right;\">\n",
       "      <th></th>\n",
       "      <th>Year</th>\n",
       "      <th>Fire Number</th>\n",
       "      <th>Fire Centre</th>\n",
       "      <th>Latitude</th>\n",
       "      <th>Longitude</th>\n",
       "      <th>Geographic</th>\n",
       "      <th>Discovery Date</th>\n",
       "      <th>Size (ha)</th>\n",
       "    </tr>\n",
       "  </thead>\n",
       "  <tbody>\n",
       "    <tr>\n",
       "      <td>0</td>\n",
       "      <td>2012</td>\n",
       "      <td>C10075 (2012)</td>\n",
       "      <td>Cariboo</td>\n",
       "      <td>52 44.747</td>\n",
       "      <td>124 22.619</td>\n",
       "      <td>Bald Face Mountain</td>\n",
       "      <td>July 14, 2012</td>\n",
       "      <td>13.0</td>\n",
       "    </tr>\n",
       "    <tr>\n",
       "      <td>1</td>\n",
       "      <td>2012</td>\n",
       "      <td>C10118 (2012)</td>\n",
       "      <td>Cariboo</td>\n",
       "      <td>52 41.849</td>\n",
       "      <td>123 00.607</td>\n",
       "      <td>Quesnel-Merston Creek</td>\n",
       "      <td>July 19, 2012</td>\n",
       "      <td>6.0</td>\n",
       "    </tr>\n",
       "    <tr>\n",
       "      <td>2</td>\n",
       "      <td>2012</td>\n",
       "      <td>C10247 (2012)</td>\n",
       "      <td>Cariboo</td>\n",
       "      <td>53 03.159</td>\n",
       "      <td>122 58.020</td>\n",
       "      <td>11B Road Blackwater</td>\n",
       "      <td>October 17, 2012</td>\n",
       "      <td>20.0</td>\n",
       "    </tr>\n",
       "    <tr>\n",
       "      <td>3</td>\n",
       "      <td>2012</td>\n",
       "      <td>C10250 (2012)</td>\n",
       "      <td>Cariboo</td>\n",
       "      <td>52 30.773</td>\n",
       "      <td>122 26.629</td>\n",
       "      <td>Margeurite</td>\n",
       "      <td>March 30, 2013</td>\n",
       "      <td>8.0</td>\n",
       "    </tr>\n",
       "    <tr>\n",
       "      <td>4</td>\n",
       "      <td>2012</td>\n",
       "      <td>C20005 (2012)</td>\n",
       "      <td>Cariboo</td>\n",
       "      <td>52 07.676</td>\n",
       "      <td>121 54.904</td>\n",
       "      <td>150 Mile House-330 Valley Rd</td>\n",
       "      <td>April 7, 2012</td>\n",
       "      <td>12.2</td>\n",
       "    </tr>\n",
       "  </tbody>\n",
       "</table>\n",
       "</div>"
      ],
      "text/plain": [
       "   Year    Fire Number Fire Centre   Latitude   Longitude  \\\n",
       "0  2012  C10075 (2012)     Cariboo  52 44.747  124 22.619   \n",
       "1  2012  C10118 (2012)     Cariboo  52 41.849  123 00.607   \n",
       "2  2012  C10247 (2012)     Cariboo  53 03.159  122 58.020   \n",
       "3  2012  C10250 (2012)     Cariboo  52 30.773  122 26.629   \n",
       "4  2012  C20005 (2012)     Cariboo  52 07.676  121 54.904   \n",
       "\n",
       "                     Geographic    Discovery Date  Size (ha)  \n",
       "0            Bald Face Mountain     July 14, 2012       13.0  \n",
       "1         Quesnel-Merston Creek     July 19, 2012        6.0  \n",
       "2           11B Road Blackwater  October 17, 2012       20.0  \n",
       "3                    Margeurite    March 30, 2013        8.0  \n",
       "4  150 Mile House-330 Valley Rd     April 7, 2012       12.2  "
      ]
     },
     "execution_count": 73,
     "metadata": {},
     "output_type": "execute_result"
    }
   ],
   "source": [
    "df.tail()"
   ]
  },
  {
   "cell_type": "code",
   "execution_count": 75,
   "metadata": {},
   "outputs": [],
   "source": [
    "# Save data as csv\n",
    "df.to_csv('Data/fires.csv',index=False)"
   ]
  }
 ],
 "metadata": {
  "kernelspec": {
   "display_name": "Python 3",
   "language": "python",
   "name": "python3"
  },
  "language_info": {
   "codemirror_mode": {
    "name": "ipython",
    "version": 3
   },
   "file_extension": ".py",
   "mimetype": "text/x-python",
   "name": "python",
   "nbconvert_exporter": "python",
   "pygments_lexer": "ipython3",
   "version": "3.7.4"
  }
 },
 "nbformat": 4,
 "nbformat_minor": 2
}
