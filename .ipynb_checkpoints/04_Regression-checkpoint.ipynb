{
 "cells": [
  {
   "cell_type": "code",
   "execution_count": 1,
   "metadata": {},
   "outputs": [],
   "source": [
    "# Dependencies\n",
    "import pandas as pd\n",
    "import numpy as np\n",
    "import matplotlib.pyplot as plt\n",
    "import seaborn as sns\n",
    "\n",
    "from sklearn.model_selection import train_test_split\n",
    "from sklearn import metrics\n",
    "\n",
    "from sklearn.linear_model import LinearRegression\n",
    "\n",
    "# from sklearn.preprocessing import MinMaxScaler\n",
    "# from tensorflow.keras.models import Sequential\n",
    "# from tensorflow.keras.layers import Dense,Dropout # Feed forward network where every neuron in one layer is connected to to the next\n",
    "# from tensorflow.keras.callbacks import EarlyStopping"
   ]
  },
  {
   "cell_type": "code",
   "execution_count": 3,
   "metadata": {},
   "outputs": [
    {
     "data": {
      "text/html": [
       "<div>\n",
       "<style scoped>\n",
       "    .dataframe tbody tr th:only-of-type {\n",
       "        vertical-align: middle;\n",
       "    }\n",
       "\n",
       "    .dataframe tbody tr th {\n",
       "        vertical-align: top;\n",
       "    }\n",
       "\n",
       "    .dataframe thead th {\n",
       "        text-align: right;\n",
       "    }\n",
       "</style>\n",
       "<table border=\"1\" class=\"dataframe\">\n",
       "  <thead>\n",
       "    <tr style=\"text-align: right;\">\n",
       "      <th></th>\n",
       "      <th>ha</th>\n",
       "      <th>spring</th>\n",
       "      <th>summer</th>\n",
       "      <th>autumn</th>\n",
       "      <th>years_since_2012</th>\n",
       "      <th>min_dist_to_roads</th>\n",
       "      <th>BG</th>\n",
       "      <th>BWBS</th>\n",
       "      <th>CWH</th>\n",
       "      <th>ESSF</th>\n",
       "      <th>ICH</th>\n",
       "      <th>IDF</th>\n",
       "      <th>MS</th>\n",
       "      <th>PP</th>\n",
       "      <th>SBPS</th>\n",
       "      <th>SBS</th>\n",
       "      <th>SWB</th>\n",
       "    </tr>\n",
       "  </thead>\n",
       "  <tbody>\n",
       "    <tr>\n",
       "      <td>0</td>\n",
       "      <td>13.0</td>\n",
       "      <td>0</td>\n",
       "      <td>1</td>\n",
       "      <td>0</td>\n",
       "      <td>0</td>\n",
       "      <td>0.684401</td>\n",
       "      <td>0</td>\n",
       "      <td>0</td>\n",
       "      <td>0</td>\n",
       "      <td>0</td>\n",
       "      <td>0</td>\n",
       "      <td>0</td>\n",
       "      <td>1</td>\n",
       "      <td>0</td>\n",
       "      <td>0</td>\n",
       "      <td>0</td>\n",
       "      <td>0</td>\n",
       "    </tr>\n",
       "    <tr>\n",
       "      <td>1</td>\n",
       "      <td>6.0</td>\n",
       "      <td>0</td>\n",
       "      <td>1</td>\n",
       "      <td>0</td>\n",
       "      <td>0</td>\n",
       "      <td>0.579264</td>\n",
       "      <td>0</td>\n",
       "      <td>0</td>\n",
       "      <td>0</td>\n",
       "      <td>0</td>\n",
       "      <td>0</td>\n",
       "      <td>0</td>\n",
       "      <td>0</td>\n",
       "      <td>0</td>\n",
       "      <td>1</td>\n",
       "      <td>0</td>\n",
       "      <td>0</td>\n",
       "    </tr>\n",
       "    <tr>\n",
       "      <td>2</td>\n",
       "      <td>20.0</td>\n",
       "      <td>0</td>\n",
       "      <td>0</td>\n",
       "      <td>1</td>\n",
       "      <td>0</td>\n",
       "      <td>0.473192</td>\n",
       "      <td>0</td>\n",
       "      <td>0</td>\n",
       "      <td>0</td>\n",
       "      <td>0</td>\n",
       "      <td>0</td>\n",
       "      <td>0</td>\n",
       "      <td>0</td>\n",
       "      <td>0</td>\n",
       "      <td>1</td>\n",
       "      <td>0</td>\n",
       "      <td>0</td>\n",
       "    </tr>\n",
       "    <tr>\n",
       "      <td>3</td>\n",
       "      <td>8.0</td>\n",
       "      <td>1</td>\n",
       "      <td>0</td>\n",
       "      <td>0</td>\n",
       "      <td>0</td>\n",
       "      <td>0.031122</td>\n",
       "      <td>0</td>\n",
       "      <td>0</td>\n",
       "      <td>0</td>\n",
       "      <td>0</td>\n",
       "      <td>0</td>\n",
       "      <td>1</td>\n",
       "      <td>0</td>\n",
       "      <td>0</td>\n",
       "      <td>0</td>\n",
       "      <td>0</td>\n",
       "      <td>0</td>\n",
       "    </tr>\n",
       "    <tr>\n",
       "      <td>4</td>\n",
       "      <td>12.2</td>\n",
       "      <td>1</td>\n",
       "      <td>0</td>\n",
       "      <td>0</td>\n",
       "      <td>0</td>\n",
       "      <td>0.046982</td>\n",
       "      <td>0</td>\n",
       "      <td>0</td>\n",
       "      <td>0</td>\n",
       "      <td>0</td>\n",
       "      <td>0</td>\n",
       "      <td>1</td>\n",
       "      <td>0</td>\n",
       "      <td>0</td>\n",
       "      <td>0</td>\n",
       "      <td>0</td>\n",
       "      <td>0</td>\n",
       "    </tr>\n",
       "  </tbody>\n",
       "</table>\n",
       "</div>"
      ],
      "text/plain": [
       "     ha  spring  summer  autumn  years_since_2012  min_dist_to_roads  BG  \\\n",
       "0  13.0       0       1       0                 0           0.684401   0   \n",
       "1   6.0       0       1       0                 0           0.579264   0   \n",
       "2  20.0       0       0       1                 0           0.473192   0   \n",
       "3   8.0       1       0       0                 0           0.031122   0   \n",
       "4  12.2       1       0       0                 0           0.046982   0   \n",
       "\n",
       "   BWBS  CWH  ESSF  ICH  IDF  MS  PP  SBPS  SBS  SWB  \n",
       "0     0    0     0    0    0   1   0     0    0    0  \n",
       "1     0    0     0    0    0   0   0     1    0    0  \n",
       "2     0    0     0    0    0   0   0     1    0    0  \n",
       "3     0    0     0    0    1   0   0     0    0    0  \n",
       "4     0    0     0    0    1   0   0     0    0    0  "
      ]
     },
     "execution_count": 3,
     "metadata": {},
     "output_type": "execute_result"
    }
   ],
   "source": [
    "# Read in cleaned data\n",
    "df = pd.read_csv('Data/fires_final.csv')\n",
    "df.head()"
   ]
  },
  {
   "cell_type": "code",
   "execution_count": 4,
   "metadata": {},
   "outputs": [
    {
     "data": {
      "text/plain": [
       "<AxesSubplot:>"
      ]
     },
     "execution_count": 4,
     "metadata": {},
     "output_type": "execute_result"
    },
    {
     "data": {
      "image/png": "[encoded data removed]",
      "text/plain": [
       "<Figure size 432x288 with 2 Axes>"
      ]
     },
     "metadata": {
      "needs_background": "light"
     },
     "output_type": "display_data"
    }
   ],
   "source": [
    "# To avoid multicolinearity we check the correlation between all vaiables\n",
    "# Calculate the correlation matrix\n",
    "corr = df.corr()\n",
    "\n",
    "# Plot the correlation heatmap\n",
    "sns.heatmap(corr, xticklabels=corr.columns, yticklabels=corr.columns, cmap='RdBu')"
   ]
  },
  {
   "cell_type": "code",
   "execution_count": 5,
   "metadata": {},
   "outputs": [],
   "source": [
    "# Remove spring and autumn\n",
    "df.drop(['spring'],axis=1,inplace=True)"
   ]
  },
  {
   "cell_type": "code",
   "execution_count": 6,
   "metadata": {},
   "outputs": [],
   "source": [
    "# Seperate features and target variables\n",
    "X = df.drop(['ha'], axis=1)\n",
    "y = df['ha']"
   ]
  },
  {
   "cell_type": "code",
   "execution_count": 7,
   "metadata": {},
   "outputs": [],
   "source": [
    "# Split data into training and testing groups\n",
    "# random_state ensures the same random split every time\n",
    "X_train, X_test, y_train, y_test = train_test_split(X, y, test_size=0.3, random_state=101)"
   ]
  },
  {
   "cell_type": "code",
   "execution_count": 8,
   "metadata": {},
   "outputs": [
    {
     "data": {
      "text/plain": [
       "774"
      ]
     },
     "execution_count": 8,
     "metadata": {},
     "output_type": "execute_result"
    }
   ],
   "source": [
    "len(y_train)"
   ]
  },
  {
   "cell_type": "markdown",
   "metadata": {},
   "source": [
    "## Simple Multi Linear Regression"
   ]
  },
  {
   "cell_type": "code",
   "execution_count": 9,
   "metadata": {
    "scrolled": true
   },
   "outputs": [
    {
     "name": "stdout",
     "output_type": "stream",
     "text": [
      "                                 OLS Regression Results                                \n",
      "=======================================================================================\n",
      "Dep. Variable:                     ha   R-squared (uncentered):                   0.061\n",
      "Model:                            OLS   Adj. R-squared (uncentered):              0.042\n",
      "Method:                 Least Squares   F-statistic:                              3.259\n",
      "Date:                Fri, 23 Jul 2021   Prob (F-statistic):                    2.77e-05\n",
      "Time:                        08:37:51   Log-Likelihood:                         -8774.1\n",
      "No. Observations:                 774   AIC:                                  1.758e+04\n",
      "Df Residuals:                     759   BIC:                                  1.765e+04\n",
      "Df Model:                          15                                                  \n",
      "Covariance Type:            nonrobust                                                  \n",
      "=====================================================================================\n",
      "                        coef    std err          t      P>|t|      [0.025      0.975]\n",
      "-------------------------------------------------------------------------------------\n",
      "summer             2249.7973   1786.596      1.259      0.208   -1257.460    5757.054\n",
      "autumn             -897.5639   3419.554     -0.262      0.793   -7610.471    5815.343\n",
      "years_since_2012    811.2192    443.139      1.831      0.068     -58.704    1681.142\n",
      "min_dist_to_roads  2940.7065   2408.488      1.221      0.222   -1787.382    7668.795\n",
      "BG                 4740.6185   4404.379      1.076      0.282   -3905.593    1.34e+04\n",
      "BWBS              -3391.4396   2322.133     -1.460      0.145   -7950.006    1167.127\n",
      "CWH               -3592.7741   3580.288     -1.003      0.316   -1.06e+04    3435.669\n",
      "ESSF              -2856.4849   2783.959     -1.026      0.305   -8321.659    2608.689\n",
      "ICH               -4543.3425   3344.934     -1.358      0.175   -1.11e+04    2023.080\n",
      "IDF               -2510.3063   2225.062     -1.128      0.260   -6878.313    1857.701\n",
      "MS                -4157.8374   4631.654     -0.898      0.370   -1.33e+04    4934.537\n",
      "PP                -2611.6330   3293.785     -0.793      0.428   -9077.644    3854.378\n",
      "SBPS               2.113e+04   4718.111      4.479      0.000    1.19e+04    3.04e+04\n",
      "SBS               -3927.6029   2855.830     -1.375      0.169   -9533.866    1678.661\n",
      "SWB               -2291.1196   7441.035     -0.308      0.758   -1.69e+04    1.23e+04\n",
      "==============================================================================\n",
      "Omnibus:                     1765.377   Durbin-Watson:                   2.008\n",
      "Prob(Omnibus):                  0.000   Jarque-Bera (JB):          6776652.268\n",
      "Skew:                          19.755   Prob(JB):                         0.00\n",
      "Kurtosis:                     459.692   Cond. No.                         33.1\n",
      "==============================================================================\n",
      "\n",
      "Warnings:\n",
      "[1] Standard Errors assume that the covariance matrix of the errors is correctly specified.\n"
     ]
    }
   ],
   "source": [
    "import statsmodels.api as sm\n",
    "est = sm.OLS(y_train,X_train)\n",
    "est2 = est.fit()\n",
    "print(est2.summary())"
   ]
  },
  {
   "cell_type": "code",
   "execution_count": 10,
   "metadata": {},
   "outputs": [],
   "source": [
    "# Remove very non significant values\n",
    "df.drop(['autumn','BG','IDF','CWH','ESSF','MS','PP','SWB'],axis=1,inplace=True)"
   ]
  },
  {
   "cell_type": "code",
   "execution_count": 11,
   "metadata": {},
   "outputs": [
    {
     "name": "stdout",
     "output_type": "stream",
     "text": [
      "                                 OLS Regression Results                                \n",
      "=======================================================================================\n",
      "Dep. Variable:                     ha   R-squared (uncentered):                   0.054\n",
      "Model:                            OLS   Adj. R-squared (uncentered):              0.045\n",
      "Method:                 Least Squares   F-statistic:                              6.261\n",
      "Date:                Fri, 23 Jul 2021   Prob (F-statistic):                    3.71e-07\n",
      "Time:                        08:38:10   Log-Likelihood:                         -8776.7\n",
      "No. Observations:                 774   AIC:                                  1.757e+04\n",
      "Df Residuals:                     767   BIC:                                  1.760e+04\n",
      "Df Model:                           7                                                  \n",
      "Covariance Type:            nonrobust                                                  \n",
      "=====================================================================================\n",
      "                        coef    std err          t      P>|t|      [0.025      0.975]\n",
      "-------------------------------------------------------------------------------------\n",
      "summer             1144.0262   1400.446      0.817      0.414   -1605.136    3893.188\n",
      "years_since_2012    434.1784    348.553      1.246      0.213    -250.052    1118.409\n",
      "min_dist_to_roads  2529.0555   2364.078      1.070      0.285   -2111.775    7169.886\n",
      "BWBS              -1731.5289   1951.467     -0.887      0.375   -5562.378    2099.321\n",
      "ICH               -2585.7730   2876.056     -0.899      0.369   -8231.649    3060.103\n",
      "SBPS               2.281e+04   4469.015      5.105      0.000     1.4e+04    3.16e+04\n",
      "SBS               -1984.3463   2422.311     -0.819      0.413   -6739.492    2770.799\n",
      "==============================================================================\n",
      "Omnibus:                     1770.990   Durbin-Watson:                   2.011\n",
      "Prob(Omnibus):                  0.000   Jarque-Bera (JB):          6850513.402\n",
      "Skew:                          19.908   Prob(JB):                         0.00\n",
      "Kurtosis:                     462.166   Cond. No.                         19.3\n",
      "==============================================================================\n",
      "\n",
      "Warnings:\n",
      "[1] Standard Errors assume that the covariance matrix of the errors is correctly specified.\n"
     ]
    }
   ],
   "source": [
    "# Rerun model\n",
    "X = df.drop(['ha'], axis=1)\n",
    "y = df['ha']\n",
    "X_train, X_test, y_train, y_test = train_test_split(X, y, test_size=0.3, random_state=101)\n",
    "est = sm.OLS(y_train,X_train)\n",
    "est2 = est.fit()\n",
    "print(est2.summary())"
   ]
  },
  {
   "cell_type": "code",
   "execution_count": 12,
   "metadata": {},
   "outputs": [
    {
     "data": {
      "text/plain": [
       "-0.07853238760717263"
      ]
     },
     "execution_count": 12,
     "metadata": {},
     "output_type": "execute_result"
    }
   ],
   "source": [
    "# No extreme correlations -> check for overfitting by comparing R2 of model to predicted R2\n",
    "y_pred = est2.predict(X_test)\n",
    "metrics.r2_score(y_test,y_pred)"
   ]
  },
  {
   "cell_type": "code",
   "execution_count": 13,
   "metadata": {},
   "outputs": [],
   "source": [
    "# Remove very non significant values\n",
    "df.drop(['summer','BWBS','ICH','SBS'],axis=1,inplace=True)"
   ]
  },
  {
   "cell_type": "code",
   "execution_count": 14,
   "metadata": {},
   "outputs": [
    {
     "name": "stdout",
     "output_type": "stream",
     "text": [
      "                                 OLS Regression Results                                \n",
      "=======================================================================================\n",
      "Dep. Variable:                     ha   R-squared (uncentered):                   0.051\n",
      "Model:                            OLS   Adj. R-squared (uncentered):              0.047\n",
      "Method:                 Least Squares   F-statistic:                              13.85\n",
      "Date:                Fri, 23 Jul 2021   Prob (F-statistic):                    8.33e-09\n",
      "Time:                        08:38:52   Log-Likelihood:                         -8777.9\n",
      "No. Observations:                 774   AIC:                                  1.756e+04\n",
      "Df Residuals:                     771   BIC:                                  1.758e+04\n",
      "Df Model:                           3                                                  \n",
      "Covariance Type:            nonrobust                                                  \n",
      "=====================================================================================\n",
      "                        coef    std err          t      P>|t|      [0.025      0.975]\n",
      "-------------------------------------------------------------------------------------\n",
      "years_since_2012    425.4767    280.011      1.519      0.129    -124.199     975.152\n",
      "min_dist_to_roads  2118.3975   1774.460      1.194      0.233   -1364.949    5601.744\n",
      "SBPS               2.348e+04   4418.526      5.314      0.000    1.48e+04    3.22e+04\n",
      "==============================================================================\n",
      "Omnibus:                     1771.620   Durbin-Watson:                   2.004\n",
      "Prob(Omnibus):                  0.000   Jarque-Bera (JB):          6851644.466\n",
      "Skew:                          19.926   Prob(JB):                         0.00\n",
      "Kurtosis:                     462.201   Cond. No.                         18.6\n",
      "==============================================================================\n",
      "\n",
      "Warnings:\n",
      "[1] Standard Errors assume that the covariance matrix of the errors is correctly specified.\n"
     ]
    }
   ],
   "source": [
    "# Rerun model\n",
    "X = df.drop(['ha'], axis=1)\n",
    "y = df['ha']\n",
    "X_train, X_test, y_train, y_test = train_test_split(X, y, test_size=0.3, random_state=101)\n",
    "est = sm.OLS(y_train,X_train)\n",
    "est2 = est.fit()\n",
    "print(est2.summary())"
   ]
  },
  {
   "cell_type": "code",
   "execution_count": 12,
   "metadata": {},
   "outputs": [
    {
     "data": {
      "text/plain": [
       "-0.10671891775493747"
      ]
     },
     "execution_count": 12,
     "metadata": {},
     "output_type": "execute_result"
    }
   ],
   "source": [
    "# No extreme correlations -> check for overfitting by comparing R2 of model to predicted R2\n",
    "y_pred = est2.predict(X_test)\n",
    "metrics.r2_score(y_test,y_pred)"
   ]
  },
  {
   "cell_type": "code",
   "execution_count": 12,
   "metadata": {},
   "outputs": [],
   "source": [
    "# The R2 is way lower for the test data set than the training data set suggesting over fitting"
   ]
  },
  {
   "cell_type": "code",
   "execution_count": 17,
   "metadata": {},
   "outputs": [],
   "source": [
    "# Use cross validation to try and prevent overfitting\n",
    "from sklearn.model_selection import cross_val_score"
   ]
  },
  {
   "cell_type": "code",
   "execution_count": 18,
   "metadata": {},
   "outputs": [],
   "source": [
    "multireg = LinearRegression()"
   ]
  },
  {
   "cell_type": "code",
   "execution_count": 23,
   "metadata": {},
   "outputs": [
    {
     "data": {
      "text/plain": [
       "0.015259287395135712"
      ]
     },
     "execution_count": 23,
     "metadata": {},
     "output_type": "execute_result"
    }
   ],
   "source": [
    "cross_val_score(multireg,X,y,cv=5).mean()"
   ]
  },
  {
   "cell_type": "code",
   "execution_count": 5,
   "metadata": {},
   "outputs": [
    {
     "data": {
      "text/plain": [
       "LinearRegression(copy_X=True, fit_intercept=True, n_jobs=None, normalize=False)"
      ]
     },
     "execution_count": 5,
     "metadata": {},
     "output_type": "execute_result"
    }
   ],
   "source": [
    "# fit a linear regression model to the training data\n",
    "lm = LinearRegression()\n",
    "lm.fit(X_train,y_train)"
   ]
  },
  {
   "cell_type": "code",
   "execution_count": 6,
   "metadata": {},
   "outputs": [
    {
     "data": {
      "text/plain": [
       "array([2.00344644, 2.44999441, 2.57947814, 2.18600943, 2.26504663])"
      ]
     },
     "execution_count": 6,
     "metadata": {},
     "output_type": "execute_result"
    }
   ],
   "source": [
    "# Make predictions\n",
    "predictions = lm.predict(X_test)\n",
    "predictions[0:5]"
   ]
  },
  {
   "cell_type": "code",
   "execution_count": 7,
   "metadata": {},
   "outputs": [
    {
     "data": {
      "text/plain": [
       "<matplotlib.collections.PathCollection at 0x2833d9f7f88>"
      ]
     },
     "execution_count": 7,
     "metadata": {},
     "output_type": "execute_result"
    },
    {
     "data": {
      "image/png": "[encoded data removed]",
      "text/plain": [
       "<Figure size 432x288 with 1 Axes>"
      ]
     },
     "metadata": {
      "needs_background": "light"
     },
     "output_type": "display_data"
    }
   ],
   "source": [
    "# This model has a very weak fit. Ideally, thr points should be close together and form diagonal line\n",
    "# This is unsuprsing though because if it was easy to predict wildfires from these simple features, they wouldn't be a problem\n",
    "plt.scatter(y_test,predictions)"
   ]
  },
  {
   "cell_type": "code",
   "execution_count": 8,
   "metadata": {},
   "outputs": [
    {
     "data": {
      "text/plain": [
       "<AxesSubplot:>"
      ]
     },
     "execution_count": 8,
     "metadata": {},
     "output_type": "execute_result"
    },
    {
     "data": {
      "image/png": "[encoded data removed]",
      "text/plain": [
       "<Figure size 432x288 with 1 Axes>"
      ]
     },
     "metadata": {
      "needs_background": "light"
     },
     "output_type": "display_data"
    }
   ],
   "source": [
    "#histogram of residuals (diff between actual and predicted values)\n",
    "# residuals are distributed fairly normally so lin model was correct\n",
    "sns.distplot((y_test-predictions))"
   ]
  },
  {
   "cell_type": "code",
   "execution_count": 9,
   "metadata": {},
   "outputs": [
    {
     "data": {
      "text/plain": [
       "0.47715735044103846"
      ]
     },
     "execution_count": 9,
     "metadata": {},
     "output_type": "execute_result"
    }
   ],
   "source": [
    "# Mean absolute error (average difference between true and predicted)\n",
    "metrics.mean_absolute_error(y_test,predictions)"
   ]
  },
  {
   "cell_type": "markdown",
   "metadata": {},
   "source": [
    "## Regression with Tensorflow"
   ]
  },
  {
   "cell_type": "code",
   "execution_count": 21,
   "metadata": {},
   "outputs": [
    {
     "data": {
      "text/plain": [
       "0.0"
      ]
     },
     "execution_count": 21,
     "metadata": {},
     "output_type": "execute_result"
    }
   ],
   "source": [
    "# Avoid issues with weights and biases by normalizing features\n",
    "scaler = MinMaxScaler()\n",
    "scaler.fit(X_train)\n",
    "X_train = scaler.transform(X_train)\n",
    "X_test = scaler.transform(X_test)\n",
    "X_train.min()"
   ]
  },
  {
   "cell_type": "code",
   "execution_count": 22,
   "metadata": {},
   "outputs": [
    {
     "data": {
      "text/plain": [
       "(661, 4)"
      ]
     },
     "execution_count": 22,
     "metadata": {},
     "output_type": "execute_result"
    }
   ],
   "source": [
    "# Create sequential model\n",
    "# Base number of neurons on size of feature data\n",
    "X_train.shape"
   ]
  },
  {
   "cell_type": "code",
   "execution_count": 23,
   "metadata": {},
   "outputs": [],
   "source": [
    "# Pass list of layers\n",
    "# 4 features-> neurons \n",
    "model = Sequential()\n",
    "\n",
    "model.add(Dense(4,activation='relu'))# relu is <0 = 0, >0 = actual\n",
    "# model.add(Dropout(0.25))# % neurons you're turning off turing training\n",
    "\n",
    "model.add(Dense(4,activation='relu'))\n",
    "# model.add(Dropout(0.25))\n",
    "\n",
    "model.add(Dense(4,activation='relu'))\n",
    "# model.add(Dropout(0.25))\n",
    "\n",
    "model.add(Dense(1)) # final output (single ha value)\n",
    "\n",
    "model.compile(optimizer='adam',loss='mse')"
   ]
  },
  {
   "cell_type": "code",
   "execution_count": 24,
   "metadata": {},
   "outputs": [],
   "source": [
    "# Use callbacks to stop training when loss begins to increase\n",
    "early_stop = EarlyStopping(monitor='val_loss',mode='min',verbose=1,patience=20)# minimize loss"
   ]
  },
  {
   "cell_type": "code",
   "execution_count": 25,
   "metadata": {
    "scrolled": true
   },
   "outputs": [
    {
     "name": "stdout",
     "output_type": "stream",
     "text": [
      "Epoch 1/500\n",
      "21/21 [==============================] - 1s 23ms/step - loss: 4.8315 - val_loss: 4.1594\n",
      "Epoch 2/500\n",
      "21/21 [==============================] - 0s 8ms/step - loss: 4.1548 - val_loss: 3.1652\n",
      "Epoch 3/500\n",
      "21/21 [==============================] - 0s 11ms/step - loss: 3.1179 - val_loss: 2.1632\n",
      "Epoch 4/500\n",
      "21/21 [==============================] - 0s 6ms/step - loss: 2.0156 - val_loss: 1.2751\n",
      "Epoch 5/500\n",
      "21/21 [==============================] - 0s 6ms/step - loss: 1.1565 - val_loss: 0.6737\n",
      "Epoch 6/500\n",
      "21/21 [==============================] - 0s 9ms/step - loss: 0.5920 - val_loss: 0.4218\n",
      "Epoch 7/500\n",
      "21/21 [==============================] - 0s 4ms/step - loss: 0.3677 - val_loss: 0.3801\n",
      "Epoch 8/500\n",
      "21/21 [==============================] - 0s 4ms/step - loss: 0.3788 - val_loss: 0.3816\n",
      "Epoch 9/500\n",
      "21/21 [==============================] - 0s 4ms/step - loss: 0.3633 - val_loss: 0.3800\n",
      "Epoch 10/500\n",
      "21/21 [==============================] - 0s 5ms/step - loss: 0.3482 - val_loss: 0.3772\n",
      "Epoch 11/500\n",
      "21/21 [==============================] - 0s 6ms/step - loss: 0.3645 - val_loss: 0.3749\n",
      "Epoch 12/500\n",
      "21/21 [==============================] - 0s 7ms/step - loss: 0.3757 - val_loss: 0.3747\n",
      "Epoch 13/500\n",
      "21/21 [==============================] - 0s 7ms/step - loss: 0.3531 - val_loss: 0.3711\n",
      "Epoch 14/500\n",
      "21/21 [==============================] - 0s 8ms/step - loss: 0.3519 - val_loss: 0.3700\n",
      "Epoch 15/500\n",
      "21/21 [==============================] - 0s 6ms/step - loss: 0.3366 - val_loss: 0.3684\n",
      "Epoch 16/500\n",
      "21/21 [==============================] - 0s 7ms/step - loss: 0.3462 - val_loss: 0.3671\n",
      "Epoch 17/500\n",
      "21/21 [==============================] - 0s 6ms/step - loss: 0.3451 - val_loss: 0.3664\n",
      "Epoch 18/500\n",
      "21/21 [==============================] - 0s 16ms/step - loss: 0.3600 - val_loss: 0.3644\n",
      "Epoch 19/500\n",
      "21/21 [==============================] - 0s 10ms/step - loss: 0.3419 - val_loss: 0.3632\n",
      "Epoch 20/500\n",
      "21/21 [==============================] - 0s 6ms/step - loss: 0.3269 - val_loss: 0.3617\n",
      "Epoch 21/500\n",
      "21/21 [==============================] - 0s 7ms/step - loss: 0.3411 - val_loss: 0.3616\n",
      "Epoch 22/500\n",
      "21/21 [==============================] - 0s 8ms/step - loss: 0.3390 - val_loss: 0.3616\n",
      "Epoch 23/500\n",
      "21/21 [==============================] - 0s 7ms/step - loss: 0.3572 - val_loss: 0.3576\n",
      "Epoch 24/500\n",
      "21/21 [==============================] - 0s 9ms/step - loss: 0.3372 - val_loss: 0.3569\n",
      "Epoch 25/500\n",
      "21/21 [==============================] - 0s 6ms/step - loss: 0.3299 - val_loss: 0.3570\n",
      "Epoch 26/500\n",
      "21/21 [==============================] - 0s 5ms/step - loss: 0.3380 - val_loss: 0.3551\n",
      "Epoch 27/500\n",
      "21/21 [==============================] - 0s 5ms/step - loss: 0.3189 - val_loss: 0.3550\n",
      "Epoch 28/500\n",
      "21/21 [==============================] - 0s 10ms/step - loss: 0.3249 - val_loss: 0.3531\n",
      "Epoch 29/500\n",
      "21/21 [==============================] - 0s 6ms/step - loss: 0.3353 - val_loss: 0.3529\n",
      "Epoch 30/500\n",
      "21/21 [==============================] - 0s 8ms/step - loss: 0.3481 - val_loss: 0.3524\n",
      "Epoch 31/500\n",
      "21/21 [==============================] - 0s 13ms/step - loss: 0.3182 - val_loss: 0.3510\n",
      "Epoch 32/500\n",
      "21/21 [==============================] - 0s 12ms/step - loss: 0.3267 - val_loss: 0.3511\n",
      "Epoch 33/500\n",
      "21/21 [==============================] - 0s 8ms/step - loss: 0.3447 - val_loss: 0.3484\n",
      "Epoch 34/500\n",
      "21/21 [==============================] - 0s 7ms/step - loss: 0.3093 - val_loss: 0.3500\n",
      "Epoch 35/500\n",
      "21/21 [==============================] - 0s 8ms/step - loss: 0.3070 - val_loss: 0.3473\n",
      "Epoch 36/500\n",
      "21/21 [==============================] - 0s 11ms/step - loss: 0.3392 - val_loss: 0.3481\n",
      "Epoch 37/500\n",
      "21/21 [==============================] - 0s 8ms/step - loss: 0.3211 - val_loss: 0.3453\n",
      "Epoch 38/500\n",
      "21/21 [==============================] - 0s 5ms/step - loss: 0.2999 - val_loss: 0.3449\n",
      "Epoch 39/500\n",
      "21/21 [==============================] - 0s 5ms/step - loss: 0.3249 - val_loss: 0.3447\n",
      "Epoch 40/500\n",
      "21/21 [==============================] - 0s 10ms/step - loss: 0.3401 - val_loss: 0.3441\n",
      "Epoch 41/500\n",
      "21/21 [==============================] - 0s 6ms/step - loss: 0.3283 - val_loss: 0.3440\n",
      "Epoch 42/500\n",
      "21/21 [==============================] - 0s 12ms/step - loss: 0.3266 - val_loss: 0.3422\n",
      "Epoch 43/500\n",
      "21/21 [==============================] - 0s 5ms/step - loss: 0.3099 - val_loss: 0.3419\n",
      "Epoch 44/500\n",
      "21/21 [==============================] - 0s 5ms/step - loss: 0.3234 - val_loss: 0.3422\n",
      "Epoch 45/500\n",
      "21/21 [==============================] - 0s 6ms/step - loss: 0.3119 - val_loss: 0.3406\n",
      "Epoch 46/500\n",
      "21/21 [==============================] - 0s 7ms/step - loss: 0.3079 - val_loss: 0.3413\n",
      "Epoch 47/500\n",
      "21/21 [==============================] - 0s 8ms/step - loss: 0.3210 - val_loss: 0.3413\n",
      "Epoch 48/500\n",
      "21/21 [==============================] - 0s 8ms/step - loss: 0.3271 - val_loss: 0.3386\n",
      "Epoch 49/500\n",
      "21/21 [==============================] - 0s 11ms/step - loss: 0.3119 - val_loss: 0.3404\n",
      "Epoch 50/500\n",
      "21/21 [==============================] - 0s 8ms/step - loss: 0.3123 - val_loss: 0.3380\n",
      "Epoch 51/500\n",
      "21/21 [==============================] - 0s 6ms/step - loss: 0.3139 - val_loss: 0.3378\n",
      "Epoch 52/500\n",
      "21/21 [==============================] - 0s 9ms/step - loss: 0.3202 - val_loss: 0.3371\n",
      "Epoch 53/500\n",
      "21/21 [==============================] - 0s 7ms/step - loss: 0.3326 - val_loss: 0.3374\n",
      "Epoch 54/500\n",
      "21/21 [==============================] - 0s 12ms/step - loss: 0.3119 - val_loss: 0.3371\n",
      "Epoch 55/500\n",
      "21/21 [==============================] - 0s 7ms/step - loss: 0.3190 - val_loss: 0.3360\n",
      "Epoch 56/500\n",
      "21/21 [==============================] - 0s 6ms/step - loss: 0.3183 - val_loss: 0.3370\n",
      "Epoch 57/500\n",
      "21/21 [==============================] - 0s 5ms/step - loss: 0.3161 - val_loss: 0.3342\n",
      "Epoch 58/500\n",
      "21/21 [==============================] - 0s 8ms/step - loss: 0.3297 - val_loss: 0.3356\n",
      "Epoch 59/500\n",
      "21/21 [==============================] - 0s 9ms/step - loss: 0.3163 - val_loss: 0.3345\n",
      "Epoch 60/500\n",
      "21/21 [==============================] - 0s 9ms/step - loss: 0.3028 - val_loss: 0.3340\n",
      "Epoch 61/500\n",
      "21/21 [==============================] - 0s 9ms/step - loss: 0.3054 - val_loss: 0.3338\n",
      "Epoch 62/500\n",
      "21/21 [==============================] - 0s 7ms/step - loss: 0.3181 - val_loss: 0.3332\n",
      "Epoch 63/500\n",
      "21/21 [==============================] - 0s 6ms/step - loss: 0.3006 - val_loss: 0.3325\n",
      "Epoch 64/500\n",
      "21/21 [==============================] - 0s 6ms/step - loss: 0.3082 - val_loss: 0.3340\n",
      "Epoch 65/500\n",
      "21/21 [==============================] - 0s 7ms/step - loss: 0.3123 - val_loss: 0.3325\n",
      "Epoch 66/500\n",
      "21/21 [==============================] - 0s 11ms/step - loss: 0.3005 - val_loss: 0.3321\n",
      "Epoch 67/500\n",
      "21/21 [==============================] - 0s 7ms/step - loss: 0.3091 - val_loss: 0.3320\n",
      "Epoch 68/500\n",
      "21/21 [==============================] - 0s 7ms/step - loss: 0.3205 - val_loss: 0.3317\n",
      "Epoch 69/500\n",
      "21/21 [==============================] - 0s 7ms/step - loss: 0.3194 - val_loss: 0.3314\n",
      "Epoch 70/500\n",
      "21/21 [==============================] - 0s 7ms/step - loss: 0.3078 - val_loss: 0.3308\n",
      "Epoch 71/500\n",
      "21/21 [==============================] - 0s 8ms/step - loss: 0.3148 - val_loss: 0.3306\n",
      "Epoch 72/500\n",
      "21/21 [==============================] - 0s 10ms/step - loss: 0.3251 - val_loss: 0.3306\n",
      "Epoch 73/500\n",
      "21/21 [==============================] - 0s 7ms/step - loss: 0.3151 - val_loss: 0.3310\n",
      "Epoch 74/500\n",
      "21/21 [==============================] - 0s 7ms/step - loss: 0.3104 - val_loss: 0.3296\n",
      "Epoch 75/500\n",
      "21/21 [==============================] - 0s 7ms/step - loss: 0.3119 - val_loss: 0.3293\n",
      "Epoch 76/500\n",
      "21/21 [==============================] - 0s 6ms/step - loss: 0.3261 - val_loss: 0.3315\n",
      "Epoch 77/500\n",
      "21/21 [==============================] - 0s 13ms/step - loss: 0.2986 - val_loss: 0.3294\n",
      "Epoch 78/500\n",
      "21/21 [==============================] - 0s 6ms/step - loss: 0.3113 - val_loss: 0.3288\n",
      "Epoch 79/500\n",
      "21/21 [==============================] - 0s 7ms/step - loss: 0.3039 - val_loss: 0.3289\n",
      "Epoch 80/500\n",
      "21/21 [==============================] - 0s 7ms/step - loss: 0.2978 - val_loss: 0.3294\n",
      "Epoch 81/500\n",
      "21/21 [==============================] - 0s 7ms/step - loss: 0.3112 - val_loss: 0.3293\n",
      "Epoch 82/500\n",
      "21/21 [==============================] - 0s 6ms/step - loss: 0.3006 - val_loss: 0.3287\n"
     ]
    },
    {
     "name": "stdout",
     "output_type": "stream",
     "text": [
      "Epoch 83/500\n",
      "21/21 [==============================] - 0s 5ms/step - loss: 0.3236 - val_loss: 0.3288\n",
      "Epoch 84/500\n",
      "21/21 [==============================] - 0s 6ms/step - loss: 0.3008 - val_loss: 0.3293\n",
      "Epoch 85/500\n",
      "21/21 [==============================] - 0s 5ms/step - loss: 0.2997 - val_loss: 0.3279\n",
      "Epoch 86/500\n",
      "21/21 [==============================] - 0s 8ms/step - loss: 0.2803 - val_loss: 0.3284\n",
      "Epoch 87/500\n",
      "21/21 [==============================] - 0s 9ms/step - loss: 0.3099 - val_loss: 0.3285\n",
      "Epoch 88/500\n",
      "21/21 [==============================] - 0s 5ms/step - loss: 0.2868 - val_loss: 0.3283\n",
      "Epoch 89/500\n",
      "21/21 [==============================] - 0s 5ms/step - loss: 0.2889 - val_loss: 0.3270\n",
      "Epoch 90/500\n",
      "21/21 [==============================] - 0s 6ms/step - loss: 0.3056 - val_loss: 0.3289\n",
      "Epoch 91/500\n",
      "21/21 [==============================] - 0s 7ms/step - loss: 0.2915 - val_loss: 0.3267\n",
      "Epoch 92/500\n",
      "21/21 [==============================] - 0s 5ms/step - loss: 0.2992 - val_loss: 0.3271\n",
      "Epoch 93/500\n",
      "21/21 [==============================] - 0s 6ms/step - loss: 0.3158 - val_loss: 0.3289\n",
      "Epoch 94/500\n",
      "21/21 [==============================] - 0s 7ms/step - loss: 0.3194 - val_loss: 0.3275\n",
      "Epoch 95/500\n",
      "21/21 [==============================] - 0s 6ms/step - loss: 0.2967 - val_loss: 0.3256\n",
      "Epoch 96/500\n",
      "21/21 [==============================] - 0s 6ms/step - loss: 0.2876 - val_loss: 0.3271\n",
      "Epoch 97/500\n",
      "21/21 [==============================] - 0s 8ms/step - loss: 0.3110 - val_loss: 0.3264\n",
      "Epoch 98/500\n",
      "21/21 [==============================] - 0s 6ms/step - loss: 0.3013 - val_loss: 0.3276\n",
      "Epoch 99/500\n",
      "21/21 [==============================] - 0s 10ms/step - loss: 0.2965 - val_loss: 0.3268\n",
      "Epoch 100/500\n",
      "21/21 [==============================] - 0s 12ms/step - loss: 0.2949 - val_loss: 0.3260\n",
      "Epoch 101/500\n",
      "21/21 [==============================] - 0s 10ms/step - loss: 0.3116 - val_loss: 0.3266\n",
      "Epoch 102/500\n",
      "21/21 [==============================] - 0s 7ms/step - loss: 0.3012 - val_loss: 0.3258\n",
      "Epoch 103/500\n",
      "21/21 [==============================] - 0s 7ms/step - loss: 0.3134 - val_loss: 0.3266\n",
      "Epoch 104/500\n",
      "21/21 [==============================] - 0s 10ms/step - loss: 0.3080 - val_loss: 0.3259\n",
      "Epoch 105/500\n",
      "21/21 [==============================] - 0s 15ms/step - loss: 0.3112 - val_loss: 0.3262\n",
      "Epoch 106/500\n",
      "21/21 [==============================] - 0s 8ms/step - loss: 0.2992 - val_loss: 0.3261\n",
      "Epoch 107/500\n",
      "21/21 [==============================] - 0s 9ms/step - loss: 0.2848 - val_loss: 0.3256\n",
      "Epoch 108/500\n",
      "21/21 [==============================] - 0s 7ms/step - loss: 0.3168 - val_loss: 0.3253\n",
      "Epoch 109/500\n",
      "21/21 [==============================] - 0s 7ms/step - loss: 0.3028 - val_loss: 0.3262\n",
      "Epoch 110/500\n",
      "21/21 [==============================] - 0s 10ms/step - loss: 0.3071 - val_loss: 0.3256\n",
      "Epoch 111/500\n",
      "21/21 [==============================] - 0s 6ms/step - loss: 0.2903 - val_loss: 0.3262\n",
      "Epoch 112/500\n",
      "21/21 [==============================] - 0s 6ms/step - loss: 0.2926 - val_loss: 0.3255\n",
      "Epoch 113/500\n",
      "21/21 [==============================] - 0s 6ms/step - loss: 0.3064 - val_loss: 0.3257\n",
      "Epoch 114/500\n",
      "21/21 [==============================] - 0s 8ms/step - loss: 0.2858 - val_loss: 0.3259\n",
      "Epoch 115/500\n",
      "21/21 [==============================] - 0s 8ms/step - loss: 0.2967 - val_loss: 0.3255\n",
      "Epoch 116/500\n",
      "21/21 [==============================] - 0s 8ms/step - loss: 0.2818 - val_loss: 0.3253\n",
      "Epoch 117/500\n",
      "21/21 [==============================] - 0s 8ms/step - loss: 0.2921 - val_loss: 0.3255\n",
      "Epoch 118/500\n",
      "21/21 [==============================] - 0s 5ms/step - loss: 0.2892 - val_loss: 0.3270\n",
      "Epoch 119/500\n",
      "21/21 [==============================] - 0s 6ms/step - loss: 0.2940 - val_loss: 0.3252\n",
      "Epoch 120/500\n",
      "21/21 [==============================] - 0s 9ms/step - loss: 0.2967 - val_loss: 0.3263\n",
      "Epoch 121/500\n",
      "21/21 [==============================] - 0s 6ms/step - loss: 0.2877 - val_loss: 0.3256\n",
      "Epoch 122/500\n",
      "21/21 [==============================] - 0s 8ms/step - loss: 0.2797 - val_loss: 0.3258\n",
      "Epoch 123/500\n",
      "21/21 [==============================] - 0s 7ms/step - loss: 0.2924 - val_loss: 0.3245\n",
      "Epoch 124/500\n",
      "21/21 [==============================] - 0s 10ms/step - loss: 0.2901 - val_loss: 0.3259\n",
      "Epoch 125/500\n",
      "21/21 [==============================] - 0s 7ms/step - loss: 0.2850 - val_loss: 0.3255\n",
      "Epoch 126/500\n",
      "21/21 [==============================] - 0s 7ms/step - loss: 0.2946 - val_loss: 0.3262\n",
      "Epoch 127/500\n",
      "21/21 [==============================] - 0s 5ms/step - loss: 0.2984 - val_loss: 0.3252\n",
      "Epoch 128/500\n",
      "21/21 [==============================] - 0s 7ms/step - loss: 0.2805 - val_loss: 0.3246\n",
      "Epoch 129/500\n",
      "21/21 [==============================] - 0s 12ms/step - loss: 0.2877 - val_loss: 0.3255\n",
      "Epoch 130/500\n",
      "21/21 [==============================] - 0s 5ms/step - loss: 0.2895 - val_loss: 0.3252\n",
      "Epoch 131/500\n",
      "21/21 [==============================] - 0s 5ms/step - loss: 0.3053 - val_loss: 0.3245\n",
      "Epoch 132/500\n",
      "21/21 [==============================] - 0s 5ms/step - loss: 0.2930 - val_loss: 0.3257\n",
      "Epoch 133/500\n",
      "21/21 [==============================] - 0s 5ms/step - loss: 0.2825 - val_loss: 0.3270\n",
      "Epoch 134/500\n",
      "21/21 [==============================] - 0s 5ms/step - loss: 0.2789 - val_loss: 0.3249\n",
      "Epoch 135/500\n",
      "21/21 [==============================] - 0s 5ms/step - loss: 0.3109 - val_loss: 0.3260\n",
      "Epoch 136/500\n",
      "21/21 [==============================] - 0s 6ms/step - loss: 0.2976 - val_loss: 0.3251\n",
      "Epoch 137/500\n",
      "21/21 [==============================] - 0s 8ms/step - loss: 0.3037 - val_loss: 0.3263\n",
      "Epoch 138/500\n",
      "21/21 [==============================] - 0s 8ms/step - loss: 0.2970 - val_loss: 0.3242\n",
      "Epoch 139/500\n",
      "21/21 [==============================] - 0s 9ms/step - loss: 0.3024 - val_loss: 0.3254\n",
      "Epoch 140/500\n",
      "21/21 [==============================] - 0s 4ms/step - loss: 0.2897 - val_loss: 0.3255\n",
      "Epoch 141/500\n",
      "21/21 [==============================] - 0s 5ms/step - loss: 0.3071 - val_loss: 0.3253\n",
      "Epoch 142/500\n",
      "21/21 [==============================] - 0s 7ms/step - loss: 0.2972 - val_loss: 0.3259\n",
      "Epoch 143/500\n",
      "21/21 [==============================] - 0s 12ms/step - loss: 0.2857 - val_loss: 0.3248\n",
      "Epoch 144/500\n",
      "21/21 [==============================] - 0s 7ms/step - loss: 0.2831 - val_loss: 0.3260\n",
      "Epoch 145/500\n",
      "21/21 [==============================] - 0s 5ms/step - loss: 0.2740 - val_loss: 0.3254\n",
      "Epoch 146/500\n",
      "21/21 [==============================] - 0s 5ms/step - loss: 0.3039 - val_loss: 0.3246\n",
      "Epoch 147/500\n",
      "21/21 [==============================] - 0s 12ms/step - loss: 0.3098 - val_loss: 0.3257\n",
      "Epoch 148/500\n",
      "21/21 [==============================] - 0s 10ms/step - loss: 0.2962 - val_loss: 0.3257\n",
      "Epoch 149/500\n",
      "21/21 [==============================] - 0s 8ms/step - loss: 0.2990 - val_loss: 0.3249\n",
      "Epoch 150/500\n",
      "21/21 [==============================] - 0s 7ms/step - loss: 0.2885 - val_loss: 0.3261\n",
      "Epoch 151/500\n",
      "21/21 [==============================] - 0s 5ms/step - loss: 0.3008 - val_loss: 0.3249\n",
      "Epoch 152/500\n",
      "21/21 [==============================] - 0s 9ms/step - loss: 0.2769 - val_loss: 0.3259\n",
      "Epoch 153/500\n",
      "21/21 [==============================] - 0s 7ms/step - loss: 0.2775 - val_loss: 0.3247\n",
      "Epoch 154/500\n",
      "21/21 [==============================] - 0s 7ms/step - loss: 0.2707 - val_loss: 0.3249\n",
      "Epoch 155/500\n",
      "21/21 [==============================] - 0s 6ms/step - loss: 0.3082 - val_loss: 0.3252\n",
      "Epoch 156/500\n",
      "21/21 [==============================] - 0s 5ms/step - loss: 0.2961 - val_loss: 0.3252\n",
      "Epoch 157/500\n",
      "21/21 [==============================] - 0s 12ms/step - loss: 0.2894 - val_loss: 0.3260\n",
      "Epoch 158/500\n",
      "21/21 [==============================] - 0s 13ms/step - loss: 0.2890 - val_loss: 0.3243\n",
      "Epoch 00158: early stopping\n"
     ]
    },
    {
     "data": {
      "text/plain": [
       "<tensorflow.python.keras.callbacks.History at 0x12d333a0988>"
      ]
     },
     "execution_count": 25,
     "metadata": {},
     "output_type": "execute_result"
    }
   ],
   "source": [
    "# Train the model\n",
    "# Pass in validation data (after each epoch, run the test data and check loss)\n",
    "model.fit(X_train,y_train,\n",
    "          validation_data=(X_test,y_test),epochs=500,\n",
    "          callbacks=[early_stop])#batch_size is an option for larger datasets"
   ]
  },
  {
   "cell_type": "code",
   "execution_count": 26,
   "metadata": {},
   "outputs": [
    {
     "data": {
      "text/plain": [
       "<AxesSubplot:>"
      ]
     },
     "execution_count": 26,
     "metadata": {},
     "output_type": "execute_result"
    },
    {
     "data": {
      "image/png": "[encoded data removed]",
      "text/plain": [
       "<Figure size 432x288 with 1 Axes>"
      ]
     },
     "metadata": {
      "needs_background": "light"
     },
     "output_type": "display_data"
    }
   ],
   "source": [
    "# Traning and validation loss lines are identical indicating that we can continue training without overfitting data\n",
    "# Loss cuts off after 20 epochs\n",
    "loss_df = pd.DataFrame(model.history.history)\n",
    "loss_df.plot()"
   ]
  },
  {
   "cell_type": "code",
   "execution_count": 27,
   "metadata": {},
   "outputs": [],
   "source": [
    "# have model predict prices\n",
    "predictions_tnsrflw = model.predict(X_test)"
   ]
  },
  {
   "cell_type": "code",
   "execution_count": 28,
   "metadata": {},
   "outputs": [
    {
     "data": {
      "text/plain": [
       "0.47444807525869187"
      ]
     },
     "execution_count": 28,
     "metadata": {},
     "output_type": "execute_result"
    }
   ],
   "source": [
    "# Error went down with tensorflow\n",
    "metrics.mean_absolute_error(y_test,predictions_tnsrflw)"
   ]
  },
  {
   "cell_type": "code",
   "execution_count": 29,
   "metadata": {},
   "outputs": [],
   "source": [
    "# Try to improve model by adjusting number of layers, nodes, and adding dropouts\n",
    "model = Sequential()\n",
    "\n",
    "model.add(Dense(4,activation='relu'))\n",
    "# model.add(Dropout(0.2))# % neurons you're turning off turing training (didn't improve model)\n",
    "model.add(Dense(3,activation='relu'))\n",
    "model.add(Dense(2,activation='relu'))\n",
    "model.add(Dense(1))\n",
    "\n",
    "model.compile(optimizer='adam',loss='mse')"
   ]
  },
  {
   "cell_type": "code",
   "execution_count": 30,
   "metadata": {
    "scrolled": true
   },
   "outputs": [
    {
     "name": "stdout",
     "output_type": "stream",
     "text": [
      "Epoch 1/500\n",
      "21/21 [==============================] - 1s 33ms/step - loss: 1.6407 - val_loss: 1.2912\n",
      "Epoch 2/500\n",
      "21/21 [==============================] - 0s 6ms/step - loss: 1.2671 - val_loss: 0.9690\n",
      "Epoch 3/500\n",
      "21/21 [==============================] - 0s 6ms/step - loss: 0.8709 - val_loss: 0.8185\n",
      "Epoch 4/500\n",
      "21/21 [==============================] - 0s 6ms/step - loss: 0.7983 - val_loss: 0.7594\n",
      "Epoch 5/500\n",
      "21/21 [==============================] - 0s 6ms/step - loss: 0.6891 - val_loss: 0.7190\n",
      "Epoch 6/500\n",
      "21/21 [==============================] - 0s 11ms/step - loss: 0.6435 - val_loss: 0.6805\n",
      "Epoch 7/500\n",
      "21/21 [==============================] - 0s 6ms/step - loss: 0.5950 - val_loss: 0.6441\n",
      "Epoch 8/500\n",
      "21/21 [==============================] - 0s 6ms/step - loss: 0.6012 - val_loss: 0.6103\n",
      "Epoch 9/500\n",
      "21/21 [==============================] - 0s 10ms/step - loss: 0.5585 - val_loss: 0.5815\n",
      "Epoch 10/500\n",
      "21/21 [==============================] - 0s 6ms/step - loss: 0.5115 - val_loss: 0.5561\n",
      "Epoch 11/500\n",
      "21/21 [==============================] - 0s 6ms/step - loss: 0.5104 - val_loss: 0.5334\n",
      "Epoch 12/500\n",
      "21/21 [==============================] - 0s 6ms/step - loss: 0.4638 - val_loss: 0.5135\n",
      "Epoch 13/500\n",
      "21/21 [==============================] - 0s 6ms/step - loss: 0.4797 - val_loss: 0.4943\n",
      "Epoch 14/500\n",
      "21/21 [==============================] - 0s 6ms/step - loss: 0.4123 - val_loss: 0.4783\n",
      "Epoch 15/500\n",
      "21/21 [==============================] - 0s 5ms/step - loss: 0.4127 - val_loss: 0.4631\n",
      "Epoch 16/500\n",
      "21/21 [==============================] - 0s 6ms/step - loss: 0.4016 - val_loss: 0.4495\n",
      "Epoch 17/500\n",
      "21/21 [==============================] - 0s 6ms/step - loss: 0.3981 - val_loss: 0.4369\n",
      "Epoch 18/500\n",
      "21/21 [==============================] - 0s 9ms/step - loss: 0.3778 - val_loss: 0.4248\n",
      "Epoch 19/500\n",
      "21/21 [==============================] - 0s 7ms/step - loss: 0.3886 - val_loss: 0.4142\n",
      "Epoch 20/500\n",
      "21/21 [==============================] - 0s 5ms/step - loss: 0.3832 - val_loss: 0.4060\n",
      "Epoch 21/500\n",
      "21/21 [==============================] - 0s 6ms/step - loss: 0.3437 - val_loss: 0.3975\n",
      "Epoch 22/500\n",
      "21/21 [==============================] - 0s 8ms/step - loss: 0.3433 - val_loss: 0.3912\n",
      "Epoch 23/500\n",
      "21/21 [==============================] - 0s 11ms/step - loss: 0.3230 - val_loss: 0.3839\n",
      "Epoch 24/500\n",
      "21/21 [==============================] - 0s 8ms/step - loss: 0.3395 - val_loss: 0.3767\n",
      "Epoch 25/500\n",
      "21/21 [==============================] - 0s 16ms/step - loss: 0.3290 - val_loss: 0.3724\n",
      "Epoch 26/500\n",
      "21/21 [==============================] - 0s 6ms/step - loss: 0.3397 - val_loss: 0.3674\n",
      "Epoch 27/500\n",
      "21/21 [==============================] - 0s 6ms/step - loss: 0.3330 - val_loss: 0.3633\n",
      "Epoch 28/500\n",
      "21/21 [==============================] - 0s 9ms/step - loss: 0.3292 - val_loss: 0.3586\n",
      "Epoch 29/500\n",
      "21/21 [==============================] - 0s 11ms/step - loss: 0.3177 - val_loss: 0.3557\n",
      "Epoch 30/500\n",
      "21/21 [==============================] - 0s 10ms/step - loss: 0.3308 - val_loss: 0.3526\n",
      "Epoch 31/500\n",
      "21/21 [==============================] - 0s 11ms/step - loss: 0.3203 - val_loss: 0.3499\n",
      "Epoch 32/500\n",
      "21/21 [==============================] - 0s 7ms/step - loss: 0.3192 - val_loss: 0.3468\n",
      "Epoch 33/500\n",
      "21/21 [==============================] - 0s 10ms/step - loss: 0.3067 - val_loss: 0.3455\n",
      "Epoch 34/500\n",
      "21/21 [==============================] - 0s 6ms/step - loss: 0.3321 - val_loss: 0.3432\n",
      "Epoch 35/500\n",
      "21/21 [==============================] - 0s 7ms/step - loss: 0.3048 - val_loss: 0.3400\n",
      "Epoch 36/500\n",
      "21/21 [==============================] - 0s 7ms/step - loss: 0.3517 - val_loss: 0.3397\n",
      "Epoch 37/500\n",
      "21/21 [==============================] - 0s 6ms/step - loss: 0.3264 - val_loss: 0.3386\n",
      "Epoch 38/500\n",
      "21/21 [==============================] - 0s 6ms/step - loss: 0.3052 - val_loss: 0.3364\n",
      "Epoch 39/500\n",
      "21/21 [==============================] - 0s 5ms/step - loss: 0.3211 - val_loss: 0.3352\n",
      "Epoch 40/500\n",
      "21/21 [==============================] - 0s 6ms/step - loss: 0.3279 - val_loss: 0.3340\n",
      "Epoch 41/500\n",
      "21/21 [==============================] - ETA: 0s - loss: 0.206 - 0s 9ms/step - loss: 0.2861 - val_loss: 0.3342\n",
      "Epoch 42/500\n",
      "21/21 [==============================] - 0s 7ms/step - loss: 0.3335 - val_loss: 0.3317\n",
      "Epoch 43/500\n",
      "21/21 [==============================] - ETA: 0s - loss: 0.332 - 0s 12ms/step - loss: 0.3288 - val_loss: 0.3314\n",
      "Epoch 44/500\n",
      "21/21 [==============================] - 0s 10ms/step - loss: 0.3496 - val_loss: 0.3311\n",
      "Epoch 45/500\n",
      "21/21 [==============================] - 0s 6ms/step - loss: 0.3262 - val_loss: 0.3295\n",
      "Epoch 46/500\n",
      "21/21 [==============================] - 0s 7ms/step - loss: 0.3222 - val_loss: 0.3290\n",
      "Epoch 47/500\n",
      "21/21 [==============================] - 0s 6ms/step - loss: 0.2993 - val_loss: 0.3281\n",
      "Epoch 48/500\n",
      "21/21 [==============================] - 0s 8ms/step - loss: 0.3271 - val_loss: 0.3307\n",
      "Epoch 49/500\n",
      "21/21 [==============================] - 0s 10ms/step - loss: 0.3050 - val_loss: 0.3268\n",
      "Epoch 50/500\n",
      "21/21 [==============================] - 0s 13ms/step - loss: 0.3012 - val_loss: 0.3279\n",
      "Epoch 51/500\n",
      "21/21 [==============================] - 0s 11ms/step - loss: 0.3182 - val_loss: 0.3263\n",
      "Epoch 52/500\n",
      "21/21 [==============================] - 0s 11ms/step - loss: 0.3079 - val_loss: 0.3260\n",
      "Epoch 53/500\n",
      "21/21 [==============================] - 0s 8ms/step - loss: 0.3222 - val_loss: 0.3255\n",
      "Epoch 54/500\n",
      "21/21 [==============================] - 0s 10ms/step - loss: 0.3229 - val_loss: 0.3261\n",
      "Epoch 55/500\n",
      "21/21 [==============================] - 0s 8ms/step - loss: 0.3237 - val_loss: 0.3243\n",
      "Epoch 56/500\n",
      "21/21 [==============================] - 0s 8ms/step - loss: 0.3277 - val_loss: 0.3246\n",
      "Epoch 57/500\n",
      "21/21 [==============================] - 0s 8ms/step - loss: 0.2986 - val_loss: 0.3238\n",
      "Epoch 58/500\n",
      "21/21 [==============================] - 0s 7ms/step - loss: 0.3097 - val_loss: 0.3247\n",
      "Epoch 59/500\n",
      "21/21 [==============================] - 0s 7ms/step - loss: 0.3245 - val_loss: 0.3230\n",
      "Epoch 60/500\n",
      "21/21 [==============================] - 0s 7ms/step - loss: 0.3062 - val_loss: 0.3238\n",
      "Epoch 61/500\n",
      "21/21 [==============================] - 0s 15ms/step - loss: 0.3282 - val_loss: 0.3227\n",
      "Epoch 62/500\n",
      "21/21 [==============================] - 0s 7ms/step - loss: 0.3197 - val_loss: 0.3229\n",
      "Epoch 63/500\n",
      "21/21 [==============================] - 0s 7ms/step - loss: 0.3071 - val_loss: 0.3214\n",
      "Epoch 64/500\n",
      "21/21 [==============================] - 0s 8ms/step - loss: 0.3060 - val_loss: 0.3227\n",
      "Epoch 65/500\n",
      "21/21 [==============================] - 0s 8ms/step - loss: 0.3301 - val_loss: 0.3224\n",
      "Epoch 66/500\n",
      "21/21 [==============================] - 0s 6ms/step - loss: 0.2996 - val_loss: 0.3220\n",
      "Epoch 67/500\n",
      "21/21 [==============================] - 0s 7ms/step - loss: 0.3109 - val_loss: 0.3215\n",
      "Epoch 68/500\n",
      "21/21 [==============================] - 0s 6ms/step - loss: 0.3320 - val_loss: 0.3210\n",
      "Epoch 69/500\n",
      "21/21 [==============================] - 0s 5ms/step - loss: 0.3072 - val_loss: 0.3217\n",
      "Epoch 70/500\n",
      "21/21 [==============================] - 0s 5ms/step - loss: 0.3093 - val_loss: 0.3219\n",
      "Epoch 71/500\n",
      "21/21 [==============================] - 0s 5ms/step - loss: 0.3097 - val_loss: 0.3200\n",
      "Epoch 72/500\n",
      "21/21 [==============================] - 0s 5ms/step - loss: 0.3149 - val_loss: 0.3206\n",
      "Epoch 73/500\n",
      "21/21 [==============================] - 0s 5ms/step - loss: 0.3205 - val_loss: 0.3202\n",
      "Epoch 74/500\n",
      "21/21 [==============================] - 0s 6ms/step - loss: 0.3053 - val_loss: 0.3208\n",
      "Epoch 75/500\n",
      "21/21 [==============================] - 0s 5ms/step - loss: 0.3145 - val_loss: 0.3201\n",
      "Epoch 76/500\n",
      "21/21 [==============================] - 0s 5ms/step - loss: 0.3164 - val_loss: 0.3200\n",
      "Epoch 77/500\n",
      "21/21 [==============================] - 0s 6ms/step - loss: 0.3132 - val_loss: 0.3198\n",
      "Epoch 78/500\n",
      "21/21 [==============================] - 0s 8ms/step - loss: 0.2943 - val_loss: 0.3198\n",
      "Epoch 79/500\n",
      "21/21 [==============================] - 0s 5ms/step - loss: 0.3163 - val_loss: 0.3193\n",
      "Epoch 80/500\n",
      "21/21 [==============================] - 0s 8ms/step - loss: 0.3130 - val_loss: 0.3192\n",
      "Epoch 81/500\n",
      "21/21 [==============================] - 0s 9ms/step - loss: 0.3248 - val_loss: 0.3213\n",
      "Epoch 82/500\n",
      "21/21 [==============================] - 0s 8ms/step - loss: 0.3074 - val_loss: 0.3191\n",
      "Epoch 83/500\n",
      "21/21 [==============================] - 0s 10ms/step - loss: 0.3202 - val_loss: 0.3183\n",
      "Epoch 84/500\n",
      "21/21 [==============================] - 0s 8ms/step - loss: 0.3083 - val_loss: 0.3188\n",
      "Epoch 85/500\n",
      "21/21 [==============================] - 0s 6ms/step - loss: 0.3195 - val_loss: 0.3204\n",
      "Epoch 86/500\n",
      "21/21 [==============================] - 0s 6ms/step - loss: 0.3113 - val_loss: 0.3176\n",
      "Epoch 87/500\n",
      "21/21 [==============================] - 0s 6ms/step - loss: 0.3053 - val_loss: 0.3195\n",
      "Epoch 88/500\n",
      "21/21 [==============================] - 0s 6ms/step - loss: 0.3124 - val_loss: 0.3185\n",
      "Epoch 89/500\n",
      "21/21 [==============================] - 0s 8ms/step - loss: 0.3158 - val_loss: 0.3192\n",
      "Epoch 90/500\n",
      "21/21 [==============================] - 0s 16ms/step - loss: 0.3029 - val_loss: 0.3174\n",
      "Epoch 91/500\n",
      "21/21 [==============================] - 0s 11ms/step - loss: 0.3290 - val_loss: 0.3186\n",
      "Epoch 92/500\n",
      "21/21 [==============================] - 0s 8ms/step - loss: 0.3349 - val_loss: 0.3170\n",
      "Epoch 93/500\n",
      "21/21 [==============================] - 0s 8ms/step - loss: 0.3070 - val_loss: 0.3181\n",
      "Epoch 94/500\n",
      "21/21 [==============================] - 0s 6ms/step - loss: 0.3152 - val_loss: 0.3185\n",
      "Epoch 95/500\n",
      "21/21 [==============================] - 0s 5ms/step - loss: 0.2883 - val_loss: 0.3180\n",
      "Epoch 96/500\n",
      "21/21 [==============================] - 0s 9ms/step - loss: 0.3043 - val_loss: 0.3182\n",
      "Epoch 97/500\n",
      "21/21 [==============================] - 0s 8ms/step - loss: 0.3086 - val_loss: 0.3183\n",
      "Epoch 98/500\n",
      "21/21 [==============================] - 0s 12ms/step - loss: 0.3086 - val_loss: 0.3168\n",
      "Epoch 99/500\n",
      "21/21 [==============================] - 0s 14ms/step - loss: 0.3336 - val_loss: 0.3181\n",
      "Epoch 100/500\n",
      "21/21 [==============================] - 0s 11ms/step - loss: 0.3320 - val_loss: 0.3179\n",
      "Epoch 101/500\n",
      "21/21 [==============================] - 0s 8ms/step - loss: 0.3088 - val_loss: 0.3185\n",
      "Epoch 102/500\n",
      "21/21 [==============================] - 0s 11ms/step - loss: 0.3256 - val_loss: 0.3170\n",
      "Epoch 103/500\n",
      "21/21 [==============================] - 0s 7ms/step - loss: 0.3072 - val_loss: 0.3189\n",
      "Epoch 104/500\n",
      "21/21 [==============================] - 0s 5ms/step - loss: 0.3108 - val_loss: 0.3164\n",
      "Epoch 105/500\n",
      "21/21 [==============================] - 0s 9ms/step - loss: 0.3279 - val_loss: 0.3172\n",
      "Epoch 106/500\n",
      "21/21 [==============================] - 0s 8ms/step - loss: 0.2897 - val_loss: 0.3171\n",
      "Epoch 107/500\n",
      "21/21 [==============================] - 0s 10ms/step - loss: 0.3003 - val_loss: 0.3168\n",
      "Epoch 108/500\n",
      "21/21 [==============================] - 0s 8ms/step - loss: 0.3412 - val_loss: 0.3168\n",
      "Epoch 109/500\n",
      "21/21 [==============================] - 0s 11ms/step - loss: 0.3050 - val_loss: 0.3182\n",
      "Epoch 110/500\n",
      "21/21 [==============================] - 0s 8ms/step - loss: 0.3194 - val_loss: 0.3166\n",
      "Epoch 111/500\n",
      "21/21 [==============================] - 0s 5ms/step - loss: 0.3112 - val_loss: 0.3163\n",
      "Epoch 112/500\n",
      "21/21 [==============================] - 0s 6ms/step - loss: 0.3014 - val_loss: 0.3174\n",
      "Epoch 113/500\n",
      "21/21 [==============================] - 0s 10ms/step - loss: 0.3107 - val_loss: 0.3169\n",
      "Epoch 114/500\n",
      "21/21 [==============================] - 0s 17ms/step - loss: 0.3237 - val_loss: 0.3156\n",
      "Epoch 115/500\n",
      "21/21 [==============================] - 0s 6ms/step - loss: 0.3230 - val_loss: 0.3172\n",
      "Epoch 116/500\n",
      "21/21 [==============================] - 0s 8ms/step - loss: 0.2997 - val_loss: 0.3164\n",
      "Epoch 117/500\n",
      "21/21 [==============================] - 0s 10ms/step - loss: 0.3218 - val_loss: 0.3162\n",
      "Epoch 118/500\n",
      "21/21 [==============================] - 0s 9ms/step - loss: 0.3015 - val_loss: 0.3165\n",
      "Epoch 119/500\n",
      "21/21 [==============================] - 0s 7ms/step - loss: 0.3257 - val_loss: 0.3162\n",
      "Epoch 120/500\n",
      "21/21 [==============================] - 0s 10ms/step - loss: 0.3237 - val_loss: 0.3159\n",
      "Epoch 121/500\n",
      "21/21 [==============================] - 0s 9ms/step - loss: 0.3153 - val_loss: 0.3167\n",
      "Epoch 122/500\n",
      "21/21 [==============================] - 0s 7ms/step - loss: 0.3132 - val_loss: 0.3166\n",
      "Epoch 123/500\n",
      "21/21 [==============================] - 0s 7ms/step - loss: 0.2897 - val_loss: 0.3162\n",
      "Epoch 124/500\n",
      "21/21 [==============================] - 0s 7ms/step - loss: 0.3287 - val_loss: 0.3185\n",
      "Epoch 125/500\n",
      "21/21 [==============================] - 0s 6ms/step - loss: 0.3119 - val_loss: 0.3162\n",
      "Epoch 126/500\n",
      "21/21 [==============================] - 0s 12ms/step - loss: 0.3074 - val_loss: 0.3153\n",
      "Epoch 127/500\n",
      "21/21 [==============================] - 0s 7ms/step - loss: 0.3273 - val_loss: 0.3167\n",
      "Epoch 128/500\n",
      "21/21 [==============================] - 0s 6ms/step - loss: 0.3247 - val_loss: 0.3162\n",
      "Epoch 129/500\n",
      "21/21 [==============================] - 0s 11ms/step - loss: 0.3103 - val_loss: 0.3172\n",
      "Epoch 130/500\n",
      "21/21 [==============================] - 0s 7ms/step - loss: 0.3161 - val_loss: 0.3164\n",
      "Epoch 131/500\n",
      "21/21 [==============================] - 0s 6ms/step - loss: 0.3154 - val_loss: 0.3171\n",
      "Epoch 132/500\n",
      "21/21 [==============================] - 0s 9ms/step - loss: 0.3049 - val_loss: 0.3153\n",
      "Epoch 133/500\n",
      "21/21 [==============================] - 0s 10ms/step - loss: 0.3145 - val_loss: 0.3158\n",
      "Epoch 134/500\n",
      "21/21 [==============================] - 0s 5ms/step - loss: 0.3198 - val_loss: 0.3159\n",
      "Epoch 135/500\n",
      "21/21 [==============================] - 0s 7ms/step - loss: 0.3145 - val_loss: 0.3165\n",
      "Epoch 136/500\n",
      "21/21 [==============================] - 0s 6ms/step - loss: 0.3225 - val_loss: 0.3164\n",
      "Epoch 137/500\n",
      "21/21 [==============================] - 0s 5ms/step - loss: 0.3254 - val_loss: 0.3167\n",
      "Epoch 138/500\n",
      "21/21 [==============================] - 0s 7ms/step - loss: 0.3148 - val_loss: 0.3158\n",
      "Epoch 139/500\n",
      "21/21 [==============================] - 0s 7ms/step - loss: 0.3188 - val_loss: 0.3167\n",
      "Epoch 140/500\n",
      "21/21 [==============================] - 0s 6ms/step - loss: 0.3117 - val_loss: 0.3160\n",
      "Epoch 141/500\n",
      "21/21 [==============================] - 0s 7ms/step - loss: 0.3205 - val_loss: 0.3151\n",
      "Epoch 142/500\n",
      "21/21 [==============================] - 0s 9ms/step - loss: 0.3061 - val_loss: 0.3164\n",
      "Epoch 143/500\n",
      "21/21 [==============================] - 0s 11ms/step - loss: 0.3087 - val_loss: 0.3153\n",
      "Epoch 144/500\n",
      "21/21 [==============================] - 0s 8ms/step - loss: 0.3072 - val_loss: 0.3157\n",
      "Epoch 145/500\n",
      "21/21 [==============================] - 0s 6ms/step - loss: 0.3280 - val_loss: 0.3161\n",
      "Epoch 146/500\n",
      "21/21 [==============================] - 0s 9ms/step - loss: 0.2970 - val_loss: 0.3150\n",
      "Epoch 147/500\n",
      "21/21 [==============================] - 0s 10ms/step - loss: 0.3153 - val_loss: 0.3157\n",
      "Epoch 148/500\n",
      "21/21 [==============================] - 0s 8ms/step - loss: 0.3189 - val_loss: 0.3153\n",
      "Epoch 149/500\n",
      "21/21 [==============================] - 0s 6ms/step - loss: 0.3170 - val_loss: 0.3156\n",
      "Epoch 150/500\n",
      "21/21 [==============================] - 0s 13ms/step - loss: 0.2966 - val_loss: 0.3165\n",
      "Epoch 151/500\n",
      "21/21 [==============================] - 0s 7ms/step - loss: 0.3070 - val_loss: 0.3152\n",
      "Epoch 152/500\n",
      "21/21 [==============================] - 0s 7ms/step - loss: 0.3084 - val_loss: 0.3166\n",
      "Epoch 153/500\n",
      "21/21 [==============================] - 0s 7ms/step - loss: 0.3113 - val_loss: 0.3154\n",
      "Epoch 154/500\n",
      "21/21 [==============================] - 0s 7ms/step - loss: 0.2900 - val_loss: 0.3152\n",
      "Epoch 155/500\n",
      "21/21 [==============================] - 0s 7ms/step - loss: 0.3028 - val_loss: 0.3154\n",
      "Epoch 156/500\n",
      "21/21 [==============================] - 0s 9ms/step - loss: 0.3081 - val_loss: 0.3160\n",
      "Epoch 157/500\n",
      "21/21 [==============================] - 0s 9ms/step - loss: 0.2956 - val_loss: 0.3151\n",
      "Epoch 158/500\n",
      "21/21 [==============================] - 0s 8ms/step - loss: 0.2953 - val_loss: 0.3151\n",
      "Epoch 159/500\n",
      "21/21 [==============================] - 0s 6ms/step - loss: 0.3166 - val_loss: 0.3159\n",
      "Epoch 160/500\n",
      "21/21 [==============================] - 0s 7ms/step - loss: 0.3158 - val_loss: 0.3149\n",
      "Epoch 161/500\n",
      "21/21 [==============================] - 0s 8ms/step - loss: 0.3064 - val_loss: 0.3148\n",
      "Epoch 162/500\n",
      "21/21 [==============================] - 0s 7ms/step - loss: 0.2929 - val_loss: 0.3153\n",
      "Epoch 163/500\n"
     ]
    },
    {
     "name": "stdout",
     "output_type": "stream",
     "text": [
      "21/21 [==============================] - 0s 7ms/step - loss: 0.3085 - val_loss: 0.3155\n",
      "Epoch 164/500\n",
      "21/21 [==============================] - 0s 6ms/step - loss: 0.3113 - val_loss: 0.3143\n",
      "Epoch 165/500\n",
      "21/21 [==============================] - 0s 8ms/step - loss: 0.3088 - val_loss: 0.3148\n",
      "Epoch 166/500\n",
      "21/21 [==============================] - 0s 7ms/step - loss: 0.3071 - val_loss: 0.3163\n",
      "Epoch 167/500\n",
      "21/21 [==============================] - 0s 7ms/step - loss: 0.3090 - val_loss: 0.3148\n",
      "Epoch 168/500\n",
      "21/21 [==============================] - 0s 7ms/step - loss: 0.3289 - val_loss: 0.3160\n",
      "Epoch 169/500\n",
      "21/21 [==============================] - 0s 7ms/step - loss: 0.3327 - val_loss: 0.3145\n",
      "Epoch 170/500\n",
      "21/21 [==============================] - 0s 7ms/step - loss: 0.2974 - val_loss: 0.3148\n",
      "Epoch 171/500\n",
      "21/21 [==============================] - 0s 7ms/step - loss: 0.3099 - val_loss: 0.3153\n",
      "Epoch 172/500\n",
      "21/21 [==============================] - 0s 6ms/step - loss: 0.3041 - val_loss: 0.3153\n",
      "Epoch 173/500\n",
      "21/21 [==============================] - 0s 7ms/step - loss: 0.3030 - val_loss: 0.3149\n",
      "Epoch 174/500\n",
      "21/21 [==============================] - 0s 6ms/step - loss: 0.3005 - val_loss: 0.3149\n",
      "Epoch 175/500\n",
      "21/21 [==============================] - 0s 5ms/step - loss: 0.3204 - val_loss: 0.3159\n",
      "Epoch 176/500\n",
      "21/21 [==============================] - 0s 7ms/step - loss: 0.3072 - val_loss: 0.3150\n",
      "Epoch 177/500\n",
      "21/21 [==============================] - 0s 10ms/step - loss: 0.3090 - val_loss: 0.3148\n",
      "Epoch 178/500\n",
      "21/21 [==============================] - 0s 8ms/step - loss: 0.3055 - val_loss: 0.3171\n",
      "Epoch 179/500\n",
      "21/21 [==============================] - 0s 16ms/step - loss: 0.3313 - val_loss: 0.3145\n",
      "Epoch 180/500\n",
      "21/21 [==============================] - 0s 7ms/step - loss: 0.3166 - val_loss: 0.3155\n",
      "Epoch 181/500\n",
      "21/21 [==============================] - 0s 6ms/step - loss: 0.3172 - val_loss: 0.3153\n",
      "Epoch 182/500\n",
      "21/21 [==============================] - 0s 7ms/step - loss: 0.3182 - val_loss: 0.3157\n",
      "Epoch 183/500\n",
      "21/21 [==============================] - 0s 7ms/step - loss: 0.3072 - val_loss: 0.3160\n",
      "Epoch 184/500\n",
      "21/21 [==============================] - 0s 8ms/step - loss: 0.3064 - val_loss: 0.3149\n",
      "Epoch 185/500\n",
      "21/21 [==============================] - 0s 11ms/step - loss: 0.3115 - val_loss: 0.3154\n",
      "Epoch 186/500\n",
      "21/21 [==============================] - 0s 10ms/step - loss: 0.3113 - val_loss: 0.3164\n",
      "Epoch 187/500\n",
      "21/21 [==============================] - 0s 8ms/step - loss: 0.2988 - val_loss: 0.3154\n",
      "Epoch 188/500\n",
      "21/21 [==============================] - 0s 5ms/step - loss: 0.3278 - val_loss: 0.3151\n",
      "Epoch 189/500\n",
      "21/21 [==============================] - 0s 9ms/step - loss: 0.3110 - val_loss: 0.3156\n",
      "Epoch 00189: early stopping\n"
     ]
    },
    {
     "data": {
      "text/plain": [
       "<tensorflow.python.keras.callbacks.History at 0x12d330d88c8>"
      ]
     },
     "execution_count": 30,
     "metadata": {},
     "output_type": "execute_result"
    }
   ],
   "source": [
    "# Train the model\n",
    "early_stop = EarlyStopping(monitor='val_loss',mode='min',verbose=1,patience=25)# minimize loss\n",
    "\n",
    "model.fit(X_train,y_train,\n",
    "          validation_data=(X_test,y_test),epochs=500,\n",
    "          callbacks=[early_stop])"
   ]
  },
  {
   "cell_type": "code",
   "execution_count": 31,
   "metadata": {},
   "outputs": [
    {
     "data": {
      "text/plain": [
       "0.4770434504890989"
      ]
     },
     "execution_count": 31,
     "metadata": {},
     "output_type": "execute_result"
    }
   ],
   "source": [
    "# The model improved, but not by much\n",
    "predictions_tnsrflw = model.predict(X_test)\n",
    "metrics.mean_absolute_error(y_test,predictions_tnsrflw)"
   ]
  },
  {
   "cell_type": "code",
   "execution_count": 32,
   "metadata": {},
   "outputs": [
    {
     "data": {
      "text/plain": [
       "0.04033887384415047"
      ]
     },
     "execution_count": 32,
     "metadata": {},
     "output_type": "execute_result"
    }
   ],
   "source": [
    "# Model only explains 4% of variance -> predictions would be unreliable\n",
    "metrics.explained_variance_score(y_test,predictions_tnsrflw)"
   ]
  },
  {
   "cell_type": "code",
   "execution_count": 19,
   "metadata": {},
   "outputs": [],
   "source": [
    "# This model has no predictive ability. Date and location don't explain fire size\n",
    "# Potential features to add:\n",
    "# - weather\n",
    "# - travel (e.g. Airbnb) <- humans cause the majority of fires"
   ]
  }
 ],
 "metadata": {
  "kernelspec": {
   "display_name": "Python 3",
   "language": "python",
   "name": "python3"
  },
  "language_info": {
   "codemirror_mode": {
    "name": "ipython",
    "version": 3
   },
   "file_extension": ".py",
   "mimetype": "text/x-python",
   "name": "python",
   "nbconvert_exporter": "python",
   "pygments_lexer": "ipython3",
   "version": "3.7.4"
  }
 },
 "nbformat": 4,
 "nbformat_minor": 2
}
